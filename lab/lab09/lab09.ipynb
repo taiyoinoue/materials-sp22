{
 "cells": [
  {
   "cell_type": "code",
   "execution_count": null,
   "id": "cell-lab09-0",
   "metadata": {
    "deletable": false,
    "editable": false,
    "id": "cell-lab09-0"
   },
   "outputs": [],
   "source": [
    "# Initialize Otter\n",
    "import otter\n",
    "grader = otter.Notebook(\"lab09.ipynb\")"
   ]
  },
  {
   "cell_type": "markdown",
   "id": "cell-lab09-1",
   "metadata": {
    "id": "cell-lab09-1"
   },
   "source": [
    "# Lab 9: Regression\n",
    "\n",
    "Welcome to Lab 9!\n",
    "\n",
    "Today we will get some hands-on practice with linear regression. You can find more information about this topic in\n",
    "[Chapter 15.2](https://www.inferentialthinking.com/chapters/15/2/Regression_Line.html#the-regression-line).\n",
    "\n",
    "**Submission**: Once you’re finished, run all cells besides the last one, select File > Save Notebook, and then execute the final cell. Then submit the downloaded zip file, that includes your notebook,  according to your instructor's directions."
   ]
  },
  {
   "cell_type": "code",
   "execution_count": null,
   "id": "cell-lab09-2",
   "metadata": {
    "id": "cell-lab09-2"
   },
   "outputs": [],
   "source": [
    "# Run this cell, but please don't change it.\n",
    "\n",
    "# These lines import the Numpy and Datascience modules.\n",
    "import numpy as np\n",
    "from datascience import *\n",
    "\n",
    "# These lines do some fancy plotting magic.\n",
    "import matplotlib\n",
    "%matplotlib inline\n",
    "import matplotlib.pyplot as plots\n",
    "plots.style.use('fivethirtyeight')\n",
    "import warnings\n",
    "warnings.simplefilter('ignore', FutureWarning)\n"
   ]
  },
  {
   "cell_type": "markdown",
   "id": "PaR7usO9gzQH",
   "metadata": {
    "id": "PaR7usO9gzQH"
   },
   "source": [
    "# 0. Sensorized Wearable Devices\n",
    "\n",
    "Dr. Tom Oppenheim collaborates with the Sensorimotor Neural Engineering Lab at UC Berkeley (https://neuralengatberkeley.github.io/research) to develop a sensorized hand-wearable device that tracks hand motion. This research serves two key purposes:\n",
    "\n",
    "1. To gain a deeper understanding of how the sensorimotor and motor cortex interact.\n",
    "1. To improve rehabilitation tools for medical practitioners working with individuals with motor impairments.\n",
    "\n",
    "As part of this work, they have developed a simplified method for fabricating bend-angle sensors that can stretch, flex, and adhere easily to the top of a finger joint. These sensors are made of liquid metal (gallium-indium alloy) and silicone. Below is an image of the sensor:\n",
    "\n",
    "<img src=\"https://github.com/data-8/materials-sp22-colab/blob/main/lab/lab09/Image1_strain_sensor assembly_white.png\" alt=\"drawing\" width=\"500\"/>"
   ]
  },
  {
   "cell_type": "markdown",
   "id": "BHcJKZMghDt8",
   "metadata": {
    "id": "BHcJKZMghDt8"
   },
   "source": [
    "Here is an image illustrating the placement of these sensors over the MCP joints of the thumb and index finger:\n",
    "\n",
    "<img src=\"https://github.com/data-8/materials-sp22-colab/blob/main/lab/lab09/Image2_hand_with_sensors.png\" alt=\"drawing\" width=\"500\"/>"
   ]
  },
  {
   "cell_type": "markdown",
   "id": "_J2k1HFwhQfl",
   "metadata": {
    "id": "_J2k1HFwhQfl"
   },
   "source": [
    "To evaluate the performance of these sensors, Dr. Oppenheim designed a bend-angle test setup that bends the sensors over a 3D-printed \"joint\" using a servo motor. A rotary encoder tracks the bend angle and a voltage divider circuit tracks the change in electrical resistance during testing. Below is an image of the \"auto-bender\" Dr. Oppenheim built for this characterization:\n",
    "\n",
    "<img src=\"https://github.com/data-8/materials-sp22-colab/blob/main/lab/lab09/Image3_autobender_assembly_new_new.png\" alt=\"drawing\" width=\"500\"/>"
   ]
  },
  {
   "cell_type": "markdown",
   "id": "0g4rm456hkzm",
   "metadata": {
    "id": "0g4rm456hkzm"
   },
   "source": [
    "The underlying concept of these sensors is that bending them causes stretching. As the sensor stretches, the liquid metal inside also elongates, leading to a change in electrical resistance. Theoretically, the relationship between bend angle and resistance change should be linear.\n",
    "\n",
    "Let's begin by loading the dataset, which is stored in a CSV file. This dataset contains data from a single sample tested in February 2025.\n",
    "\n",
    "Run the code below without changing anything."
   ]
  },
  {
   "cell_type": "code",
   "execution_count": null,
   "id": "tHnJfWc6g5Qm",
   "metadata": {
    "id": "tHnJfWc6g5Qm"
   },
   "outputs": [],
   "source": [
    "data = Table.read_table( \"Bending_data_abs_1p7_abs_1p7_2nd_reapply_2_4_25.csv\")\n",
    "data"
   ]
  },
  {
   "cell_type": "markdown",
   "id": "g7h-vKJqhxa-",
   "metadata": {
    "id": "g7h-vKJqhxa-"
   },
   "source": [
    "Now, let's transform the raw data into a more useful format. The ADC data, which represents electrical resistance, will be normalized by subtracting the initial resistance from each value and then dividing by the initial resistance. The rotary encoder data will be converted into angles.\n",
    "\n",
    "No need to worry—Dr. Oppenheim's provided some methods handle this for you.\n",
    "\n",
    "Run the code below."
   ]
  },
  {
   "cell_type": "code",
   "execution_count": null,
   "id": "CvkTyDzvivJD",
   "metadata": {
    "id": "CvkTyDzvivJD"
   },
   "outputs": [],
   "source": [
    "# Select the data we want:\n",
    "rot_encoder_data = data['Rotary Encoder']\n",
    "adc_data = data['ADC Value']\n",
    "\n",
    "# Normalize the rotary encoder data:\n",
    "norm_rot_encoder_data = rot_encoder_data * (320 / 1024)\n",
    "norm_rot_encoder_data = -1*(norm_rot_encoder_data - norm_rot_encoder_data[0])\n",
    "# Normalize the ADC data\n",
    "norm_adc_data = (adc_data - adc_data[0]) / adc_data[0]\n",
    "\n",
    "# Add the new normalized data to the table and filter:\n",
    "data['Bend Angle'] = norm_rot_encoder_data\n",
    "data['Normalized Resistance Change'] = norm_adc_data\n",
    "data = data.where('ADC Value', are.not_equal_to(100))\n",
    "\n",
    "# Display the updated table\n",
    "data"
   ]
  },
  {
   "cell_type": "markdown",
   "id": "57J6dOg7jIAS",
   "metadata": {
    "id": "57J6dOg7jIAS"
   },
   "source": [
    "## Part 1: Plot the Data\n",
    "\n",
    "Before performing regression, you should **plot the data** to see its trend.  \n",
    "\n",
    "Create a scatter plot of bend angle vs. electrical resistance change.\n",
    "\n",
    "🔹 **X-axis:** Bend angle (degrees)  \n",
    "🔹 **Y-axis:** Normalized electrical resistance change  \n",
    "🔹 **Label your axes** and add a title.\n",
    "\n",
    "Edit the code below to do this."
   ]
  },
  {
   "cell_type": "code",
   "execution_count": null,
   "id": "5qYZbOWKjJ4r",
   "metadata": {
    "id": "5qYZbOWKjJ4r"
   },
   "outputs": [],
   "source": [
    "plots.scatter(...)\n",
    "plots.xlabel(...)\n",
    "plots.title(...)\n",
    "plots.show()"
   ]
  },
  {
   "cell_type": "markdown",
   "id": "mmh71VcjjWb9",
   "metadata": {
    "id": "mmh71VcjjWb9"
   },
   "source": [
    "# Part 2: Compute Linear Regression\n",
    "You will now manually compute the **slope (m), y-intercept (b), and R² value** for the best-fit line.\n",
    "\n",
    "### **Steps to follow:**\n",
    "1. Compute the **mean** of x (bend angle) and y (resistance change):  \n",
    "   $$ \\bar{x} = \\frac{\\sum x_i}{n}, \\quad \\bar{y} = \\frac{\\sum y_i}{n} $$\n",
    "\n",
    "2. Calculate the **slope (m)** using the least squares method:  \n",
    "   $$ m = \\frac{\\sum (x_i - \\bar{x})(y_i - \\bar{y})}{\\sum (x_i - \\bar{x})^2} $$\n",
    "\n",
    "3. Compute the **y-intercept (b)** using the formula:  \n",
    "   $$ b = \\bar{y} - m \\bar{x} $$\n",
    "\n",
    "4. Generate **predicted y-values** using your equation:  \n",
    "   $$ \\hat{y_i} = m x_i + b $$\n",
    "\n",
    "5. Compute **R²** using:  \n",
    "   $$ R^2 = 1 - \\frac{SS_{res}}{SS_{tot}} $$\n",
    "\n",
    "   where:\n",
    "   - Residual sum of squares:  \n",
    "     $$ SS_{res} = \\sum (y_i - \\hat{y_i})^2 $$\n",
    "   - Total sum of squares:  \n",
    "     $$ SS_{tot} = \\sum (y_i - \\bar{y})^2 $$\n",
    "\n",
    "\n",
    "Edit the code below to compute each of these values."
   ]
  },
  {
   "cell_type": "code",
   "execution_count": null,
   "id": "Jkx8tbKOjcRI",
   "metadata": {
    "id": "Jkx8tbKOjcRI"
   },
   "outputs": [],
   "source": [
    "mean_x = ...\n",
    "mean_y = ...\n",
    "m = ...\n",
    "b = ...\n",
    "predicted_y = ...\n",
    "ss_res = ...\n",
    "ss_tot = ...\n",
    "r2 = ...\n",
    "\n",
    "print(f\"Slope (m): {m}\")\n",
    "print(f\"Y-Intercept (b): {b}\")\n",
    "print(f\"R² Value: {r2}\")"
   ]
  },
  {
   "cell_type": "markdown",
   "id": "eU0pDyrSjd76",
   "metadata": {
    "id": "eU0pDyrSjd76"
   },
   "source": [
    "# Part 3: Open-Ended Question\n",
    "\n",
    "**Question A.** What do you think is a benefit of having a linear relationship between bend angle and electrical resistance change? _Hint: Does it simplify sensor calibration? Improve measurement accuracy?_"
   ]
  },
  {
   "cell_type": "markdown",
   "id": "1eGAPCDJjjAh",
   "metadata": {
    "id": "1eGAPCDJjjAh"
   },
   "source": [
    "*Type your answer here, replacing this text.*"
   ]
  },
  {
   "cell_type": "markdown",
   "id": "cell-lab09-3",
   "metadata": {
    "id": "cell-lab09-3"
   },
   "source": [
    "# 1. How Faithful is Old Faithful?\n",
    "\n",
    "Old Faithful is a geyser in Yellowstone National Park that is famous for eruption on a fairly regular schedule. Run the cell below to see Old Faithful in action!"
   ]
  },
  {
   "cell_type": "code",
   "execution_count": null,
   "id": "cell-lab09-4",
   "metadata": {
    "id": "cell-lab09-4"
   },
   "outputs": [],
   "source": [
    "# For the curious: this is how to display a YouTube video in a\n",
    "# Jupyter notebook.  The argument to YouTubeVideo is the part\n",
    "# of the URL (called a \"query parameter\") that identifies the\n",
    "# video.  For example, the full URL for this video is:\n",
    "#   https://www.youtube.com/watch?v=wE8NDuzt8eg\n",
    "from IPython.display import YouTubeVideo\n",
    "YouTubeVideo(\"wE8NDuzt8eg\")"
   ]
  },
  {
   "cell_type": "markdown",
   "id": "cell-lab09-5",
   "metadata": {
    "id": "cell-lab09-5"
   },
   "source": [
    "Some of Old Faithful's eruptions last longer than others.  Whenever there is a long eruption, it is usually followed by an even longer wait before the next eruption. If you visit Yellowstone, you might want to predict when the next eruption will happen, so that you can see the rest of the park instead of waiting by the geyser.\n",
    "\n",
    "Today, we will use a dataset on eruption durations and waiting times to see if we can make such predictions accurately with linear regression.\n",
    "\n",
    "The dataset has one row for each observed eruption.  It includes the following columns:\n",
    "- `duration`: Eruption duration, in minutes\n",
    "- `wait`: Time between this eruption and the next, also in minutes\n",
    "\n",
    "Run the next cell to load the dataset."
   ]
  },
  {
   "cell_type": "code",
   "execution_count": null,
   "id": "cell-lab09-6",
   "metadata": {
    "id": "cell-lab09-6"
   },
   "outputs": [],
   "source": [
    "faithful = Table.read_table(\"faithful.csv\")\n",
    "faithful"
   ]
  },
  {
   "cell_type": "markdown",
   "id": "cell-lab09-7",
   "metadata": {
    "deletable": false,
    "editable": false,
    "id": "cell-lab09-7"
   },
   "source": [
    "**Question 1.0.** The following statements are the unordered steps of linear regression.  \n",
    "\n",
    "1. Compute the parameters of the regression line: the slope and the intercept.\n",
    "2. Evaluate the regression line by computing the line’s RMSE and analyzing the residuals plot.\n",
    "3. Use the regression line to generate predictions for each x value.\n",
    "4. Determine if linear regression is a reasonable method by visualizing your data and computing the correlation coefficient.\n",
    "\n",
    "Make an array called `least_squares_order` that contains the correct order of a linear regression analysis, where the first item of the array is the first step of an linear regression analysis and the last item of the array is the last step of an linear regression analysis.\n"
   ]
  },
  {
   "cell_type": "code",
   "execution_count": null,
   "id": "cell-lab09-8",
   "metadata": {
    "id": "cell-lab09-8",
    "tags": []
   },
   "outputs": [],
   "source": [
    "least_squares_order = ..."
   ]
  },
  {
   "cell_type": "code",
   "execution_count": null,
   "id": "cell-lab09-9",
   "metadata": {
    "deletable": false,
    "editable": false,
    "id": "cell-lab09-9"
   },
   "outputs": [],
   "source": [
    "grader.check(\"q1_0\")"
   ]
  },
  {
   "cell_type": "markdown",
   "id": "cell-lab09-10",
   "metadata": {
    "id": "cell-lab09-10"
   },
   "source": [
    "We would like to use linear regression to make predictions, but that won't work well if the data aren't roughly linearly related.  To check that, we should look at the data."
   ]
  },
  {
   "cell_type": "markdown",
   "id": "cell-lab09-11",
   "metadata": {
    "deletable": false,
    "editable": false,
    "id": "cell-lab09-11"
   },
   "source": [
    "**Question 1.1.** Make a scatter plot of the data.  It's conventional to put the column we want to predict on the vertical axis and the other column on the horizontal axis.\n"
   ]
  },
  {
   "cell_type": "code",
   "execution_count": null,
   "id": "cell-lab09-12",
   "metadata": {
    "id": "cell-lab09-12",
    "tags": []
   },
   "outputs": [],
   "source": []
  },
  {
   "cell_type": "markdown",
   "id": "cell-lab09-13",
   "metadata": {
    "deletable": false,
    "editable": false,
    "id": "cell-lab09-13"
   },
   "source": [
    "**Question 1.2.** Are eruption duration and waiting time roughly linearly related based on the scatter plot above? Is this relationship positive?\n"
   ]
  },
  {
   "cell_type": "markdown",
   "id": "cell-lab09-14",
   "metadata": {
    "id": "cell-lab09-14"
   },
   "source": [
    "We're going to continue with the assumption that they are linearly related, so it's reasonable to use linear regression to analyze this data.\n",
    "\n",
    "We'd next like to plot the data in standard units. If you don't remember the definition of standard units, textbook section [14.2](https://www.inferentialthinking.com/chapters/14/2/Variability.html#standard-units) might help!"
   ]
  },
  {
   "cell_type": "markdown",
   "id": "cell-lab09-15",
   "metadata": {
    "deletable": false,
    "editable": false,
    "id": "cell-lab09-15"
   },
   "source": [
    "**Question 1.3.** Compute the mean and standard deviation of the eruption durations and waiting times.  **Then** create a table called `faithful_standard` containing the eruption durations and waiting times in standard units.  The columns should be named `duration (standard units)` and `wait (standard units)`.\n"
   ]
  },
  {
   "cell_type": "code",
   "execution_count": null,
   "id": "cell-lab09-16",
   "metadata": {
    "for_assignment_type": "solution",
    "id": "cell-lab09-16",
    "tags": []
   },
   "outputs": [],
   "source": [
    "duration_mean = ...\n",
    "duration_std = ...\n",
    "wait_mean = ...\n",
    "wait_std = ...\n",
    "\n",
    "faithful_standard = Table().with_columns(\n",
    "    \"duration (standard units)\", ...,\n",
    "    \"wait (standard units)\", ...)\n",
    "faithful_standard"
   ]
  },
  {
   "cell_type": "code",
   "execution_count": null,
   "id": "cell-lab09-17",
   "metadata": {
    "deletable": false,
    "editable": false,
    "id": "cell-lab09-17"
   },
   "outputs": [],
   "source": [
    "grader.check(\"q1_3\")"
   ]
  },
  {
   "cell_type": "markdown",
   "id": "cell-lab09-18",
   "metadata": {
    "deletable": false,
    "editable": false,
    "id": "cell-lab09-18"
   },
   "source": [
    "**Question 1.4.** Plot the data again, but this time in standard units.\n"
   ]
  },
  {
   "cell_type": "code",
   "execution_count": null,
   "id": "cell-lab09-19",
   "metadata": {
    "id": "cell-lab09-19",
    "tags": []
   },
   "outputs": [],
   "source": [
    "..."
   ]
  },
  {
   "cell_type": "markdown",
   "id": "cell-lab09-20",
   "metadata": {
    "id": "cell-lab09-20"
   },
   "source": [
    "You'll notice that this plot looks the same as the last one!  However, the data and axes are scaled differently.  So it's important to read the ticks on the axes."
   ]
  },
  {
   "cell_type": "markdown",
   "id": "cell-lab09-21",
   "metadata": {
    "deletable": false,
    "editable": false,
    "id": "cell-lab09-21"
   },
   "source": [
    "**Question 1.5.** Among the following numbers, which would you guess is closest to the correlation between eruption duration and waiting time in this dataset?\n",
    "\n",
    "1. -1\n",
    "2. 0\n",
    "3. 1\n",
    "\n",
    "Assign `correlation` to the number corresponding to your guess (either 1, 2 or 3).\n"
   ]
  },
  {
   "cell_type": "code",
   "execution_count": null,
   "id": "cell-lab09-22",
   "metadata": {
    "id": "cell-lab09-22",
    "tags": []
   },
   "outputs": [],
   "source": [
    "correlation = ..."
   ]
  },
  {
   "cell_type": "code",
   "execution_count": null,
   "id": "cell-lab09-23",
   "metadata": {
    "deletable": false,
    "editable": false,
    "id": "cell-lab09-23"
   },
   "outputs": [],
   "source": [
    "grader.check(\"q1_5\")"
   ]
  },
  {
   "cell_type": "markdown",
   "id": "cell-lab09-24",
   "metadata": {
    "deletable": false,
    "editable": false,
    "id": "cell-lab09-24"
   },
   "source": [
    "**Question 1.6.** Compute the correlation coefficient: `r`.  \n",
    "\n",
    "*Hint:* Use `faithful_standard`.  Section [15.1](https://www.inferentialthinking.com/chapters/15/1/Correlation.html#calculating-r) explains how to do this.\n",
    "\n"
   ]
  },
  {
   "cell_type": "code",
   "execution_count": null,
   "id": "cell-lab09-25",
   "metadata": {
    "id": "cell-lab09-25",
    "tags": []
   },
   "outputs": [],
   "source": [
    "r = ...\n",
    "r"
   ]
  },
  {
   "cell_type": "code",
   "execution_count": null,
   "id": "cell-lab09-26",
   "metadata": {
    "deletable": false,
    "editable": false,
    "id": "cell-lab09-26"
   },
   "outputs": [],
   "source": [
    "grader.check(\"q1_6\")"
   ]
  },
  {
   "cell_type": "markdown",
   "id": "cell-lab09-27",
   "metadata": {
    "id": "cell-lab09-27"
   },
   "source": [
    "## 2. The regression line\n",
    "Recall that the **correlation** is the **slope of the regression line when the data are put in standard units**.\n",
    "\n",
    "The next cell plots the regression line in standard units:\n",
    "\n",
    "$$\\text{waiting time in standard units} = r \\times \\text{eruption duration in standard units}$$\n",
    "\n",
    "Then, it plots the data in standard units again, for comparison."
   ]
  },
  {
   "cell_type": "code",
   "execution_count": null,
   "id": "cell-lab09-28",
   "metadata": {
    "id": "cell-lab09-28"
   },
   "outputs": [],
   "source": [
    "def plot_data_and_line(dataset, x, y, point_0, point_1):\n",
    "    \"\"\"Makes a scatter plot of the dataset, along with a line passing through two points.\"\"\"\n",
    "    dataset.scatter(x, y, label=\"data\")\n",
    "    xs, ys = zip(point_0, point_1)\n",
    "    plots.plot(xs, ys, label=\"regression line\")\n",
    "    plots.legend(bbox_to_anchor=(1.5,.8))\n",
    "\n",
    "plot_data_and_line(faithful_standard,\n",
    "                   \"duration (standard units)\",\n",
    "                   \"wait (standard units)\",\n",
    "                   [-2, -2*r],\n",
    "                   [2, 2*r])"
   ]
  },
  {
   "cell_type": "markdown",
   "id": "cell-lab09-29",
   "metadata": {
    "deletable": false,
    "editable": false,
    "id": "cell-lab09-29"
   },
   "source": [
    "How would you take a point in standard units and convert it back to original units?  We'd have to \"stretch\" its horizontal position by `duration_std` and its vertical position by `wait_std`. That means the same thing would happen to the slope of the line.\n",
    "\n",
    "Stretching a line horizontally makes it less steep, so we divide the slope by the stretching factor.  Stretching a line vertically makes it more steep, so we multiply the slope by the stretching factor.\n",
    "\n",
    "**Question 2.1.** Calculate the slope of the regression line in original units, and assign it to `slope`.\n",
    "\n",
    "(If the \"stretching\" explanation is unintuitive, consult section [15.2](https://www.inferentialthinking.com/chapters/15/2/Regression_Line.html#the-equation-of-the-regression-line) in the textbook.)\n"
   ]
  },
  {
   "cell_type": "code",
   "execution_count": null,
   "id": "cell-lab09-30",
   "metadata": {
    "id": "cell-lab09-30",
    "tags": []
   },
   "outputs": [],
   "source": [
    "slope = ...\n",
    "slope"
   ]
  },
  {
   "cell_type": "code",
   "execution_count": null,
   "id": "cell-lab09-31",
   "metadata": {
    "deletable": false,
    "editable": false,
    "id": "cell-lab09-31"
   },
   "outputs": [],
   "source": [
    "grader.check(\"q2_1\")"
   ]
  },
  {
   "cell_type": "markdown",
   "id": "cell-lab09-32",
   "metadata": {
    "deletable": false,
    "editable": false,
    "id": "cell-lab09-32"
   },
   "source": [
    "We know that the regression line passes through the point `(duration_mean, wait_mean)`. Recall that the equation of the regression line in the original units is:\n",
    "\n",
    "$$\\text{waiting time} = \\text{slope} \\times \\text{eruption duration} + (- \\text{slope} \\times \\text{duration\\_mean + wait\\_mean})$$\n",
    "\n",
    "\n",
    "**Question 2.2.** Calculate the intercept in original units and assign it to `intercept`. [Section 15.2.5](https://inferentialthinking.com/chapters/15/2/Regression_Line.html#the-regression-line-in-standard-units) may be helpful.\n"
   ]
  },
  {
   "cell_type": "code",
   "execution_count": null,
   "id": "cell-lab09-33",
   "metadata": {
    "id": "cell-lab09-33",
    "tags": []
   },
   "outputs": [],
   "source": [
    "intercept = ...\n",
    "intercept"
   ]
  },
  {
   "cell_type": "code",
   "execution_count": null,
   "id": "cell-lab09-34",
   "metadata": {
    "deletable": false,
    "editable": false,
    "id": "cell-lab09-34"
   },
   "outputs": [],
   "source": [
    "grader.check(\"q2_2\")"
   ]
  },
  {
   "cell_type": "markdown",
   "id": "cell-lab09-35",
   "metadata": {
    "deletable": false,
    "editable": false,
    "id": "cell-lab09-35"
   },
   "source": [
    "## 3. Investigating the regression line\n",
    "The slope and intercept tell you exactly what the regression line looks like.  To predict the waiting time for an eruption, multiply the eruption's duration by `slope` and then add `intercept`.\n",
    "\n",
    "**Question 3.1.** Compute the predicted waiting time for an eruption that lasts 2 minutes, and for an eruption that lasts 5 minutes.\n"
   ]
  },
  {
   "cell_type": "code",
   "execution_count": null,
   "id": "cell-lab09-36",
   "metadata": {
    "id": "cell-lab09-36",
    "tags": []
   },
   "outputs": [],
   "source": [
    "two_minute_predicted_waiting_time = ...\n",
    "five_minute_predicted_waiting_time = ...\n",
    "\n",
    "# Here is a helper function to print out your predictions.\n",
    "# Don't modify the code below.\n",
    "def print_prediction(duration, predicted_waiting_time):\n",
    "    print(\"After an eruption lasting\", duration,\n",
    "          \"minutes, we predict you'll wait\", predicted_waiting_time,\n",
    "          \"minutes until the next eruption.\")\n",
    "\n",
    "print_prediction(2, two_minute_predicted_waiting_time)\n",
    "print_prediction(5, five_minute_predicted_waiting_time)"
   ]
  },
  {
   "cell_type": "code",
   "execution_count": null,
   "id": "cell-lab09-37",
   "metadata": {
    "deletable": false,
    "editable": false,
    "id": "cell-lab09-37"
   },
   "outputs": [],
   "source": [
    "grader.check(\"q3_1\")"
   ]
  },
  {
   "cell_type": "markdown",
   "id": "cell-lab09-38",
   "metadata": {
    "id": "cell-lab09-38"
   },
   "source": [
    "The next cell plots the line that goes between those two points, which is (a segment of) the regression line."
   ]
  },
  {
   "cell_type": "code",
   "execution_count": null,
   "id": "cell-lab09-39",
   "metadata": {
    "id": "cell-lab09-39",
    "scrolled": true
   },
   "outputs": [],
   "source": [
    "plot_data_and_line(faithful, \"duration\", \"wait\",\n",
    "                   [2, two_minute_predicted_waiting_time],\n",
    "                   [5, five_minute_predicted_waiting_time])"
   ]
  },
  {
   "cell_type": "markdown",
   "id": "cell-lab09-40",
   "metadata": {
    "deletable": false,
    "editable": false,
    "id": "cell-lab09-40"
   },
   "source": [
    "**Question 3.2.** Make predictions for the waiting time after each eruption in the `faithful` table.  (Of course, we know exactly what the waiting times were!  We are doing this so we can see how accurate our predictions are.)  Put these numbers into a column in a new table called `faithful_predictions`.  Its first row should look like this:\n",
    "\n",
    "|duration|wait|predicted wait|\n",
    "|-|-|-|\n",
    "|3.6|79|72.1011|\n",
    "\n",
    "*Hint:* Your answer can be just one line, though you are not limited to one line.  There is no need for a `for` loop; use array arithmetic instead.\n"
   ]
  },
  {
   "cell_type": "code",
   "execution_count": null,
   "id": "cell-lab09-41",
   "metadata": {
    "id": "cell-lab09-41",
    "tags": []
   },
   "outputs": [],
   "source": [
    "faithful_predictions = ...\n",
    "faithful_predictions"
   ]
  },
  {
   "cell_type": "code",
   "execution_count": null,
   "id": "cell-lab09-42",
   "metadata": {
    "deletable": false,
    "editable": false,
    "id": "cell-lab09-42"
   },
   "outputs": [],
   "source": [
    "grader.check(\"q3_2\")"
   ]
  },
  {
   "cell_type": "markdown",
   "id": "cell-lab09-43",
   "metadata": {
    "deletable": false,
    "editable": false,
    "id": "cell-lab09-43"
   },
   "source": [
    "**Question 3.3.** How close were we?  Compute the *residual* for each eruption in the dataset.  The residual is the actual waiting time minus the predicted waiting time.  Add the residuals to `faithful_predictions` as a new column called `residual` and name the resulting table `faithful_residuals`.\n",
    "\n",
    "*Hint:* Again, your code will be much simpler if you don't use a `for` loop.\n"
   ]
  },
  {
   "cell_type": "code",
   "execution_count": null,
   "id": "cell-lab09-44",
   "metadata": {
    "id": "cell-lab09-44",
    "tags": []
   },
   "outputs": [],
   "source": [
    "faithful_residuals = ...\n",
    "faithful_residuals"
   ]
  },
  {
   "cell_type": "code",
   "execution_count": null,
   "id": "cell-lab09-45",
   "metadata": {
    "deletable": false,
    "editable": false,
    "id": "cell-lab09-45"
   },
   "outputs": [],
   "source": [
    "grader.check(\"q3_3\")"
   ]
  },
  {
   "cell_type": "markdown",
   "id": "cell-lab09-46",
   "metadata": {
    "id": "cell-lab09-46"
   },
   "source": [
    "Here is a plot of the residuals you computed.  Each point corresponds to one eruption.  It shows how much our prediction over- or under-estimated the waiting time."
   ]
  },
  {
   "cell_type": "code",
   "execution_count": null,
   "id": "cell-lab09-47",
   "metadata": {
    "id": "cell-lab09-47"
   },
   "outputs": [],
   "source": [
    "faithful_residuals.scatter(\"duration\", \"residual\", color=\"r\")"
   ]
  },
  {
   "cell_type": "markdown",
   "id": "cell-lab09-48",
   "metadata": {
    "id": "cell-lab09-48"
   },
   "source": [
    "There isn't really a pattern in the residuals, which confirms that it was reasonable to try linear regression.  It's true that there are two separate clouds; the eruption durations seemed to fall into two distinct clusters.  But that's just a pattern in the eruption durations, not a pattern in the relationship between eruption durations and waiting times."
   ]
  },
  {
   "cell_type": "markdown",
   "id": "cell-lab09-49",
   "metadata": {
    "id": "cell-lab09-49"
   },
   "source": [
    "## 4. How accurate are different predictions?\n",
    "Earlier, you should have found that the correlation is fairly close to 1, so the line fits fairly well on the training data.  That means the residuals are overall small (close to 0) in comparison to the waiting times.\n",
    "\n",
    "We can see that visually by plotting the waiting times and residuals together:"
   ]
  },
  {
   "cell_type": "code",
   "execution_count": null,
   "id": "cell-lab09-50",
   "metadata": {
    "id": "cell-lab09-50"
   },
   "outputs": [],
   "source": [
    "# Just run this cell.\n",
    "faithful_residuals.scatter(\"duration\", \"wait\", label=\"actual waiting time\", color=\"blue\")\n",
    "plots.scatter(faithful_residuals.column(\"duration\"), faithful_residuals.column(\"residual\"), label=\"residual\", color=\"r\")\n",
    "plots.plot([2, 5], [two_minute_predicted_waiting_time, five_minute_predicted_waiting_time], label=\"regression line\")\n",
    "plots.legend(bbox_to_anchor=(1.7,.8));"
   ]
  },
  {
   "cell_type": "markdown",
   "id": "cell-lab09-51",
   "metadata": {
    "id": "cell-lab09-51"
   },
   "source": [
    "However, unless you have a strong reason to believe that the linear regression model is true, you should be wary of applying your prediction model to data that are very different from the training data."
   ]
  },
  {
   "cell_type": "markdown",
   "id": "cell-lab09-52",
   "metadata": {
    "deletable": false,
    "editable": false,
    "id": "cell-lab09-52"
   },
   "source": [
    "**Question 4.1.** In `faithful`, no eruption lasted exactly 0, 2.5, or 60 minutes.  Using this line, what is the predicted waiting time for an eruption that lasts 0 minutes?  2.5 minutes?  An hour?\n"
   ]
  },
  {
   "cell_type": "code",
   "execution_count": null,
   "id": "cell-lab09-53",
   "metadata": {
    "id": "cell-lab09-53",
    "tags": []
   },
   "outputs": [],
   "source": [
    "zero_minute_predicted_waiting_time = ...\n",
    "two_point_five_minute_predicted_waiting_time = ...\n",
    "hour_predicted_waiting_time = ...\n",
    "\n",
    "print_prediction(0, zero_minute_predicted_waiting_time)\n",
    "print_prediction(2.5, two_point_five_minute_predicted_waiting_time)\n",
    "print_prediction(60, hour_predicted_waiting_time)"
   ]
  },
  {
   "cell_type": "code",
   "execution_count": null,
   "id": "cell-lab09-54",
   "metadata": {
    "deletable": false,
    "editable": false,
    "id": "cell-lab09-54"
   },
   "outputs": [],
   "source": [
    "grader.check(\"q4_1\")"
   ]
  },
  {
   "cell_type": "markdown",
   "id": "cell-lab09-55",
   "metadata": {
    "deletable": false,
    "editable": false,
    "id": "cell-lab09-55"
   },
   "source": [
    "**Question 4.2.** For each prediction, state whether you think it's reliable and explain your reasoning.\n"
   ]
  },
  {
   "cell_type": "markdown",
   "id": "cell-lab09-56",
   "metadata": {
    "id": "cell-lab09-56"
   },
   "source": [
    "## 5. Divide and Conquer"
   ]
  },
  {
   "cell_type": "markdown",
   "id": "cell-lab09-57",
   "metadata": {
    "id": "cell-lab09-57"
   },
   "source": [
    "It appears from the scatter diagram that there are two clusters of points: one for durations around 2 and another for durations between 3.5 and 5. A vertical line at 3 divides the two clusters."
   ]
  },
  {
   "cell_type": "code",
   "execution_count": null,
   "id": "cell-lab09-58",
   "metadata": {
    "id": "cell-lab09-58",
    "scrolled": true
   },
   "outputs": [],
   "source": [
    "faithful.scatter(\"duration\", \"wait\", label=\"actual waiting time\", color=\"blue\")\n",
    "plots.plot([3, 3], [40, 100]);"
   ]
  },
  {
   "cell_type": "markdown",
   "id": "cell-lab09-59",
   "metadata": {
    "id": "cell-lab09-59"
   },
   "source": [
    "The `standardize` function from lecture appears below, which takes in a table with numerical columns and returns the same table with each column converted into standard units."
   ]
  },
  {
   "cell_type": "code",
   "execution_count": null,
   "id": "cell-lab09-60",
   "metadata": {
    "id": "cell-lab09-60"
   },
   "outputs": [],
   "source": [
    "# Just run this cell.\n",
    "\n",
    "def standard_units(any_numbers):\n",
    "    \"Convert any array of numbers to standard units.\"\n",
    "    return (any_numbers - np.mean(any_numbers)) / np.std(any_numbers)\n",
    "\n",
    "def standardize(t):\n",
    "    \"\"\"Return a table in which all columns of t are converted to standard units.\"\"\"\n",
    "    t_su = Table()\n",
    "    for label in t.labels:\n",
    "        t_su = t_su.with_column(label + ' (su)', standard_units(t.column(label)))\n",
    "    return t_su"
   ]
  },
  {
   "cell_type": "markdown",
   "id": "cell-lab09-61",
   "metadata": {
    "deletable": false,
    "editable": false,
    "id": "cell-lab09-61"
   },
   "source": [
    "**Question 5.1.** Separately compute the correlation coefficient *r* for all the points with a duration below 3 **and then** for all the points with a duration above 3. To do so, create a function that computes `r` from a table, and then pass it two different tables of points, called `below_3` and `above_3`.\n",
    "\n",
    "*Hint:* You can assume that the table does not have any duration values that are exactly 3.\n"
   ]
  },
  {
   "cell_type": "code",
   "execution_count": null,
   "id": "cell-lab09-62",
   "metadata": {
    "id": "cell-lab09-62",
    "tags": []
   },
   "outputs": [],
   "source": [
    "def corr_coeff(t):\n",
    "    \"\"\"Return the regression coefficient for columns 0 & 1.\"\"\"\n",
    "    t_su = standardize(t)\n",
    "    ...\n",
    "\n",
    "below_3 = ...\n",
    "above_3 = ...\n",
    "below_3_r = corr_coeff(below_3)\n",
    "above_3_r = corr_coeff(above_3)\n",
    "print(\"For points below 3, r is\", below_3_r, \"; for points above 3, r is\", above_3_r)"
   ]
  },
  {
   "cell_type": "code",
   "execution_count": null,
   "id": "cell-lab09-63",
   "metadata": {
    "deletable": false,
    "editable": false,
    "id": "cell-lab09-63"
   },
   "outputs": [],
   "source": [
    "grader.check(\"q5_1\")"
   ]
  },
  {
   "cell_type": "markdown",
   "id": "cell-lab09-64",
   "metadata": {
    "deletable": false,
    "editable": false,
    "id": "cell-lab09-64"
   },
   "source": [
    "**Question 5.2.** Complete the functions `slope_of` and `intercept_of` below.\n",
    "\n",
    "When you're done, the functions `wait_below_3` and `wait_above_3` should each use a different regression line to predict a wait time for a duration. The first function should use the regression line for all points with duration below 3. The second function should use the regression line for all points with duration above 3.\n"
   ]
  },
  {
   "cell_type": "code",
   "execution_count": null,
   "id": "cell-lab09-65",
   "metadata": {
    "id": "cell-lab09-65",
    "tags": []
   },
   "outputs": [],
   "source": [
    "def slope_of(table, r):\n",
    "    \"\"\"Return the slope of the regression line for table in original units.\n",
    "\n",
    "    Assume that column 0 contains x values and column 1 contains y values.\n",
    "    r is the regression coefficient for x and y.\n",
    "    \"\"\"\n",
    "    ...\n",
    "\n",
    "def intercept_of(table, r):\n",
    "    \"\"\"Return the intercept of the regression line for table in original units.\"\"\"\n",
    "    slope = slope_of(table, r)\n",
    "    ...\n",
    "\n",
    "below_3_slope = slope_of(below_3, below_3_r)\n",
    "below_3_intercept = intercept_of(below_3, below_3_r)\n",
    "above_3_slope = slope_of(above_3, above_3_r)\n",
    "above_3_intercept = intercept_of(above_3, above_3_r)\n",
    "\n",
    "def wait_below_3(duration):\n",
    "    return below_3_slope * duration + below_3_intercept\n",
    "\n",
    "def wait_above_3(duration):\n",
    "    return above_3_slope * duration + above_3_intercept"
   ]
  },
  {
   "cell_type": "code",
   "execution_count": null,
   "id": "cell-lab09-66",
   "metadata": {
    "deletable": false,
    "editable": false,
    "id": "cell-lab09-66"
   },
   "outputs": [],
   "source": [
    "grader.check(\"q5_2\")"
   ]
  },
  {
   "cell_type": "markdown",
   "id": "cell-lab09-67",
   "metadata": {
    "id": "cell-lab09-67"
   },
   "source": [
    "The plot below shows the two different regression lines, one for each cluster, along with the original regression line!"
   ]
  },
  {
   "cell_type": "code",
   "execution_count": null,
   "id": "cell-lab09-68",
   "metadata": {
    "id": "cell-lab09-68"
   },
   "outputs": [],
   "source": [
    "faithful.scatter(0, 1)\n",
    "plots.plot([2, 5], [two_minute_predicted_waiting_time, five_minute_predicted_waiting_time])\n",
    "plots.plot([1, 3], [wait_below_3(1), wait_below_3(3)])\n",
    "plots.plot([3, 6], [wait_above_3(3), wait_above_3(6)]);"
   ]
  },
  {
   "cell_type": "markdown",
   "id": "cell-lab09-69",
   "metadata": {
    "deletable": false,
    "editable": false,
    "id": "cell-lab09-69"
   },
   "source": [
    "**Question 5.3.** Write a function `predict_wait` that takes a `duration` and returns the predicted wait time using the appropriate regression line, depending on whether the duration is below 3 or greater than (or equal to) 3.\n"
   ]
  },
  {
   "cell_type": "code",
   "execution_count": null,
   "id": "cell-lab09-70",
   "metadata": {
    "for_assignment_type": "student",
    "id": "cell-lab09-70",
    "tags": []
   },
   "outputs": [],
   "source": [
    "def predict_wait(duration):\n",
    "    ..."
   ]
  },
  {
   "cell_type": "code",
   "execution_count": null,
   "id": "cell-lab09-71",
   "metadata": {
    "deletable": false,
    "editable": false,
    "id": "cell-lab09-71"
   },
   "outputs": [],
   "source": [
    "grader.check(\"q5_3\")"
   ]
  },
  {
   "cell_type": "markdown",
   "id": "cell-lab09-72",
   "metadata": {
    "id": "cell-lab09-72"
   },
   "source": [
    "The predicted wait times for each point appear below."
   ]
  },
  {
   "cell_type": "code",
   "execution_count": null,
   "id": "cell-lab09-73",
   "metadata": {
    "id": "cell-lab09-73"
   },
   "outputs": [],
   "source": [
    "faithful_pred_split = faithful.with_column('predicted', faithful.apply(predict_wait, 'duration'))\n",
    "faithful_pred_split.scatter(0)"
   ]
  },
  {
   "cell_type": "markdown",
   "id": "cell-lab09-74",
   "metadata": {
    "deletable": false,
    "editable": false,
    "id": "cell-lab09-74"
   },
   "source": [
    "<!-- BEGIN QUESTION -->\n",
    "\n",
    "**Question 5.4.** Do you think the predictions produced by `predict_wait` would be more or less accurate than the predictions from the regression line you created in section 2? How could you tell?"
   ]
  },
  {
   "cell_type": "markdown",
   "id": "cell-lab09-75",
   "metadata": {
    "id": "cell-lab09-75"
   },
   "source": [
    "_Type your answer here, replacing this text._"
   ]
  },
  {
   "cell_type": "markdown",
   "id": "cell-lab09-76",
   "metadata": {
    "deletable": false,
    "editable": false,
    "id": "cell-lab09-76"
   },
   "source": [
    "<!-- END QUESTION -->\n",
    "\n",
    "The following cell will plot the residuals for each eruption in the dataset when we have one regression line and two regression lines. We also see the average magnitude of the residual values."
   ]
  },
  {
   "cell_type": "code",
   "execution_count": null,
   "id": "cell-lab09-77",
   "metadata": {
    "id": "cell-lab09-77",
    "scrolled": true
   },
   "outputs": [],
   "source": [
    "# Just run this cell\n",
    "faithful_pred_split_residuals = faithful_pred_split.with_column('residual', faithful_pred_split.column(1) - faithful_pred_split.column(2))\n",
    "plots.scatter(faithful_residuals.column('duration'), faithful_residuals.column('residual'), label='one regression line')\n",
    "plots.scatter(faithful_pred_split_residuals.column('duration'), faithful_pred_split_residuals.column('residual'), label='two regression lines');\n",
    "plots.axis([1, 6, -15, 15])\n",
    "plots.legend(bbox_to_anchor=(1.5,.8));\n",
    "print(\"Average Magnitude of Residual Values for One Regression Line: \", np.mean(abs(faithful_residuals.column('residual'))))\n",
    "print(\"Average Magnitude of Residual Values for Two Regression Lines: \", np.mean(abs(faithful_pred_split_residuals.column('residual'))))"
   ]
  },
  {
   "cell_type": "markdown",
   "id": "cell-lab09-78",
   "metadata": {
    "id": "cell-lab09-78"
   },
   "source": [
    "The residual plot for the wait times when they are predicted by two regression lines (red) doesn't really have a pattern, which confirms that it was also appropriate to use linear regression in our \"Divide and Conquer\" scenario. How do the two residual plots compare?"
   ]
  },
  {
   "cell_type": "markdown",
   "id": "cell-lab09-79",
   "metadata": {
    "id": "cell-lab09-79"
   },
   "source": [
    "## 6. Submission\n",
    "\n",
    "<img src=\"lab09_pets.jpg\" alt=\"drawing\" width=\"500\"/>\n",
    "\n",
    "Congratulations, you're done with Lab 9!\n",
    "\n",
    "**Important submission steps:**\n",
    "1. Run the tests and verify that they all pass.\n",
    "2. Choose **Save Notebook** from the **File** menu, then **run the final cell**.\n",
    "3. Click the link to download the zip file.\n",
    "4. Then submit the zip file to the corresponding assignment according to your instructor's directions.\n",
    "\n",
    "**It is your responsibility to make sure your work is saved before running the last cell.**"
   ]
  },
  {
   "cell_type": "markdown",
   "id": "cell-lab09-80",
   "metadata": {
    "deletable": false,
    "editable": false,
    "id": "cell-lab09-80"
   },
   "source": [
    "## Submission\n",
    "\n",
    "Make sure you have run all cells in your notebook in order before running the cell below, so that all images/graphs appear in the output. The cell below will generate a zip file for you to submit. **Please save before exporting!**"
   ]
  },
  {
   "cell_type": "code",
   "execution_count": null,
   "id": "cell-lab09-81",
   "metadata": {
    "deletable": false,
    "editable": false,
    "id": "cell-lab09-81"
   },
   "outputs": [],
   "source": [
    "# Save your notebook first, then run this cell to export your submission.\n",
    "grader.export(run_tests=True)"
   ]
  }
 ],
 "metadata": {
  "colab": {
   "provenance": []
  },
  "kernelspec": {
   "display_name": "Python 3 (ipykernel)",
   "language": "python",
   "name": "python3"
  },
  "language_info": {
   "codemirror_mode": {
    "name": "ipython",
    "version": 3
   },
   "file_extension": ".py",
   "mimetype": "text/x-python",
   "name": "python",
   "nbconvert_exporter": "python",
   "pygments_lexer": "ipython3",
   "version": "3.9.13"
  },
  "otter": {
   "OK_FORMAT": true,
   "tests": {
    "q1_0": {
     "name": "q1_0",
     "points": null,
     "suites": [
      {
       "cases": [
        {
         "code": ">>> len(least_squares_order) == 4\nTrue",
         "hidden": false,
         "locked": false
        },
        {
         "code": ">>> import hashlib\n>>> \n>>> def get_hash(num):\n...     \"\"\"Helper function for assessing correctness.\"\"\"\n...     return hashlib.md5(str(num).encode()).hexdigest()\n>>> get_hash(np.array(least_squares_order).astype(int))\n'cd29f2d730e11535cef30ecc78640daa'",
         "hidden": false,
         "locked": false
        }
       ],
       "scored": true,
       "setup": "",
       "teardown": "",
       "type": "doctest"
      }
     ]
    },
    "q1_3": {
     "name": "q1_3",
     "points": null,
     "suites": [
      {
       "cases": [
        {
         "code": ">>> abs(sum(faithful_standard.column(0))) <= 1e-08\nTrue",
         "hidden": false,
         "locked": false
        },
        {
         "code": ">>> round(duration_std, 2) == 1.14\nTrue",
         "hidden": false,
         "locked": false
        },
        {
         "code": ">>> round(wait_std, 2) == 13.57\nTrue",
         "hidden": false,
         "locked": false
        }
       ],
       "scored": true,
       "setup": "",
       "teardown": "",
       "type": "doctest"
      }
     ]
    },
    "q1_5": {
     "name": "q1_5",
     "points": null,
     "suites": [
      {
       "cases": [
        {
         "code": ">>> import hashlib\n>>> \n>>> def get_hash(num):\n...     \"\"\"Helper function for assessing correctness.\"\"\"\n...     return hashlib.md5(str(num).encode()).hexdigest()\n>>> get_hash(int(correlation))\n'eccbc87e4b5ce2fe28308fd9f2a7baf3'",
         "hidden": false,
         "locked": false
        }
       ],
       "scored": true,
       "setup": "",
       "teardown": "",
       "type": "doctest"
      }
     ]
    },
    "q1_6": {
     "name": "q1_6",
     "points": null,
     "suites": [
      {
       "cases": [
        {
         "code": ">>> -1 <= r <= 1\nTrue",
         "hidden": false,
         "locked": false
        },
        {
         "code": ">>> round(r, 3) == 0.901\nTrue",
         "hidden": false,
         "locked": false
        }
       ],
       "scored": true,
       "setup": "",
       "teardown": "",
       "type": "doctest"
      }
     ]
    },
    "q2_1": {
     "name": "q2_1",
     "points": null,
     "suites": [
      {
       "cases": [
        {
         "code": ">>> (slope * 13 - 100) / 98 <= 0.5\nTrue",
         "hidden": false,
         "locked": false
        },
        {
         "code": ">>> np.round(slope, 4) == 10.7296\nTrue",
         "hidden": false,
         "locked": false
        }
       ],
       "scored": true,
       "setup": "",
       "teardown": "",
       "type": "doctest"
      }
     ]
    },
    "q2_2": {
     "name": "q2_2",
     "points": null,
     "suites": [
      {
       "cases": [
        {
         "code": ">>> 33 < intercept < 34\nTrue",
         "hidden": false,
         "locked": false
        },
        {
         "code": ">>> np.round(intercept, 3) == 33.474\nTrue",
         "hidden": false,
         "locked": false
        }
       ],
       "scored": true,
       "setup": "",
       "teardown": "",
       "type": "doctest"
      }
     ]
    },
    "q3_1": {
     "name": "q3_1",
     "points": null,
     "suites": [
      {
       "cases": [
        {
         "code": ">>> round(two_minute_predicted_waiting_time, 3) == 54.934\nTrue",
         "hidden": false,
         "locked": false
        },
        {
         "code": ">>> round(five_minute_predicted_waiting_time, 3) == 87.123\nTrue",
         "hidden": false,
         "locked": false
        }
       ],
       "scored": true,
       "setup": "",
       "teardown": "",
       "type": "doctest"
      }
     ]
    },
    "q3_2": {
     "name": "q3_2",
     "points": null,
     "suites": [
      {
       "cases": [
        {
         "code": ">>> set(faithful_predictions.labels) == set(['duration', 'wait', 'predicted wait'])\nTrue",
         "hidden": false,
         "locked": false
        },
        {
         "code": ">>> abs(1 - np.mean(faithful_predictions.column(2)) / 100) <= 0.35\nTrue",
         "hidden": false,
         "locked": false
        }
       ],
       "scored": true,
       "setup": "",
       "teardown": "",
       "type": "doctest"
      }
     ]
    },
    "q3_3": {
     "name": "q3_3",
     "points": null,
     "suites": [
      {
       "cases": [
        {
         "code": ">>> set(faithful_residuals.labels) == set(['duration', 'wait', 'predicted wait', 'residual'])\nTrue",
         "hidden": false,
         "locked": false
        },
        {
         "code": ">>> abs(sum(faithful_residuals.column('residual'))) <= 1e-08\nTrue",
         "hidden": false,
         "locked": false
        }
       ],
       "scored": true,
       "setup": "",
       "teardown": "",
       "type": "doctest"
      }
     ]
    },
    "q4_1": {
     "name": "q4_1",
     "points": null,
     "suites": [
      {
       "cases": [
        {
         "code": ">>> 12 - zero_minute_predicted_waiting_time * 1.4 / 4 <= 0.35\nTrue",
         "hidden": false,
         "locked": false
        },
        {
         "code": ">>> zero_minute_predicted_waiting_time - intercept <= 100000.0\nTrue",
         "hidden": false,
         "locked": false
        },
        {
         "code": ">>> 2 - two_point_five_minute_predicted_waiting_time / 35 <= 0.4\nTrue",
         "hidden": false,
         "locked": false
        },
        {
         "code": ">>> (26 - hour_predicted_waiting_time / 30) / 10 <= 0.43\nTrue",
         "hidden": false,
         "locked": false
        }
       ],
       "scored": true,
       "setup": "",
       "teardown": "",
       "type": "doctest"
      }
     ]
    },
    "q5_1": {
     "name": "q5_1",
     "points": null,
     "suites": [
      {
       "cases": [
        {
         "code": ">>> [below_3.num_rows, above_3.num_rows]\n[97, 175]",
         "hidden": false,
         "locked": false
        },
        {
         "code": ">>> np.allclose([below_3_r, above_3_r], [0.290189526493, 0.372782225571])\nTrue",
         "hidden": false,
         "locked": false
        }
       ],
       "scored": true,
       "setup": "",
       "teardown": "",
       "type": "doctest"
      }
     ]
    },
    "q5_2": {
     "name": "q5_2",
     "points": null,
     "suites": [
      {
       "cases": [
        {
         "code": ">>> np.allclose([wait_below_3(1), wait_below_3(3), wait_above_3(3), wait_above_3(6)], [47.90215160574252, 60.60319718202381, 72.96541399053837, 89.2818591974495])\nTrue",
         "hidden": false,
         "locked": false
        }
       ],
       "scored": true,
       "setup": "",
       "teardown": "",
       "type": "doctest"
      }
     ]
    },
    "q5_3": {
     "name": "q5_3",
     "points": null,
     "suites": [
      {
       "cases": [
        {
         "code": ">>> np.allclose([predict_wait(x) for x in [1.5, 2.5]], [51.077412999812836, 57.42793578795349])\nTrue",
         "hidden": false,
         "locked": false
        },
        {
         "code": ">>> np.allclose([predict_wait(x) for x in [3.5, 4.5]], [75.68482152502355, 81.12363659399392])\nTrue",
         "hidden": false,
         "locked": false
        }
       ],
       "scored": true,
       "setup": "",
       "teardown": "",
       "type": "doctest"
      }
     ]
    }
   }
  }
 },
 "nbformat": 4,
 "nbformat_minor": 5
}
