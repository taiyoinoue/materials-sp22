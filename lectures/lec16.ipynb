{
 "cells": [
  {
   "cell_type": "code",
   "execution_count": null,
   "id": "cell-lec16-0",
   "metadata": {},
   "outputs": [],
   "source": [
    "from datascience import *\n",
    "import numpy as np\n",
    "\n",
    "%matplotlib inline\n",
    "import matplotlib.pyplot as plots\n",
    "plots.style.use('fivethirtyeight')"
   ]
  },
  {
   "cell_type": "markdown",
   "id": "36b55388",
   "metadata": {},
   "source": [
    "## Random Sampling"
   ]
  },
  {
   "cell_type": "code",
   "execution_count": null,
   "id": "5dfec403",
   "metadata": {},
   "outputs": [],
   "source": [
    "# Run this cell to load the table\n",
    "united = Table.read_table('united.csv')\n",
    "united = united.with_column('Row', np.arange(united.num_rows)).move_to_start('Row')\n",
    "united"
   ]
  },
  {
   "cell_type": "markdown",
   "id": "69dfe55b",
   "metadata": {},
   "source": [
    "### Some deterministic samples:"
   ]
  },
  {
   "cell_type": "code",
   "execution_count": null,
   "id": "cce20288",
   "metadata": {},
   "outputs": [],
   "source": [
    "# No chance involved in this sample\n",
    "united.where('Destination', 'JFK') "
   ]
  },
  {
   "cell_type": "code",
   "execution_count": null,
   "id": "b5055ba0",
   "metadata": {},
   "outputs": [],
   "source": [
    "# If I run the command again, I will get identical results.  This is why we say this is a deterministic sample\n",
    "united.where('Destination', 'JFK') "
   ]
  },
  {
   "cell_type": "code",
   "execution_count": null,
   "id": "6e9c6faa",
   "metadata": {},
   "outputs": [],
   "source": [
    "# Also deterministic, even if it feels like we are choosing the numbers \"randomly\"\n",
    "united.take(make_array(34, 6321, 10040))"
   ]
  },
  {
   "cell_type": "markdown",
   "id": "957767a2",
   "metadata": {},
   "source": [
    "### A random sample:"
   ]
  },
  {
   "cell_type": "code",
   "execution_count": null,
   "id": "39652fab",
   "metadata": {},
   "outputs": [],
   "source": [
    "start = np.random.choice(np.arange(1000))\n",
    "systematic_sample = united.take(np.arange(start, united.num_rows, 1000))\n",
    "systematic_sample.show()"
   ]
  },
  {
   "cell_type": "markdown",
   "id": "5e015cea",
   "metadata": {},
   "source": [
    "## Empirical Distribution and the Probability Distribution"
   ]
  },
  {
   "cell_type": "code",
   "execution_count": null,
   "id": "896cd764",
   "metadata": {},
   "outputs": [],
   "source": [
    "# Let's simulate a die roll.  First let's put the possible outcomes into a table:\n",
    "die = Table().with_column('Face', np.arange(1, 7))\n",
    "die"
   ]
  },
  {
   "cell_type": "code",
   "execution_count": null,
   "id": "feafe9cc",
   "metadata": {},
   "outputs": [],
   "source": [
    "# With a table, we can use the method 'sample' to randomly choose rows from the table (with replacement)\n",
    "die.sample(10)"
   ]
  },
  {
   "cell_type": "code",
   "execution_count": null,
   "id": "1c22ca1b",
   "metadata": {},
   "outputs": [],
   "source": [
    "# Define some bins:\n",
    "die_bins = np.arange(0.5, 6.6, 1)"
   ]
  },
  {
   "cell_type": "code",
   "execution_count": null,
   "id": "6526add4",
   "metadata": {},
   "outputs": [],
   "source": [
    "# The probability distribution of the die\n",
    "die.hist(bins = die_bins)"
   ]
  },
  {
   "cell_type": "code",
   "execution_count": null,
   "id": "a27295c3",
   "metadata": {},
   "outputs": [],
   "source": [
    "# The empirical distribution of 10 die rolls.  Notice that this changes every time we run this cell.\n",
    "die.sample(10).hist(bins=die_bins)"
   ]
  },
  {
   "cell_type": "code",
   "execution_count": null,
   "id": "d6ba8e50",
   "metadata": {},
   "outputs": [],
   "source": [
    "# When we increase the number of samples, the empirical distribution looks more like the probability distribution!\n",
    "die.sample(1000).hist(bins=die_bins)"
   ]
  },
  {
   "cell_type": "markdown",
   "id": "cell-lec16-1",
   "metadata": {},
   "source": [
    "## Statistics"
   ]
  },
  {
   "cell_type": "code",
   "execution_count": null,
   "id": "cell-lec16-2",
   "metadata": {},
   "outputs": [],
   "source": [
    "# Run this cell\n",
    "united = Table.read_table('united.csv')\n",
    "united = united.with_column('Row', np.arange(united.num_rows)).move_to_start('Row')"
   ]
  },
  {
   "cell_type": "code",
   "execution_count": null,
   "id": "cell-lec16-3",
   "metadata": {},
   "outputs": [],
   "source": [
    "# (Population) Parameter\n",
    "# Let's find the median value of 'Delay' for the entire \"population\" of flights in the dataset.\n",
    "np.median(united.column('Delay'))"
   ]
  },
  {
   "cell_type": "code",
   "execution_count": null,
   "id": "cell-lec16-4",
   "metadata": {},
   "outputs": [],
   "source": [
    "# (Sample) Statistic\n",
    "# Let's first sample the data, then take the median of the sample.  This is a sample statistic.  We use it \n",
    "# to estimate the population parameter.\n",
    "np.median(united.sample(10).column('Delay'))"
   ]
  },
  {
   "cell_type": "code",
   "execution_count": null,
   "id": "cell-lec16-5",
   "metadata": {},
   "outputs": [],
   "source": [
    "# (Sample) Statistic with larger sample size:\n",
    "np.median(united.sample(100).column('Delay'))"
   ]
  },
  {
   "cell_type": "markdown",
   "id": "cell-lec16-6",
   "metadata": {},
   "source": [
    "### Probability & Empirical Distributions of a Statistic"
   ]
  },
  {
   "cell_type": "code",
   "execution_count": null,
   "id": "cell-lec16-7",
   "metadata": {},
   "outputs": [],
   "source": [
    "# Let's make a function which returns the median value of 'Delay' in a random sample of size 'size'\n",
    "def sample_median(size):\n",
    "    return np.median(united.sample(size).column('Delay'))"
   ]
  },
  {
   "cell_type": "code",
   "execution_count": null,
   "id": "cell-lec16-8",
   "metadata": {},
   "outputs": [],
   "source": [
    "sample_median(10)"
   ]
  },
  {
   "cell_type": "code",
   "execution_count": null,
   "id": "cell-lec16-9",
   "metadata": {},
   "outputs": [],
   "source": [
    "num_simulations = 2000"
   ]
  },
  {
   "cell_type": "code",
   "execution_count": null,
   "id": "cell-lec16-10",
   "metadata": {},
   "outputs": [],
   "source": [
    "# Let's run sample_median(10) 'num_simulations' times, and record all the results in an array:\n",
    "sample_medians = make_array()\n",
    "\n",
    "for i in np.arange(num_simulations):\n",
    "    new_median = sample_median(10)\n",
    "    sample_medians = np.append(sample_medians, new_median)"
   ]
  },
  {
   "cell_type": "code",
   "execution_count": null,
   "id": "cell-lec16-11",
   "metadata": {},
   "outputs": [],
   "source": [
    "# Let's make a histogram of the data\n",
    "Table().with_column('Sample medians (size=10)', sample_medians).hist(bins=20)"
   ]
  },
  {
   "cell_type": "code",
   "execution_count": null,
   "id": "cell-lec16-12",
   "metadata": {},
   "outputs": [],
   "source": [
    "# Let's instead run sample_median(1000) num_simulation times.\n",
    "sample_medians = make_array()\n",
    "\n",
    "for i in np.arange(num_simulations):\n",
    "    new_median = sample_median(1000)\n",
    "    sample_medians = np.append(sample_medians, new_median)"
   ]
  },
  {
   "cell_type": "code",
   "execution_count": null,
   "id": "cell-lec16-13",
   "metadata": {},
   "outputs": [],
   "source": [
    "Table().with_column('Sample medians (size=1K)', sample_medians).hist()"
   ]
  },
  {
   "cell_type": "markdown",
   "id": "cell-lec16-14",
   "metadata": {},
   "source": [
    "#### Empirical Distributions of a Statistic (Overlayed)"
   ]
  },
  {
   "cell_type": "code",
   "execution_count": null,
   "id": "cell-lec16-15",
   "metadata": {},
   "outputs": [],
   "source": [
    "sample_medians_10 = make_array()\n",
    "sample_medians_100 = make_array()\n",
    "sample_medians_1000 = make_array()\n",
    "\n",
    "num_simulations = 2000\n",
    "\n",
    "for i in np.arange(num_simulations):\n",
    "    new_median_10 = sample_median(10)\n",
    "    sample_medians_10 = np.append(sample_medians_10, new_median_10)\n",
    "    new_median_100 = sample_median(100)\n",
    "    sample_medians_100 = np.append(sample_medians_100, new_median_100)\n",
    "    new_median_1000 = sample_median(1000)\n",
    "    sample_medians_1000 = np.append(sample_medians_1000, new_median_1000)"
   ]
  },
  {
   "cell_type": "code",
   "execution_count": null,
   "id": "cell-lec16-16",
   "metadata": {},
   "outputs": [],
   "source": [
    "sample_medians = Table().with_columns('Size 10', sample_medians_10, \n",
    "                                      'Size 100', sample_medians_100,\n",
    "                                      'Size 1000', sample_medians_1000)"
   ]
  },
  {
   "cell_type": "code",
   "execution_count": null,
   "id": "cell-lec16-17",
   "metadata": {},
   "outputs": [],
   "source": [
    "sample_medians.hist(bins = np.arange(-5, 30))"
   ]
  },
  {
   "cell_type": "markdown",
   "id": "cell-lec16-18",
   "metadata": {},
   "source": [
    "## Swain vs. Alabama ##"
   ]
  },
  {
   "cell_type": "code",
   "execution_count": null,
   "id": "cell-lec16-19",
   "metadata": {},
   "outputs": [],
   "source": [
    "# Let's make an array of population proportions in Talladega County in 1965 (26% black, 74% non-black)\n",
    "population_proportions = make_array(.26, .74)\n",
    "population_proportions"
   ]
  },
  {
   "cell_type": "code",
   "execution_count": null,
   "id": "cell-lec16-20",
   "metadata": {},
   "outputs": [],
   "source": [
    "# Let's use the sample_proportions function to randomly sample 100 times from a population with the above \n",
    "# distribution.\n",
    "sample_proportions(100, population_proportions)"
   ]
  },
  {
   "cell_type": "code",
   "execution_count": null,
   "id": "cell-lec16-21",
   "metadata": {},
   "outputs": [],
   "source": [
    "# Let's define a function which will randomly sample from the popultion and return the proportion of black jurors\n",
    "def panel_proportion():\n",
    "    return sample_proportions(100, population_proportions).item(0)"
   ]
  },
  {
   "cell_type": "code",
   "execution_count": null,
   "id": "cell-lec16-22",
   "metadata": {},
   "outputs": [],
   "source": [
    "panel_proportion()"
   ]
  },
  {
   "cell_type": "code",
   "execution_count": null,
   "id": "cell-lec16-23",
   "metadata": {},
   "outputs": [],
   "source": [
    "# Let's run this 10000 times and record results:\n",
    "panels = make_array()\n",
    "\n",
    "for i in np.arange(10000):\n",
    "    new_panel = panel_proportion() * 100\n",
    "    panels = np.append(panels, new_panel)"
   ]
  },
  {
   "cell_type": "code",
   "execution_count": null,
   "id": "cell-lec16-24",
   "metadata": {},
   "outputs": [],
   "source": [
    "# Let's make a histogram:\n",
    "\n",
    "Table().with_column(\n",
    "    'Number of Black Men on Panel of 100', panels\n",
    ").hist(bins=np.arange(5.5,40.))\n",
    "\n",
    "# Plotting details; ignore this code\n",
    "plots.ylim(-0.002, 0.09)\n",
    "plots.scatter(8, 0, color='red', s=30);"
   ]
  },
  {
   "cell_type": "markdown",
   "id": "cell-lec16-25",
   "metadata": {},
   "source": [
    "## Mendel and Pea Flowers ##"
   ]
  },
  {
   "cell_type": "code",
   "execution_count": null,
   "id": "cell-lec16-26",
   "metadata": {},
   "outputs": [],
   "source": [
    "## Mendel had 929 plants, of which 709 had purple flowers.  \n",
    "observed_purples = 709 / 929\n",
    "observed_purples"
   ]
  },
  {
   "cell_type": "code",
   "execution_count": null,
   "id": "cell-lec16-27",
   "metadata": {},
   "outputs": [],
   "source": [
    "# Does the evidence Mendel collected represent evidence against the model that 75% of flowers are purple?\n",
    "# Let's simulate \n",
    "predicted_proportions = make_array(.75, .25)\n",
    "sample_proportions(929, predicted_proportions)"
   ]
  },
  {
   "cell_type": "code",
   "execution_count": null,
   "id": "cell-lec16-28",
   "metadata": {},
   "outputs": [],
   "source": [
    "def purple_flowers():\n",
    "    return sample_proportions(929, predicted_proportions).item(0) * 100"
   ]
  },
  {
   "cell_type": "code",
   "execution_count": null,
   "id": "cell-lec16-29",
   "metadata": {},
   "outputs": [],
   "source": [
    "purple_flowers()"
   ]
  },
  {
   "cell_type": "code",
   "execution_count": null,
   "id": "cell-lec16-30",
   "metadata": {},
   "outputs": [],
   "source": [
    "purples = make_array()\n",
    "\n",
    "for i in np.arange(10000):\n",
    "    new_purple = purple_flowers()\n",
    "    purples = np.append(purples, new_purple)"
   ]
  },
  {
   "cell_type": "code",
   "execution_count": null,
   "id": "cell-lec16-31",
   "metadata": {
    "scrolled": true
   },
   "outputs": [],
   "source": [
    "Table().with_column('Percent of purple flowers in sample of 929', purples).hist()"
   ]
  },
  {
   "cell_type": "code",
   "execution_count": null,
   "id": "cell-lec16-32",
   "metadata": {
    "scrolled": true
   },
   "outputs": [],
   "source": [
    "Table().with_column('Discrepancy in sample of 929 if the model is true', abs(purples- 75)).hist()"
   ]
  },
  {
   "cell_type": "code",
   "execution_count": null,
   "id": "cell-lec16-33",
   "metadata": {},
   "outputs": [],
   "source": [
    "abs(observed_purples * 100 - 75)"
   ]
  }
 ],
 "metadata": {
  "anaconda-cloud": {},
  "kernelspec": {
   "display_name": "Python 3 (ipykernel)",
   "language": "python",
   "name": "python3"
  },
  "language_info": {
   "codemirror_mode": {
    "name": "ipython",
    "version": 3
   },
   "file_extension": ".py",
   "mimetype": "text/x-python",
   "name": "python",
   "nbconvert_exporter": "python",
   "pygments_lexer": "ipython3",
   "version": "3.10.11"
  }
 },
 "nbformat": 4,
 "nbformat_minor": 5
}
