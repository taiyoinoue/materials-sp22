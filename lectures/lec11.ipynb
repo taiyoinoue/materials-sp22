{
 "cells": [
  {
   "cell_type": "code",
   "execution_count": null,
   "metadata": {},
   "outputs": [],
   "source": [
    "from datascience import *\n",
    "import numpy as np\n",
    "\n",
    "%matplotlib inline\n",
    "import matplotlib.pyplot as plots\n",
    "plots.style.use('fivethirtyeight')\n",
    "import warnings\n",
    "warnings.simplefilter(action='ignore',category=np.VisibleDeprecationWarning)"
   ]
  },
  {
   "cell_type": "markdown",
   "metadata": {},
   "source": [
    "# Lecture 11 #"
   ]
  },
  {
   "cell_type": "markdown",
   "metadata": {},
   "source": [
    "### Rows from lists"
   ]
  },
  {
   "cell_type": "code",
   "execution_count": null,
   "metadata": {},
   "outputs": [],
   "source": [
    "# If we give Table() a list as the only argument, it will create a table with the entries as labels, and NO data!\n",
    "drinks = Table(['Drink', 'Calories', 'Price', 'Cafe'])\n",
    "drinks"
   ]
  },
  {
   "cell_type": "code",
   "execution_count": null,
   "metadata": {},
   "outputs": [],
   "source": [
    "# We can then populate the empty table with data by uwing the with_rows() method.\n",
    "drinks = drinks.with_rows([\n",
    "    ['Milk Tea', 77, 5.5, 'ShareTea'],\n",
    "    ['Espresso', 3,  1.75, 'Starbucks'],\n",
    "    ['Latte', 136 ,  3.25, 'Java Jax'],\n",
    "    ['Espresso', 4,   2, 'Provisions']\n",
    "])\n",
    "drinks"
   ]
  },
  {
   "cell_type": "markdown",
   "metadata": {},
   "source": [
    "## Review: Group by one column"
   ]
  },
  {
   "cell_type": "code",
   "execution_count": null,
   "metadata": {},
   "outputs": [],
   "source": [
    "# Let's look at nba data again.\n",
    "nba = Table.read_table('nba_salaries.csv')\n",
    "nba.show(3)"
   ]
  },
  {
   "cell_type": "markdown",
   "metadata": {},
   "source": [
    "### Positions in the NBA ###\n",
    "There are five main positions in the NBA:\n",
    "1. Center 'C'\n",
    "2. Power Forward 'PF'\n",
    "3. Small Forward 'SF'\n",
    "4. Shooting Guard 'SG'\n",
    "5. Point Guard 'PG'\n",
    "\n",
    "Let's create a table consisting of the rows of nba with only these five positions:"
   ]
  },
  {
   "cell_type": "code",
   "execution_count": null,
   "metadata": {},
   "outputs": [],
   "source": [
    "# We'll use the where method.  Note the list of values that we want to keep:\n"
   ]
  },
  {
   "cell_type": "markdown",
   "metadata": {},
   "source": [
    "## Cross-classification: grouping by two columns"
   ]
  },
  {
   "cell_type": "code",
   "execution_count": null,
   "metadata": {
    "scrolled": true
   },
   "outputs": [],
   "source": [
    "# We can get a count of players in each position in each season by grouping by two columns:\n"
   ]
  },
  {
   "cell_type": "code",
   "execution_count": null,
   "metadata": {},
   "outputs": [],
   "source": [
    "# We can still give a second argument to group() which will aggregate the data in the other columns:\n"
   ]
  },
  {
   "cell_type": "markdown",
   "metadata": {},
   "source": [
    "## Pivot Tables"
   ]
  },
  {
   "cell_type": "code",
   "execution_count": null,
   "metadata": {},
   "outputs": [],
   "source": [
    "# We can get similar results using the pivot method.  The first argument gives us the columns, the second \n",
    "# argument gives the rows.  If no other argument is given, we get counts\n"
   ]
  },
  {
   "cell_type": "code",
   "execution_count": null,
   "metadata": {},
   "outputs": [],
   "source": [
    "# Optionally, we can give a third argument which is a column name, and a fourth argument which is an aggregating\n",
    "# function (e.g. np.average or np.max).  This function is used in place of a count to populate the pivot table:\n"
   ]
  },
  {
   "cell_type": "code",
   "execution_count": null,
   "metadata": {},
   "outputs": [],
   "source": [
    "# With this data, we can plot the average salary of each position over time.\n"
   ]
  },
  {
   "cell_type": "markdown",
   "metadata": {},
   "source": [
    "## Discussion Questions ##"
   ]
  },
  {
   "cell_type": "code",
   "execution_count": null,
   "metadata": {},
   "outputs": [],
   "source": [
    "# From the CORGIS Dataset Project\n",
    "# By Austin Cory Bart acbart@vt.edu\n",
    "# Version 2.0.0, created 3/22/2016\n",
    "# https://corgis-edu.github.io/corgis/csv/skyscrapers/\n",
    "\n",
    "sky = Table.read_table('skyscrapers.csv')\n",
    "sky = (sky.with_column('age', 2022 - sky.column('completed'))\n",
    "          .drop('completed'))\n",
    "sky.show(3)"
   ]
  },
  {
   "cell_type": "code",
   "execution_count": null,
   "metadata": {},
   "outputs": [],
   "source": [
    "# 1. For each city, what’s the height of tallest building for each material?\n",
    "\n"
   ]
  },
  {
   "cell_type": "code",
   "execution_count": null,
   "metadata": {},
   "outputs": [],
   "source": [
    "# 2. For each city, what’s the height difference between the tallest \n",
    "#    steel building and the tallest concrete building?\n"
   ]
  },
  {
   "cell_type": "markdown",
   "metadata": {},
   "source": [
    "Don't read ahead until you try the challenge questions yourself first!"
   ]
  },
  {
   "cell_type": "code",
   "execution_count": null,
   "metadata": {
    "scrolled": false
   },
   "outputs": [],
   "source": []
  },
  {
   "cell_type": "code",
   "execution_count": null,
   "metadata": {},
   "outputs": [],
   "source": [
    "# 3. Generate a table of the names of the oldest buildings for each \n",
    "#    material for each city:\n",
    "\n",
    "# Hint: You can use sort to find the name of the oldest building in the dataset\n"
   ]
  },
  {
   "cell_type": "markdown",
   "metadata": {},
   "source": [
    "(No peeking! A solution appears below.)"
   ]
  },
  {
   "cell_type": "markdown",
   "metadata": {},
   "source": [
    "## Joins ##"
   ]
  },
  {
   "cell_type": "code",
   "execution_count": null,
   "metadata": {},
   "outputs": [],
   "source": [
    "# Let's recall the drinks database\n",
    "drinks"
   ]
  },
  {
   "cell_type": "code",
   "execution_count": null,
   "metadata": {},
   "outputs": [],
   "source": [
    "# Let's build a table with coupons for cafes\n",
    "discounts = Table().with_columns(\n",
    "    'Coupon % off', make_array(10, 25, 5, 10, 15),\n",
    "    'Location', make_array('ShareTea', 'Provisions', 'Java Jax', 'Starbucks', 'Peets')\n",
    ")\n",
    "discounts"
   ]
  },
  {
   "cell_type": "code",
   "execution_count": null,
   "metadata": {
    "scrolled": true
   },
   "outputs": [],
   "source": [
    "# Let's use the join method to add the coupons from the discounts table to each of the cafes in the drinks table.\n"
   ]
  },
  {
   "cell_type": "code",
   "execution_count": null,
   "metadata": {},
   "outputs": [],
   "source": []
  },
  {
   "cell_type": "code",
   "execution_count": null,
   "metadata": {},
   "outputs": [],
   "source": []
  },
  {
   "cell_type": "code",
   "execution_count": null,
   "metadata": {},
   "outputs": [],
   "source": []
  }
 ],
 "metadata": {
  "kernelspec": {
   "display_name": "Python 3 (ipykernel)",
   "language": "python",
   "name": "python3"
  },
  "language_info": {
   "codemirror_mode": {
    "name": "ipython",
    "version": 3
   },
   "file_extension": ".py",
   "mimetype": "text/x-python",
   "name": "python",
   "nbconvert_exporter": "python",
   "pygments_lexer": "ipython3",
   "version": "3.10.11"
  }
 },
 "nbformat": 4,
 "nbformat_minor": 2
}
