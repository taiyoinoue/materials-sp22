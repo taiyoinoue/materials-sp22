{
 "cells": [
  {
   "cell_type": "code",
   "execution_count": null,
   "id": "cell-lec17-0",
   "metadata": {},
   "outputs": [],
   "source": [
    "from datascience import *\n",
    "import numpy as np\n",
    "\n",
    "%matplotlib inline\n",
    "import matplotlib.pyplot as plots\n",
    "plots.style.use('fivethirtyeight')"
   ]
  },
  {
   "cell_type": "markdown",
   "id": "cell-lec17-1",
   "metadata": {},
   "source": [
    "## Lecture 17 ##"
   ]
  },
  {
   "cell_type": "markdown",
   "id": "119466f3",
   "metadata": {},
   "source": [
    "## Swain vs. Alabama"
   ]
  },
  {
   "cell_type": "code",
   "execution_count": null,
   "id": "eeeba161",
   "metadata": {},
   "outputs": [],
   "source": [
    "# Let's make an array of population proportions in Talladega County in 1965 (26% black, 74% non-black)\n",
    "population_proportions = make_array(.26, .74)\n",
    "population_proportions"
   ]
  },
  {
   "cell_type": "code",
   "execution_count": null,
   "id": "851f3a99",
   "metadata": {},
   "outputs": [],
   "source": [
    "# Let's use the sample_proportions function to randomly sample 100 times from a population with the above \n",
    "# distribution.\n",
    "sample_proportions(100, population_proportions)"
   ]
  },
  {
   "cell_type": "code",
   "execution_count": null,
   "id": "1c1eb120",
   "metadata": {},
   "outputs": [],
   "source": [
    "# Let's define a function which will randomly sample from the popultion and return the proportion of black jurors\n",
    "def panel_proportion():\n",
    "    return sample_proportions(100, population_proportions).item(0)"
   ]
  },
  {
   "cell_type": "code",
   "execution_count": null,
   "id": "39fee54a",
   "metadata": {},
   "outputs": [],
   "source": [
    "panel_proportion()"
   ]
  },
  {
   "cell_type": "code",
   "execution_count": null,
   "id": "dfcf2ccf",
   "metadata": {},
   "outputs": [],
   "source": [
    "# Let's run this 10000 times and record results:\n",
    "# Note that this pattern is often used!  Make sure you understand it.\n",
    "panels = make_array()\n",
    "\n",
    "for i in np.arange(10000):\n",
    "    new_panel = panel_proportion() * 100\n",
    "    panels = np.append(panels, new_panel)"
   ]
  },
  {
   "cell_type": "code",
   "execution_count": null,
   "id": "ced967c5",
   "metadata": {},
   "outputs": [],
   "source": [
    "# Let's make a histogram:\n",
    "\n",
    "Table().with_column(\n",
    "    'Number of Black People on Panel of 100', panels\n",
    ").hist(bins=np.arange(5.5,40.))\n",
    "\n",
    "# Plotting details; ignore this code\n",
    "plots.ylim(-0.002, 0.09)\n",
    "plots.scatter(8, 0, color='red', s=30);"
   ]
  },
  {
   "cell_type": "markdown",
   "id": "b915d401",
   "metadata": {},
   "source": [
    "## Mendel and Pea Flowers"
   ]
  },
  {
   "cell_type": "code",
   "execution_count": null,
   "id": "0bb19520",
   "metadata": {},
   "outputs": [],
   "source": [
    "## Mendel had 929 plants, of which 709 had purple flowers.  \n",
    "observed_purples = 709 / 929\n",
    "observed_purples"
   ]
  },
  {
   "cell_type": "code",
   "execution_count": null,
   "id": "88e0eeba",
   "metadata": {},
   "outputs": [],
   "source": [
    "# Does the evidence Mendel collected represent evidence against the model that 75% of flowers are purple?\n",
    "# Let's simulate the evidence we would obtain if the model were true:\n",
    "predicted_proportions = make_array(.75, .25)\n",
    "sample_proportions(929, predicted_proportions)"
   ]
  },
  {
   "cell_type": "code",
   "execution_count": null,
   "id": "3ef09b60",
   "metadata": {},
   "outputs": [],
   "source": [
    "def purple_flowers():\n",
    "    return sample_proportions(929, predicted_proportions).item(0) * 100"
   ]
  },
  {
   "cell_type": "code",
   "execution_count": null,
   "id": "877c490c",
   "metadata": {},
   "outputs": [],
   "source": [
    "purple_flowers()"
   ]
  },
  {
   "cell_type": "code",
   "execution_count": null,
   "id": "586b5e15",
   "metadata": {},
   "outputs": [],
   "source": [
    "# Let's simulate our model 10000 times, and append the proportion of purple flowers to an array.\n",
    "# Note this pattern is very often used!  Make sure you understand it.\n",
    "purples = make_array()\n",
    "\n",
    "for i in np.arange(10000):\n",
    "    new_purple = purple_flowers()\n",
    "    purples = np.append(purples, new_purple)"
   ]
  },
  {
   "cell_type": "code",
   "execution_count": null,
   "id": "751489c0",
   "metadata": {},
   "outputs": [],
   "source": [
    "# Let's visualize the values of our simulated data:\n",
    "Table().with_column('Percent of purple flowers in sample of 929', purples).hist()"
   ]
  },
  {
   "cell_type": "code",
   "execution_count": null,
   "id": "2ea0c8d1",
   "metadata": {},
   "outputs": [],
   "source": [
    "# Let's apply a statistic and see its distribution:\n",
    "Table().with_column('Discrepancy in sample of 929 if the model is true', abs(purples- 75)).hist()"
   ]
  },
  {
   "cell_type": "code",
   "execution_count": null,
   "id": "93610f0b",
   "metadata": {},
   "outputs": [],
   "source": [
    "# What's the value of the statistic for the data that Mendel observed?\n",
    "abs(observed_purples * 100 - 75)"
   ]
  },
  {
   "cell_type": "markdown",
   "id": "cell-lec17-2",
   "metadata": {
    "collapsed": true
   },
   "source": [
    "## Alameda County Jury Panels ##"
   ]
  },
  {
   "cell_type": "code",
   "execution_count": null,
   "id": "cell-lec17-3",
   "metadata": {},
   "outputs": [],
   "source": [
    "# Load ethnicity data for Alameda County in 2010:\n",
    "jury = Table().with_columns(\n",
    "    'Ethnicity', make_array('Asian', 'Black', 'Latino', 'White', 'Other'),\n",
    "    'Eligible', make_array(0.15, 0.18, 0.12, 0.54, 0.01),\n",
    "    'Panels', make_array(0.26, 0.08, 0.08, 0.54, 0.04)\n",
    ")\n",
    "\n",
    "jury"
   ]
  },
  {
   "cell_type": "code",
   "execution_count": null,
   "id": "cell-lec17-4",
   "metadata": {},
   "outputs": [],
   "source": [
    "# Let's visualize with a bar chart.  Using only one categorical variable as argument will give bars for the \n",
    "# other quantitative bars.\n",
    "\n",
    "jury.barh('Ethnicity')"
   ]
  },
  {
   "cell_type": "code",
   "execution_count": null,
   "id": "cell-lec17-5",
   "metadata": {},
   "outputs": [],
   "source": [
    "# Under the model, this is the true distribution of people\n",
    "# from which the jurors are randomly sampled.  \n",
    "model = make_array(0.15, 0.18, 0.12, 0.54, 0.01)"
   ]
  },
  {
   "cell_type": "code",
   "execution_count": null,
   "id": "cell-lec17-6",
   "metadata": {},
   "outputs": [],
   "source": [
    "# Let's simulate a random draw of 1423 jurors from this distribution\n",
    "simulated = sample_proportions(1423, model)\n",
    "simulated"
   ]
  },
  {
   "cell_type": "code",
   "execution_count": null,
   "id": "cell-lec17-7",
   "metadata": {},
   "outputs": [],
   "source": [
    "# The actual observed distribution (Panels) looks quite different\n",
    "# from the simulation -- try running this several times to confirm!\n",
    "jury_with_simulated = jury.with_column('Simulated', simulated)\n",
    "jury_with_simulated"
   ]
  },
  {
   "cell_type": "code",
   "execution_count": null,
   "id": "cell-lec17-8",
   "metadata": {},
   "outputs": [],
   "source": [
    "jury_with_simulated.barh('Ethnicity')"
   ]
  },
  {
   "cell_type": "markdown",
   "id": "cell-lec17-9",
   "metadata": {},
   "source": [
    "## Distance Between Distributions"
   ]
  },
  {
   "cell_type": "code",
   "execution_count": null,
   "id": "cell-lec17-10",
   "metadata": {},
   "outputs": [],
   "source": [
    "# In the last lecture, the difference between observed black/purple\n",
    "# and their expected values (26%/75%) was our statistic.\n",
    "#\n",
    "# In this case, we need to understand how each of the 5 categories\n",
    "# differ from their expected values according to the model.\n",
    "\n",
    "diffs = jury.column('Panels') - jury.column('Eligible')\n",
    "jury_with_difference = jury.with_column('Difference', diffs)\n",
    "jury_with_difference"
   ]
  },
  {
   "cell_type": "markdown",
   "id": "cell-lec17-11",
   "metadata": {},
   "source": [
    "## Total Variation Distance"
   ]
  },
  {
   "cell_type": "code",
   "execution_count": null,
   "id": "cell-lec17-12",
   "metadata": {},
   "outputs": [],
   "source": [
    "def tvd(dist1, dist2):\n",
    "    return sum(abs(dist1 - dist2))/2"
   ]
  },
  {
   "cell_type": "code",
   "execution_count": null,
   "id": "cell-lec17-13",
   "metadata": {},
   "outputs": [],
   "source": [
    "# The TVD of our observed data (Panels) from their expected values\n",
    "# assuming the model is true (Eligbible)\n",
    "obsvd_tvd = tvd(jury.column('Panels'), jury.column('Eligible'))\n",
    "obsvd_tvd"
   ]
  },
  {
   "cell_type": "code",
   "execution_count": null,
   "id": "cell-lec17-14",
   "metadata": {},
   "outputs": [],
   "source": [
    "# The TVD of a model simluation from its expected values\n",
    "tvd(sample_proportions(1423, model), jury.column('Eligible'))"
   ]
  },
  {
   "cell_type": "code",
   "execution_count": null,
   "id": "cell-lec17-15",
   "metadata": {},
   "outputs": [],
   "source": [
    "def simulated_tvd():\n",
    "    return tvd(sample_proportions(1423, model), model)\n",
    "\n",
    "tvds = make_array()\n",
    "\n",
    "num_simulations = 10000\n",
    "for i in np.arange(num_simulations):\n",
    "    new_tvd = simulated_tvd()\n",
    "    tvds = np.append(tvds, new_tvd)"
   ]
  },
  {
   "cell_type": "code",
   "execution_count": null,
   "id": "cell-lec17-16",
   "metadata": {},
   "outputs": [],
   "source": [
    "title = 'Simulated TVDs (if model is true)'\n",
    "bins = np.arange(0, .05, .005)\n",
    "\n",
    "Table().with_column(title, tvds).hist(bins = bins)\n",
    "print('Observed TVD: ' + str(obsvd_tvd))"
   ]
  }
 ],
 "metadata": {
  "anaconda-cloud": {},
  "kernelspec": {
   "display_name": "Python 3 (ipykernel)",
   "language": "python",
   "name": "python3"
  },
  "language_info": {
   "codemirror_mode": {
    "name": "ipython",
    "version": 3
   },
   "file_extension": ".py",
   "mimetype": "text/x-python",
   "name": "python",
   "nbconvert_exporter": "python",
   "pygments_lexer": "ipython3",
   "version": "3.10.11"
  }
 },
 "nbformat": 4,
 "nbformat_minor": 5
}
