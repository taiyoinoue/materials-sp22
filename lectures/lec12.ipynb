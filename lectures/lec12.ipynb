{
 "cells": [
  {
   "cell_type": "code",
   "execution_count": null,
   "id": "cell-lec12-0",
   "metadata": {},
   "outputs": [],
   "source": [
    "from datascience import *\n",
    "%matplotlib inline\n",
    "path_data = '../../../assets/data/'\n",
    "import matplotlib.pyplot as plt\n",
    "plt.style.use('fivethirtyeight')\n",
    "import numpy as np\n",
    "import warnings\n",
    "warnings.simplefilter(action='ignore', category=np.VisibleDeprecationWarning)\n"
   ]
  },
  {
   "cell_type": "markdown",
   "id": "cell-lec12-1",
   "metadata": {},
   "source": [
    "## Lecture 12 ##"
   ]
  },
  {
   "cell_type": "markdown",
   "id": "14f4ec0b",
   "metadata": {},
   "source": [
    "## Joins"
   ]
  },
  {
   "cell_type": "code",
   "execution_count": null,
   "id": "6a3454d1",
   "metadata": {},
   "outputs": [],
   "source": [
    "# Recall, the drinks table\n",
    "drinks = Table(['Drink', 'Calories', 'Price', 'Cafe'])\n",
    "drinks = drinks.with_rows([\n",
    "    ['Milk Tea', 77, 5.5, 'ShareTea'],\n",
    "    ['Espresso', 3,  1.75, 'Starbucks'],\n",
    "    ['Latte', 136 ,  3.25, 'Java Jax'],\n",
    "    ['Espresso', 4,   2, 'Provisions']\n",
    "])\n",
    "drinks"
   ]
  },
  {
   "cell_type": "code",
   "execution_count": null,
   "id": "8c12c42f",
   "metadata": {},
   "outputs": [],
   "source": [
    "# Let's build a table with coupons for cafes\n",
    "discounts = Table().with_columns(\n",
    "    'Coupon', make_array(10, 25, 5, 10, 15),\n",
    "    'Location', make_array('ShareTea', 'Provisions', 'Java Jax', 'Starbucks', 'Peets')\n",
    ")\n",
    "discounts"
   ]
  },
  {
   "cell_type": "code",
   "execution_count": null,
   "id": "967d4ea2",
   "metadata": {},
   "outputs": [],
   "source": [
    "# Let's use the join method to add the coupons from the discounts table to each of the cafes in the drinks table."
   ]
  },
  {
   "cell_type": "code",
   "execution_count": null,
   "id": "46245277",
   "metadata": {},
   "outputs": [],
   "source": [
    "# Exercise: Let's add a column to the joined drinks table which gives the price after the discount is applied"
   ]
  },
  {
   "cell_type": "markdown",
   "id": "cell-lec12-3",
   "metadata": {},
   "source": [
    "## A Join Example ##"
   ]
  },
  {
   "cell_type": "code",
   "execution_count": null,
   "id": "cell-lec12-4",
   "metadata": {},
   "outputs": [],
   "source": [
    "# 2020 census data\n",
    "full = Table.read_table('nc-est2019-agesex-res.csv')\n",
    "census = full.select('SEX', 'AGE', 'POPESTIMATE2019')\n",
    "census.show(3)"
   ]
  },
  {
   "cell_type": "code",
   "execution_count": null,
   "id": "cell-lec12-5",
   "metadata": {},
   "outputs": [],
   "source": [
    "# Recall the odd way the census encodes sex data. 0 = All, 1 = Male, 2 = Female.  \n",
    "# Let's add annotate the SEX column of the census table by using join.\n",
    "# Begin by making a table which links the sex code to its meaning.\n",
    "sex_codes = Table().with_columns(\n",
    "    'SEX CODE', make_array(0, 1, 2),\n",
    "    'CODE DEFINITION', make_array('All', 'Selected Male', 'Selected Female')\n",
    ")\n",
    "sex_codes"
   ]
  },
  {
   "cell_type": "code",
   "execution_count": null,
   "id": "cell-lec12-6",
   "metadata": {},
   "outputs": [],
   "source": [
    "# Now we join the sex_codes table to the census table:\n",
    "census.join('SEX', sex_codes, 'SEX CODE')"
   ]
  },
  {
   "cell_type": "markdown",
   "id": "cell-lec12-7",
   "metadata": {},
   "source": [
    "## Bike Sharing ##"
   ]
  },
  {
   "cell_type": "code",
   "execution_count": null,
   "id": "cell-lec12-8",
   "metadata": {},
   "outputs": [],
   "source": [
    "# Bike sharing data\n",
    "trip = Table.read_table('trip.csv')\n",
    "trip.show(3)"
   ]
  },
  {
   "cell_type": "markdown",
   "id": "cell-lec12-9",
   "metadata": {},
   "source": [
    "## Distribution of Durations ##"
   ]
  },
  {
   "cell_type": "code",
   "execution_count": null,
   "id": "cell-lec12-10",
   "metadata": {},
   "outputs": [],
   "source": [
    "# Let's begin by making a histogram of trip durations."
   ]
  },
  {
   "cell_type": "code",
   "execution_count": null,
   "id": "cell-lec12-11",
   "metadata": {},
   "outputs": [],
   "source": [
    "# What a weird histogram.  What's going on?"
   ]
  },
  {
   "cell_type": "code",
   "execution_count": null,
   "id": "cell-lec12-12",
   "metadata": {},
   "outputs": [],
   "source": [
    "# How can we remove outliers? This is an example of 'data cleaning'."
   ]
  },
  {
   "cell_type": "code",
   "execution_count": null,
   "id": "cell-lec12-13",
   "metadata": {},
   "outputs": [],
   "source": [
    "# Let's make a histogram of our cleaned up data."
   ]
  },
  {
   "cell_type": "code",
   "execution_count": null,
   "id": "cell-lec12-14",
   "metadata": {},
   "outputs": [],
   "source": [
    "# Approx percent of people who have \n",
    "# a ride duration between 250 and 500 seconds\n",
    "# \"between\" = [250, 500).  Remember, area in histogram represents percentage "
   ]
  },
  {
   "cell_type": "code",
   "execution_count": null,
   "id": "cell-lec12-15",
   "metadata": {},
   "outputs": [],
   "source": [
    "# How many trips are between 250 and 500 seconds?"
   ]
  },
  {
   "cell_type": "code",
   "execution_count": null,
   "id": "cell-lec12-17",
   "metadata": {},
   "outputs": [],
   "source": [
    "# What proportion of trips are between 250 and 500 seconds?"
   ]
  },
  {
   "cell_type": "code",
   "execution_count": null,
   "id": "cell-lec12-19",
   "metadata": {},
   "outputs": [],
   "source": [
    "# Other views of this data"
   ]
  },
  {
   "cell_type": "markdown",
   "id": "cell-lec12-20",
   "metadata": {},
   "source": [
    "## Start and End Stations ##"
   ]
  },
  {
   "cell_type": "code",
   "execution_count": null,
   "id": "cell-lec12-21",
   "metadata": {},
   "outputs": [],
   "source": [
    "# Most common start station\n"
   ]
  },
  {
   "cell_type": "code",
   "execution_count": null,
   "id": "cell-lec12-22",
   "metadata": {},
   "outputs": [],
   "source": [
    "# Numbers of trips between stations.  Use pivot!"
   ]
  },
  {
   "cell_type": "code",
   "execution_count": null,
   "id": "cell-lec12-23",
   "metadata": {},
   "outputs": [],
   "source": [
    "# Average durations of trips between stations.  Use pivot!"
   ]
  },
  {
   "cell_type": "markdown",
   "id": "cell-lec12-24",
   "metadata": {},
   "source": [
    "## Fastest Trips between Stations ##"
   ]
  },
  {
   "cell_type": "markdown",
   "id": "cell-lec12-25",
   "metadata": {},
   "source": [
    "How can we find the fastest trip ever between each pair of stations?"
   ]
  },
  {
   "cell_type": "code",
   "execution_count": null,
   "id": "cell-lec12-26",
   "metadata": {},
   "outputs": [],
   "source": [
    "# Let's make a table using just the start station, end station, and duration."
   ]
  },
  {
   "cell_type": "code",
   "execution_count": null,
   "id": "cell-lec12-27",
   "metadata": {},
   "outputs": [],
   "source": [
    "# Let's use group to find the shortest trip between each possible start and end stations.  \n",
    "# Call this table 'shortest'"
   ]
  },
  {
   "cell_type": "markdown",
   "id": "cell-lec12-28",
   "metadata": {},
   "source": [
    "## Discussion question"
   ]
  },
  {
   "cell_type": "markdown",
   "id": "cell-lec12-29",
   "metadata": {},
   "source": [
    "**Find the 5 stations closest to Civic Center BART by minimum trip time.**"
   ]
  },
  {
   "cell_type": "code",
   "execution_count": null,
   "id": "cell-lec12-30",
   "metadata": {},
   "outputs": [],
   "source": [
    "# Present these 5 stations in a table called 'from_cc'"
   ]
  },
  {
   "cell_type": "markdown",
   "id": "cell-lec12-31",
   "metadata": {},
   "source": [
    "## Maps ##"
   ]
  },
  {
   "cell_type": "code",
   "execution_count": null,
   "id": "cell-lec12-32",
   "metadata": {},
   "outputs": [],
   "source": [
    "# Geographical data on the stations\n",
    "stations = Table.read_table('station.csv').drop(4, 6)\n",
    "stations"
   ]
  },
  {
   "cell_type": "code",
   "execution_count": null,
   "id": "cell-lec12-33",
   "metadata": {},
   "outputs": [],
   "source": [
    "# Let's focus on San Francisco stations\n",
    "sf_stations = stations.where('landmark', are.equal_to('San Francisco'))\n",
    "\n",
    "# Our mapping visualization software expects different labels for columns, "
   ]
  },
  {
   "cell_type": "code",
   "execution_count": null,
   "id": "cell-lec12-34",
   "metadata": {},
   "outputs": [],
   "source": [
    "# Let's put the sf stations on a map."
   ]
  },
  {
   "cell_type": "code",
   "execution_count": null,
   "id": "cell-lec12-35",
   "metadata": {},
   "outputs": [],
   "source": []
  },
  {
   "cell_type": "markdown",
   "id": "cell-lec12-36",
   "metadata": {},
   "source": [
    "### Discussion question"
   ]
  },
  {
   "cell_type": "markdown",
   "id": "cell-lec12-37",
   "metadata": {},
   "source": [
    "Map all stations within 4 minutes (minimum ride time) of Civic Center."
   ]
  },
  {
   "cell_type": "code",
   "execution_count": null,
   "id": "cell-lec12-39",
   "metadata": {},
   "outputs": [],
   "source": [
    "sf_stations_map_data.show(3)"
   ]
  },
  {
   "cell_type": "code",
   "execution_count": null,
   "id": "cell-lec12-40",
   "metadata": {},
   "outputs": [],
   "source": [
    "# Let's grab the stations whose minimum trips are below 4 minutes, and put them into a table 'close_cc':"
   ]
  },
  {
   "cell_type": "code",
   "execution_count": null,
   "id": "5f5ed64e",
   "metadata": {},
   "outputs": [],
   "source": [
    "# Let's make a table of map data for the mapper to map:"
   ]
  },
  {
   "cell_type": "markdown",
   "id": "cell-lec12-41",
   "metadata": {},
   "source": [
    "Choose marker colors by the minimum time from Civic Center"
   ]
  },
  {
   "cell_type": "code",
   "execution_count": null,
   "id": "cell-lec12-42",
   "metadata": {},
   "outputs": [],
   "source": [
    "# What is this code doing?\n",
    "minutes = np.round(from_cc.column(\"Duration min\") / 60)\n",
    "print(min(minutes), max(minutes))"
   ]
  },
  {
   "cell_type": "code",
   "execution_count": null,
   "id": "cell-lec12-43",
   "metadata": {},
   "outputs": [],
   "source": [
    "# What is this code doing?\n",
    "colors = Table().with_columns(\n",
    "    \"minutes\", np.arange(15),\n",
    "    \"colors\",  [\"darkblue\", \"blue\", \"lightblue\", \n",
    "                \"darkgreen\", \"green\", \"lightgreen\",\n",
    "                \"orange\", \"darkred\", \"red\",\n",
    "                \"gray\", \"gray\", \"gray\", \n",
    "                \"gray\", \"gray\", \"gray\"])\n",
    "colors_cc = (from_cc\n",
    " .with_column(\"Minutes\", minutes)\n",
    " .join(\"Minutes\", colors, \"minutes\"))\n",
    "\n",
    "colored_markers = (sf_stations_map_data\n",
    "      .join('labels', colors_cc, 'End Station')\n",
    "      .select('lat', 'long', 'labels', 'colors'))\n",
    "Marker.map_table(colored_markers)"
   ]
  },
  {
   "cell_type": "code",
   "execution_count": null,
   "id": "cell-lec12-44",
   "metadata": {},
   "outputs": [],
   "source": [
    "station_starts = stations.join('name', starts, 'Start Station')\n",
    "station_starts.show(3)"
   ]
  },
  {
   "cell_type": "code",
   "execution_count": null,
   "id": "cell-lec12-45",
   "metadata": {},
   "outputs": [],
   "source": [
    "sf_starts = station_starts.relabeled(\n",
    "    'name', 'labels').where('landmark', 'San Francisco')"
   ]
  },
  {
   "cell_type": "code",
   "execution_count": null,
   "id": "cell-lec12-46",
   "metadata": {},
   "outputs": [],
   "source": [
    "sf_starts_map_data = sf_starts.select('lat', 'long', 'labels').with_columns(\n",
    "    'colors', 'blue',\n",
    "    'areas', sf_starts.column('count') / 10\n",
    ")\n",
    "sf_starts_map_data.show(3)"
   ]
  },
  {
   "cell_type": "code",
   "execution_count": null,
   "id": "cell-lec12-47",
   "metadata": {
    "scrolled": false
   },
   "outputs": [],
   "source": [
    "Circle.map_table(sf_starts_map_data)"
   ]
  },
  {
   "cell_type": "code",
   "execution_count": null,
   "id": "0b90ba64",
   "metadata": {},
   "outputs": [],
   "source": []
  }
 ],
 "metadata": {
  "kernelspec": {
   "display_name": "Python 3 (ipykernel)",
   "language": "python",
   "name": "python3"
  },
  "language_info": {
   "codemirror_mode": {
    "name": "ipython",
    "version": 3
   },
   "file_extension": ".py",
   "mimetype": "text/x-python",
   "name": "python",
   "nbconvert_exporter": "python",
   "pygments_lexer": "ipython3",
   "version": "3.10.11"
  }
 },
 "nbformat": 4,
 "nbformat_minor": 5
}
