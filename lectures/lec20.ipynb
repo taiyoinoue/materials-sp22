{
 "cells": [
  {
   "cell_type": "code",
   "execution_count": null,
   "id": "cell-lec20-0",
   "metadata": {},
   "outputs": [],
   "source": [
    "from datascience import *\n",
    "import numpy as np\n",
    "\n",
    "%matplotlib inline\n",
    "import matplotlib.pyplot as plots\n",
    "plots.style.use('fivethirtyeight')"
   ]
  },
  {
   "cell_type": "markdown",
   "id": "cell-lec20-1",
   "metadata": {},
   "source": [
    "## A/B Testing: Comparing Two Samples"
   ]
  },
  {
   "cell_type": "code",
   "execution_count": null,
   "id": "cell-lec20-2",
   "metadata": {},
   "outputs": [],
   "source": [
    "def difference_of_means(table, numeric_label, group_label):\n",
    "    \"\"\"\n",
    "    Takes: name of table, column label of numerical variable,\n",
    "    column label of group-label variable\n",
    "    \n",
    "    Returns: Difference of means of the two groups\n",
    "    \"\"\"\n",
    "    \n",
    "    # table with the two relevant columns\n",
    "    reduced = table.select(numeric_label, group_label)  \n",
    "    \n",
    "    # table containing group means\n",
    "    means_table = reduced.group(group_label, np.average)\n",
    "    \n",
    "    # array of group means\n",
    "    means = means_table.column(1)\n",
    "    \n",
    "    return means.item(1) - means.item(0)"
   ]
  },
  {
   "cell_type": "code",
   "execution_count": null,
   "id": "b9ef7391",
   "metadata": {},
   "outputs": [],
   "source": [
    "# Let's load up the births table:\n",
    "births = Table.read_table('baby.csv')"
   ]
  },
  {
   "cell_type": "code",
   "execution_count": null,
   "id": "11076024",
   "metadata": {},
   "outputs": [],
   "source": [
    "# and run difference_of_means on it:\n",
    "difference_of_means(births, 'Birth Weight', 'Maternal Smoker')"
   ]
  },
  {
   "cell_type": "code",
   "execution_count": null,
   "id": "094727ce",
   "metadata": {},
   "outputs": [],
   "source": [
    "# Let's shuffle the labels for smoking and non-smoking pregnancies.  Shuffling the labels is essentially saying, \n",
    "# \"the labels smoking and non-smoking don't matter for birth weight!\" and so we're simulating the null hypothesis!\n",
    "shuffled_labels = births.sample(with_replacement = False).column('Maternal Smoker')\n",
    "shuffled_labels"
   ]
  },
  {
   "cell_type": "code",
   "execution_count": null,
   "id": "8d7f2d22",
   "metadata": {},
   "outputs": [],
   "source": [
    "# Recall the counts of smoker and non-smoker:\n",
    "births.group('Maternal Smoker')"
   ]
  },
  {
   "cell_type": "code",
   "execution_count": null,
   "id": "c30d812d",
   "metadata": {},
   "outputs": [],
   "source": [
    "# Let's notice that the number of True and False in shuffled_labels is the same:\n",
    "sum(shuffled_labels == True), sum(shuffled_labels == False)"
   ]
  },
  {
   "cell_type": "code",
   "execution_count": null,
   "id": "cell-lec20-3",
   "metadata": {},
   "outputs": [],
   "source": [
    "# Let's simulate the test statistic under the null hypothesis once with a function:\n",
    "def one_simulated_difference(table, numeric_label, group_label):\n",
    "    \"\"\"\n",
    "    Takes: name of table, column label of numerical variable,\n",
    "    column label of group-label variable\n",
    "    \n",
    "    Returns: Difference of means of the two groups after shuffling labels\n",
    "    \"\"\"\n",
    "    \n",
    "    # array of shuffled labels\n",
    "    shuffled_labels = table.sample(\n",
    "        with_replacement = False).column(group_label)\n",
    "    \n",
    "    # table of numerical variable and shuffled labels\n",
    "    shuffled_table = table.select(numeric_label).with_column(\n",
    "        'Shuffled Label', shuffled_labels)\n",
    "    \n",
    "    return difference_of_means(\n",
    "        shuffled_table, numeric_label, 'Shuffled Label')   "
   ]
  },
  {
   "cell_type": "code",
   "execution_count": null,
   "id": "cell-lec20-4",
   "metadata": {},
   "outputs": [],
   "source": [
    "# Let's run it:\n",
    "one_simulated_difference(births, 'Birth Weight', 'Maternal Smoker')"
   ]
  },
  {
   "cell_type": "code",
   "execution_count": null,
   "id": "cd8a1081",
   "metadata": {},
   "outputs": [],
   "source": [
    "# Now let's run it 2500 times to get the empirical distribution of the test statistic under the null hypoth:\n",
    "differences = make_array()\n",
    "\n",
    "for i in np.arange(2500):\n",
    "    new_difference = one_simulated_difference(births,'Birth Weight', 'Maternal Smoker')\n",
    "    differences = np.append(differences, new_difference)"
   ]
  },
  {
   "cell_type": "code",
   "execution_count": null,
   "id": "85e85b1e",
   "metadata": {},
   "outputs": [],
   "source": [
    "Table().with_column('Difference of averages between groups', differences).hist('Difference of averages between groups')"
   ]
  },
  {
   "cell_type": "code",
   "execution_count": null,
   "id": "cell-lec20-5",
   "metadata": {},
   "outputs": [],
   "source": [
    "# Question: What's the p-value?"
   ]
  },
  {
   "cell_type": "markdown",
   "id": "cell-lec20-6",
   "metadata": {},
   "source": [
    "# Randomized Control Experiment"
   ]
  },
  {
   "cell_type": "code",
   "execution_count": null,
   "id": "cell-lec20-7",
   "metadata": {},
   "outputs": [],
   "source": [
    "# Does botox reduce pain?\n",
    "# 1 -> pain improved\n",
    "# 0 -> pain did not improve\n",
    "botox = Table.read_table('bta.csv')\n",
    "botox.show()"
   ]
  },
  {
   "cell_type": "code",
   "execution_count": null,
   "id": "cell-lec20-8",
   "metadata": {},
   "outputs": [],
   "source": [
    "# How can we see the number of people for each combination of Result and Group?\n",
    "botox.pivot('Result', 'Group')"
   ]
  },
  {
   "cell_type": "code",
   "execution_count": null,
   "id": "cell-lec20-9",
   "metadata": {},
   "outputs": [],
   "source": [
    "botox.group('Group', np.average)"
   ]
  },
  {
   "cell_type": "markdown",
   "id": "cell-lec20-10",
   "metadata": {},
   "source": [
    "# Testing the Hypothesis"
   ]
  },
  {
   "cell_type": "code",
   "execution_count": null,
   "id": "cell-lec20-11",
   "metadata": {},
   "outputs": [],
   "source": [
    "observed_diff = difference_of_means(botox, 'Result', 'Group')\n",
    "observed_diff"
   ]
  },
  {
   "cell_type": "code",
   "execution_count": null,
   "id": "cell-lec20-12",
   "metadata": {},
   "outputs": [],
   "source": [
    "one_simulated_difference(botox, 'Result', 'Group')"
   ]
  },
  {
   "cell_type": "code",
   "execution_count": null,
   "id": "cell-lec20-13",
   "metadata": {},
   "outputs": [],
   "source": [
    "# Find the empirical distribution under the null by running one_simulated_difference 10000 times:"
   ]
  },
  {
   "cell_type": "code",
   "execution_count": null,
   "id": "cell-lec20-14",
   "metadata": {},
   "outputs": [],
   "source": [
    "# And now make a histogram.  Make the label on the horizontal axis be 'Distances between groups'"
   ]
  },
  {
   "cell_type": "code",
   "execution_count": null,
   "id": "cell-lec20-15",
   "metadata": {},
   "outputs": [],
   "source": [
    "# p-value\n",
    "sum(simulated_diffs >= observed_diff)/len(simulated_diffs)"
   ]
  }
 ],
 "metadata": {
  "kernelspec": {
   "display_name": "Python 3 (ipykernel)",
   "language": "python",
   "name": "python3"
  },
  "language_info": {
   "codemirror_mode": {
    "name": "ipython",
    "version": 3
   },
   "file_extension": ".py",
   "mimetype": "text/x-python",
   "name": "python",
   "nbconvert_exporter": "python",
   "pygments_lexer": "ipython3",
   "version": "3.10.11"
  }
 },
 "nbformat": 4,
 "nbformat_minor": 5
}
