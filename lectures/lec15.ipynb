{
 "cells": [
  {
   "cell_type": "code",
   "execution_count": null,
   "id": "cell-lec15-0",
   "metadata": {},
   "outputs": [],
   "source": [
    "from datascience import *\n",
    "import numpy as np\n",
    "\n",
    "%matplotlib inline\n",
    "import matplotlib.pyplot as plots\n",
    "plots.style.use('fivethirtyeight')"
   ]
  },
  {
   "cell_type": "markdown",
   "id": "cell-lec15-1",
   "metadata": {},
   "source": [
    "## Lecture 15 ##"
   ]
  },
  {
   "cell_type": "markdown",
   "id": "0072d9cf",
   "metadata": {},
   "source": [
    "## Simulating Dice Rolls ##"
   ]
  },
  {
   "cell_type": "code",
   "execution_count": null,
   "id": "51ab8695",
   "metadata": {},
   "outputs": [],
   "source": [
    "# Let's simulate a coin flip by defining a function:"
   ]
  },
  {
   "cell_type": "code",
   "execution_count": null,
   "id": "3b9959f6",
   "metadata": {},
   "outputs": [],
   "source": [
    "# Let's flip the coin 100 times, then count the number of heads."
   ]
  },
  {
   "cell_type": "code",
   "execution_count": null,
   "id": "d5b8116a",
   "metadata": {},
   "outputs": [],
   "source": [
    "# Let's define a function num_heads() which flips a coin 100 times, then counts the number of heads."
   ]
  },
  {
   "cell_type": "code",
   "execution_count": null,
   "id": "db4f2e02",
   "metadata": {},
   "outputs": [],
   "source": []
  },
  {
   "cell_type": "code",
   "execution_count": null,
   "id": "b34fb1a9",
   "metadata": {},
   "outputs": [],
   "source": [
    "# Decide how many times you want to repeat the experiment"
   ]
  },
  {
   "cell_type": "code",
   "execution_count": null,
   "id": "100e9125",
   "metadata": {},
   "outputs": [],
   "source": [
    "# Simulate that many outcomes by writing a for-loop which will run the experiment the number of times specified."
   ]
  },
  {
   "cell_type": "code",
   "execution_count": null,
   "id": "7d4c862c",
   "metadata": {},
   "outputs": [],
   "source": [
    "# Let's make a histogram!"
   ]
  },
  {
   "cell_type": "markdown",
   "id": "cell-lec15-5",
   "metadata": {},
   "source": [
    "## Random Sampling ##"
   ]
  },
  {
   "cell_type": "markdown",
   "id": "cell-lec15-6",
   "metadata": {},
   "source": [
    "We load in a dataset of all United flights national flights from 6/1/15 to 8/9/15, their destination and how long they were delayed, in minutes."
   ]
  },
  {
   "cell_type": "code",
   "execution_count": null,
   "id": "cell-lec15-7",
   "metadata": {},
   "outputs": [],
   "source": [
    "# Run this cell to load the table\n",
    "united = Table.read_table('united.csv')\n",
    "united = united.with_column('Row', np.arange(united.num_rows)).move_to_start('Row')\n",
    "united"
   ]
  },
  {
   "cell_type": "markdown",
   "id": "cell-lec15-8",
   "metadata": {},
   "source": [
    "### Some deterministic samples:"
   ]
  },
  {
   "cell_type": "code",
   "execution_count": null,
   "id": "cell-lec15-9",
   "metadata": {},
   "outputs": [],
   "source": [
    "# No chance involved in this sample\n",
    "united.where('Destination', 'JFK') "
   ]
  },
  {
   "cell_type": "code",
   "execution_count": null,
   "id": "cell-lec15-10",
   "metadata": {},
   "outputs": [],
   "source": [
    "# If I run the command again, I will get identical results.  This is why we say this is a deterministic sample\n",
    "united.where('Destination', 'JFK') "
   ]
  },
  {
   "cell_type": "code",
   "execution_count": null,
   "id": "cell-lec15-11",
   "metadata": {},
   "outputs": [],
   "source": [
    "# Also deterministic, even if it feels like we are choosing the numbers \"randomly\"\n",
    "united.take(make_array(34, 6321, 10040))"
   ]
  },
  {
   "cell_type": "markdown",
   "id": "cell-lec15-12",
   "metadata": {},
   "source": [
    "### A random sample:"
   ]
  },
  {
   "cell_type": "code",
   "execution_count": null,
   "id": "cell-lec15-13",
   "metadata": {},
   "outputs": [],
   "source": [
    "start = np.random.choice(np.arange(1000))\n",
    "systematic_sample = united.take(np.arange(start, united.num_rows, 1000))\n",
    "systematic_sample.show()"
   ]
  },
  {
   "cell_type": "markdown",
   "id": "cell-lec15-14",
   "metadata": {},
   "source": [
    "## Distributions ##"
   ]
  },
  {
   "cell_type": "code",
   "execution_count": null,
   "id": "cell-lec15-15",
   "metadata": {},
   "outputs": [],
   "source": [
    "# Let's simulate a die roll.  First let's put the possible outcomes into a table:\n",
    "die = Table().with_column('Face', np.arange(1, 7))\n",
    "die"
   ]
  },
  {
   "cell_type": "code",
   "execution_count": null,
   "id": "cell-lec15-16",
   "metadata": {},
   "outputs": [],
   "source": [
    "# With a table, we can use the method 'sample' to randomly choose rows from the table (with replacement)\n",
    "die.sample(10)"
   ]
  },
  {
   "cell_type": "code",
   "execution_count": null,
   "id": "cell-lec15-17",
   "metadata": {},
   "outputs": [],
   "source": [
    "# The probability distribution of the die\n",
    "die.hist()"
   ]
  },
  {
   "cell_type": "code",
   "execution_count": null,
   "id": "cell-lec15-18",
   "metadata": {},
   "outputs": [],
   "source": [
    "# The above is ugly because we are trying to use 10 bins for 6 outcomes.  Let's fix:\n",
    "roll_bins = np.arange(0.5, 6.6, 1)"
   ]
  },
  {
   "cell_type": "code",
   "execution_count": null,
   "id": "cell-lec15-19",
   "metadata": {},
   "outputs": [],
   "source": [
    "die.hist(bins=roll_bins)"
   ]
  },
  {
   "cell_type": "code",
   "execution_count": null,
   "id": "cell-lec15-20",
   "metadata": {},
   "outputs": [],
   "source": [
    "# The empirical distribution of 10 die rolls.  Notice that this changes every time.\n",
    "die.sample(10).hist(bins=roll_bins)"
   ]
  },
  {
   "cell_type": "code",
   "execution_count": null,
   "id": "cell-lec15-21",
   "metadata": {},
   "outputs": [],
   "source": [
    "# When we increase the number of samples, the empirical distribution looks more like the probability distribution!\n",
    "die.sample(1000).hist(bins=roll_bins)"
   ]
  },
  {
   "cell_type": "code",
   "execution_count": null,
   "id": "cell-lec15-22",
   "metadata": {},
   "outputs": [],
   "source": [
    "die.sample(100000).hist(bins=roll_bins)"
   ]
  },
  {
   "cell_type": "markdown",
   "id": "cell-lec15-23",
   "metadata": {},
   "source": [
    "## Large Random Samples ##"
   ]
  },
  {
   "cell_type": "code",
   "execution_count": null,
   "id": "cell-lec15-24",
   "metadata": {},
   "outputs": [],
   "source": [
    "united "
   ]
  },
  {
   "cell_type": "code",
   "execution_count": null,
   "id": "cell-lec15-25",
   "metadata": {},
   "outputs": [],
   "source": [
    "united_bins = np.arange(-20, 201, 5)\n",
    "united.hist('Delay', bins = united_bins)"
   ]
  },
  {
   "cell_type": "code",
   "execution_count": null,
   "id": "cell-lec15-26",
   "metadata": {},
   "outputs": [],
   "source": [
    "min(united.column('Delay'))"
   ]
  },
  {
   "cell_type": "code",
   "execution_count": null,
   "id": "cell-lec15-27",
   "metadata": {
    "scrolled": true
   },
   "outputs": [],
   "source": [
    "max(united.column('Delay'))"
   ]
  },
  {
   "cell_type": "code",
   "execution_count": null,
   "id": "cell-lec15-28",
   "metadata": {},
   "outputs": [],
   "source": [
    "np.average(united.column('Delay'))"
   ]
  },
  {
   "cell_type": "code",
   "execution_count": null,
   "id": "cell-lec15-29",
   "metadata": {},
   "outputs": [],
   "source": [
    "united.sample(10).hist('Delay', bins = united_bins)"
   ]
  },
  {
   "cell_type": "code",
   "execution_count": null,
   "id": "cell-lec15-30",
   "metadata": {},
   "outputs": [],
   "source": [
    "united.sample(1000).hist('Delay', bins = united_bins)"
   ]
  },
  {
   "cell_type": "markdown",
   "id": "cell-lec15-31",
   "metadata": {},
   "source": [
    "## Simulating Statistics ##"
   ]
  },
  {
   "cell_type": "code",
   "execution_count": null,
   "id": "cell-lec15-32",
   "metadata": {},
   "outputs": [],
   "source": [
    "np.median(united.column('Delay'))"
   ]
  },
  {
   "cell_type": "code",
   "execution_count": null,
   "id": "cell-lec15-33",
   "metadata": {},
   "outputs": [],
   "source": [
    "np.median(united.sample(10).column('Delay'))"
   ]
  },
  {
   "cell_type": "code",
   "execution_count": null,
   "id": "cell-lec15-34",
   "metadata": {},
   "outputs": [],
   "source": [
    "def sample_median(size):\n",
    "    return np.median(united.sample(size).column('Delay'))"
   ]
  },
  {
   "cell_type": "code",
   "execution_count": null,
   "id": "cell-lec15-35",
   "metadata": {},
   "outputs": [],
   "source": [
    "sample_median(10)"
   ]
  },
  {
   "cell_type": "code",
   "execution_count": null,
   "id": "cell-lec15-36",
   "metadata": {},
   "outputs": [],
   "source": [
    "sample_medians = make_array()\n",
    "\n",
    "for i in np.arange(1000):\n",
    "    new_median = sample_median(10)\n",
    "    sample_medians = np.append(sample_medians, new_median)"
   ]
  },
  {
   "cell_type": "code",
   "execution_count": null,
   "id": "cell-lec15-37",
   "metadata": {
    "scrolled": true
   },
   "outputs": [],
   "source": [
    "Table().with_column('Sample medians', sample_medians).hist(bins = np.arange(-10,31))"
   ]
  },
  {
   "cell_type": "code",
   "execution_count": null,
   "id": "cell-lec15-38",
   "metadata": {},
   "outputs": [],
   "source": [
    "sample_medians = make_array()\n",
    "\n",
    "for i in np.arange(1000):\n",
    "    new_median = sample_median(1000)\n",
    "    sample_medians = np.append(sample_medians, new_median)"
   ]
  },
  {
   "cell_type": "code",
   "execution_count": null,
   "id": "cell-lec15-39",
   "metadata": {
    "scrolled": true
   },
   "outputs": [],
   "source": [
    "Table().with_column(\n",
    "    'Sample medians', sample_medians).hist(bins = np.arange(-10,31))"
   ]
  }
 ],
 "metadata": {
  "anaconda-cloud": {},
  "kernelspec": {
   "display_name": "Python 3 (ipykernel)",
   "language": "python",
   "name": "python3"
  },
  "language_info": {
   "codemirror_mode": {
    "name": "ipython",
    "version": 3
   },
   "file_extension": ".py",
   "mimetype": "text/x-python",
   "name": "python",
   "nbconvert_exporter": "python",
   "pygments_lexer": "ipython3",
   "version": "3.10.11"
  }
 },
 "nbformat": 4,
 "nbformat_minor": 5
}
