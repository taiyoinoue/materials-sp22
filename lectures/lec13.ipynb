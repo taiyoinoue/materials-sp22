{
 "cells": [
  {
   "cell_type": "code",
   "execution_count": 1,
   "id": "cell-lec13-0",
   "metadata": {},
   "outputs": [],
   "source": [
    "from datascience import *\n",
    "import numpy as np\n",
    "\n",
    "%matplotlib inline\n",
    "import matplotlib.pyplot as plots\n",
    "plots.style.use('fivethirtyeight')\n",
    "import warnings\n",
    "warnings.simplefilter(action='ignore', category=np.VisibleDeprecationWarning)"
   ]
  },
  {
   "cell_type": "markdown",
   "id": "cell-lec13-1",
   "metadata": {},
   "source": [
    "## Comparison ##"
   ]
  },
  {
   "cell_type": "code",
   "execution_count": null,
   "id": "cell-lec13-2",
   "metadata": {},
   "outputs": [],
   "source": [
    "# A boolean value can be either True or False"
   ]
  },
  {
   "cell_type": "code",
   "execution_count": 1,
   "id": "cell-lec13-3",
   "metadata": {},
   "outputs": [],
   "source": [
    "# Capitalization matters!"
   ]
  },
  {
   "cell_type": "code",
   "execution_count": null,
   "id": "cell-lec13-4",
   "metadata": {},
   "outputs": [],
   "source": [
    "# Comparison expressions evaluate to booleans"
   ]
  },
  {
   "cell_type": "code",
   "execution_count": null,
   "id": "cell-lec13-5",
   "metadata": {
    "tags": [
     "raises-exception"
    ]
   },
   "outputs": [],
   "source": []
  },
  {
   "cell_type": "code",
   "execution_count": null,
   "id": "cell-lec13-7",
   "metadata": {
    "tags": [
     "raises-exception"
    ]
   },
   "outputs": [],
   "source": [
    "# Assignment and comparison are different!\n",
    "3 = 3"
   ]
  },
  {
   "cell_type": "code",
   "execution_count": 2,
   "id": "cell-lec13-8",
   "metadata": {},
   "outputs": [
    {
     "data": {
      "text/plain": [
       "True"
      ]
     },
     "execution_count": 2,
     "metadata": {},
     "output_type": "execute_result"
    }
   ],
   "source": [
    "# Sometimes, different types can be correctly compared:\n",
    "\n",
    "3 == 3.0"
   ]
  },
  {
   "cell_type": "code",
   "execution_count": null,
   "id": "cell-lec13-9",
   "metadata": {},
   "outputs": [],
   "source": [
    "10 != 2"
   ]
  },
  {
   "cell_type": "code",
   "execution_count": null,
   "id": "cell-lec13-10",
   "metadata": {},
   "outputs": [],
   "source": [
    "# Named objects can be used in comparisons:\n",
    "x = ...\n",
    "y = ..."
   ]
  },
  {
   "cell_type": "code",
   "execution_count": null,
   "id": "cell-lec13-11",
   "metadata": {},
   "outputs": [],
   "source": []
  },
  {
   "cell_type": "code",
   "execution_count": null,
   "id": "cell-lec13-12",
   "metadata": {},
   "outputs": [],
   "source": []
  },
  {
   "cell_type": "code",
   "execution_count": null,
   "id": "cell-lec13-13",
   "metadata": {},
   "outputs": [],
   "source": []
  },
  {
   "cell_type": "code",
   "execution_count": null,
   "id": "cell-lec13-14",
   "metadata": {},
   "outputs": [],
   "source": [
    "# For inequalities, you can do a < x < b.  This is equivalent to a < x AND x < a.\n"
   ]
  },
  {
   "cell_type": "code",
   "execution_count": null,
   "id": "cell-lec13-15",
   "metadata": {},
   "outputs": [],
   "source": []
  },
  {
   "cell_type": "code",
   "execution_count": null,
   "id": "cell-lec13-16",
   "metadata": {},
   "outputs": [],
   "source": []
  },
  {
   "cell_type": "markdown",
   "id": "cell-lec13-17",
   "metadata": {},
   "source": [
    "(The comparison `12 < x < 20` is equivalent to `12 < x and x < 20`.)"
   ]
  },
  {
   "cell_type": "markdown",
   "id": "cell-lec13-18",
   "metadata": {},
   "source": [
    "## Comparisons with arrays"
   ]
  },
  {
   "cell_type": "code",
   "execution_count": 5,
   "id": "cell-lec13-19",
   "metadata": {},
   "outputs": [],
   "source": [
    "# Let's assign an array of pets\n",
    "pets = make_array('cat', 'cat', 'dog', 'cat', 'dog', 'rabbit')"
   ]
  },
  {
   "cell_type": "code",
   "execution_count": null,
   "id": "cell-lec13-20",
   "metadata": {},
   "outputs": [],
   "source": [
    "# We can do comparison expressions for arrays.  This returns an array of booleans!\n"
   ]
  },
  {
   "cell_type": "code",
   "execution_count": null,
   "id": "cell-lec13-21",
   "metadata": {},
   "outputs": [],
   "source": [
    "# 'True' is equal to 1, while 'False' is equal to 0\n",
    "True == 1"
   ]
  },
  {
   "cell_type": "code",
   "execution_count": 14,
   "id": "cell-lec13-22",
   "metadata": {},
   "outputs": [
    {
     "data": {
      "text/plain": [
       "2"
      ]
     },
     "execution_count": 14,
     "metadata": {},
     "output_type": "execute_result"
    }
   ],
   "source": []
  },
  {
   "cell_type": "code",
   "execution_count": null,
   "id": "cell-lec13-23",
   "metadata": {},
   "outputs": [],
   "source": [
    "# This counts the number of entries of pets which are 'dog'\n",
    "sum(pets == 'dog')"
   ]
  },
  {
   "cell_type": "code",
   "execution_count": 10,
   "id": "cell-lec13-24",
   "metadata": {},
   "outputs": [
    {
     "data": {
      "text/plain": [
       "True"
      ]
     },
     "execution_count": 10,
     "metadata": {},
     "output_type": "execute_result"
    }
   ],
   "source": []
  },
  {
   "cell_type": "code",
   "execution_count": 22,
   "id": "b6d5db08",
   "metadata": {},
   "outputs": [
    {
     "data": {
      "text/plain": [
       "<function numpy.count_nonzero(a, axis=None, *, keepdims=False)>"
      ]
     },
     "execution_count": 22,
     "metadata": {},
     "output_type": "execute_result"
    }
   ],
   "source": [
    "# When we np.count_nonzero entries in an array full of boolean values, we are really counting the number of 'True'"
   ]
  },
  {
   "cell_type": "code",
   "execution_count": null,
   "id": "cell-lec13-25",
   "metadata": {},
   "outputs": [],
   "source": [
    "x = np.arange(20, 31)"
   ]
  },
  {
   "cell_type": "code",
   "execution_count": null,
   "id": "cell-lec13-26",
   "metadata": {
    "scrolled": true
   },
   "outputs": [],
   "source": [
    "# Can you imagine what the output will look like?\n",
    "x > 28"
   ]
  },
  {
   "cell_type": "code",
   "execution_count": null,
   "id": "cell-lec13-27",
   "metadata": {},
   "outputs": [],
   "source": [
    "# How about for this?\n",
    "sum(x > 28)"
   ]
  },
  {
   "cell_type": "markdown",
   "id": "cell-lec13-28",
   "metadata": {},
   "source": [
    "## Rows & Apply"
   ]
  },
  {
   "cell_type": "code",
   "execution_count": 2,
   "id": "cell-lec13-29",
   "metadata": {},
   "outputs": [
    {
     "data": {
      "text/html": [
       "<table border=\"1\" class=\"dataframe\">\n",
       "    <thead>\n",
       "        <tr>\n",
       "            <th>family</th> <th>father</th> <th>mother</th> <th>child</th> <th>children</th> <th>order</th> <th>sex</th>\n",
       "        </tr>\n",
       "    </thead>\n",
       "    <tbody>\n",
       "        <tr>\n",
       "            <td>1     </td> <td>78.5  </td> <td>67    </td> <td>73.2 </td> <td>4       </td> <td>1    </td> <td>male  </td>\n",
       "        </tr>\n",
       "        <tr>\n",
       "            <td>1     </td> <td>78.5  </td> <td>67    </td> <td>69.2 </td> <td>4       </td> <td>2    </td> <td>female</td>\n",
       "        </tr>\n",
       "        <tr>\n",
       "            <td>1     </td> <td>78.5  </td> <td>67    </td> <td>69   </td> <td>4       </td> <td>3    </td> <td>female</td>\n",
       "        </tr>\n",
       "    </tbody>\n",
       "</table>\n",
       "<p>... (931 rows omitted)</p>"
      ],
      "text/plain": [
       "<IPython.core.display.HTML object>"
      ]
     },
     "metadata": {},
     "output_type": "display_data"
    }
   ],
   "source": [
    "# Let's load the family heights data data\n",
    "heights = Table.read_table('family_heights.csv')\n",
    "heights.show(3)"
   ]
  },
  {
   "cell_type": "code",
   "execution_count": 3,
   "id": "cell-lec13-31",
   "metadata": {},
   "outputs": [
    {
     "data": {
      "text/plain": [
       "Row(family='1', father=78.5, mother=67.0, child=73.200000000000003, children=4, order=1, sex='male')"
      ]
     },
     "execution_count": 3,
     "metadata": {},
     "output_type": "execute_result"
    }
   ],
   "source": [
    "# Let's grab the first row:\n"
   ]
  },
  {
   "cell_type": "code",
   "execution_count": 4,
   "id": "cell-lec13-32",
   "metadata": {},
   "outputs": [
    {
     "data": {
      "text/plain": [
       "datascience.tables.Row"
      ]
     },
     "execution_count": 4,
     "metadata": {},
     "output_type": "execute_result"
    }
   ],
   "source": [
    "# The data type of a row\n"
   ]
  },
  {
   "cell_type": "code",
   "execution_count": 5,
   "id": "cell-lec13-33",
   "metadata": {},
   "outputs": [
    {
     "data": {
      "text/plain": [
       "78.5"
      ]
     },
     "execution_count": 5,
     "metadata": {},
     "output_type": "execute_result"
    }
   ],
   "source": [
    "# You can use indices to grab entries of a row using .item:\n"
   ]
  },
  {
   "cell_type": "code",
   "execution_count": 6,
   "id": "cell-lec13-34",
   "metadata": {},
   "outputs": [
    {
     "data": {
      "text/plain": [
       "78.5"
      ]
     },
     "execution_count": 6,
     "metadata": {},
     "output_type": "execute_result"
    }
   ],
   "source": [
    "# Or you can use column labels:\n"
   ]
  },
  {
   "cell_type": "code",
   "execution_count": 7,
   "id": "cell-lec13-35",
   "metadata": {
    "scrolled": true
   },
   "outputs": [
    {
     "data": {
      "text/html": [
       "<table border=\"1\" class=\"dataframe\">\n",
       "    <thead>\n",
       "        <tr>\n",
       "            <th>father</th> <th>mother</th> <th>child</th>\n",
       "        </tr>\n",
       "    </thead>\n",
       "    <tbody>\n",
       "        <tr>\n",
       "            <td>78.5  </td> <td>67    </td> <td>73.2 </td>\n",
       "        </tr>\n",
       "        <tr>\n",
       "            <td>78.5  </td> <td>67    </td> <td>69.2 </td>\n",
       "        </tr>\n",
       "        <tr>\n",
       "            <td>78.5  </td> <td>67    </td> <td>69   </td>\n",
       "        </tr>\n",
       "        <tr>\n",
       "            <td>78.5  </td> <td>67    </td> <td>69   </td>\n",
       "        </tr>\n",
       "        <tr>\n",
       "            <td>75.5  </td> <td>66.5  </td> <td>73.5 </td>\n",
       "        </tr>\n",
       "        <tr>\n",
       "            <td>75.5  </td> <td>66.5  </td> <td>72.5 </td>\n",
       "        </tr>\n",
       "        <tr>\n",
       "            <td>75.5  </td> <td>66.5  </td> <td>65.5 </td>\n",
       "        </tr>\n",
       "        <tr>\n",
       "            <td>75.5  </td> <td>66.5  </td> <td>65.5 </td>\n",
       "        </tr>\n",
       "        <tr>\n",
       "            <td>75    </td> <td>64    </td> <td>71   </td>\n",
       "        </tr>\n",
       "        <tr>\n",
       "            <td>75    </td> <td>64    </td> <td>68   </td>\n",
       "        </tr>\n",
       "    </tbody>\n",
       "</table>\n",
       "<p>... (924 rows omitted)</p>"
      ],
      "text/plain": [
       "father | mother | child\n",
       "78.5   | 67     | 73.2\n",
       "78.5   | 67     | 69.2\n",
       "78.5   | 67     | 69\n",
       "78.5   | 67     | 69\n",
       "75.5   | 66.5   | 73.5\n",
       "75.5   | 66.5   | 72.5\n",
       "75.5   | 66.5   | 65.5\n",
       "75.5   | 66.5   | 65.5\n",
       "75     | 64     | 71\n",
       "75     | 64     | 68\n",
       "... (924 rows omitted)"
      ]
     },
     "execution_count": 7,
     "metadata": {},
     "output_type": "execute_result"
    }
   ],
   "source": [
    "# Let's define only_heights to be a table with only the heights of father, mother, and child\n",
    "only_heights = ..."
   ]
  },
  {
   "cell_type": "code",
   "execution_count": 8,
   "id": "033849e8",
   "metadata": {
    "collapsed": true
   },
   "outputs": [
    {
     "data": {
      "text/plain": [
       "array([ 72.9       ,  71.56666667,  71.5       ,  71.5       ,\n",
       "        71.83333333,  71.5       ,  69.16666667,  69.16666667,\n",
       "        70.        ,  69.        ,  69.83333333,  69.16666667,\n",
       "        68.66666667,  67.83333333,  67.33333333,  68.5       ,\n",
       "        67.5       ,  67.16666667,  66.66666667,  65.33333333,\n",
       "        65.33333333,  70.5       ,  72.83333333,  72.        ,\n",
       "        71.66666667,  71.66666667,  70.83333333,  68.66666667,\n",
       "        70.33333333,  69.5       ,  68.83333333,  68.83333333,\n",
       "        68.33333333,  70.        ,  68.66666667,  68.        ,\n",
       "        67.66666667,  67.66666667,  67.33333333,  66.5       ,\n",
       "        66.33333333,  66.66666667,  70.33333333,  67.33333333,\n",
       "        69.33333333,  69.        ,  70.16666667,  70.        ,\n",
       "        68.73333333,  70.        ,  69.5       ,  69.4       ,\n",
       "        69.4       ,  69.06666667,  68.9       ,  68.16666667,\n",
       "        67.5       ,  67.16666667,  70.5       ,  70.16666667,\n",
       "        69.66666667,  66.66666667,  68.        ,  66.6       ,\n",
       "        67.66666667,  67.16666667,  67.        ,  66.3       ,\n",
       "        71.63333333,  71.56666667,  71.46666667,  70.56666667,\n",
       "        70.23333333,  70.06666667,  69.9       ,  69.23333333,\n",
       "        71.        ,  69.5       ,  69.33333333,  70.66666667,\n",
       "        70.        ,  68.66666667,  70.4       ,  69.16666667,\n",
       "        68.83333333,  67.66666667,  67.5       ,  67.33333333,\n",
       "        67.33333333,  67.66666667,  67.33333333,  66.33333333,\n",
       "        68.5       ,  68.5       ,  68.        ,  66.66666667,\n",
       "        66.        ,  68.        ,  67.33333333,  66.        ,\n",
       "        69.33333333,  67.33333333,  68.5       ,  68.33333333,\n",
       "        67.16666667,  66.        ,  67.83333333,  67.73333333,\n",
       "        67.56666667,  66.        ,  68.5       ,  68.16666667,\n",
       "        68.16666667,  66.83333333,  66.5       ,  66.5       ,\n",
       "        69.33333333,  68.66666667,  67.66666667,  67.16666667,\n",
       "        65.83333333,  68.66666667,  68.5       ,  68.5       ,\n",
       "        68.        ,  67.33333333,  66.23333333,  72.66666667,\n",
       "        71.33333333,  71.        ,  70.66666667,  69.        ,\n",
       "        70.4       ,  70.33333333,  69.        ,  68.33333333,\n",
       "        69.        ,  68.        ,  68.        ,  67.83333333,\n",
       "        69.        ,  68.66666667,  68.5       ,  67.66666667,\n",
       "        67.16666667,  66.66666667,  69.33333333,  68.        ,\n",
       "        71.        ,  69.66666667,  69.33333333,  67.66666667,\n",
       "        67.66666667,  69.23333333,  69.5       ,  69.5       ,\n",
       "        69.16666667,  68.5       ,  67.5       ,  67.16666667,\n",
       "        70.        ,  67.4       ,  68.33333333,  68.06666667,\n",
       "        68.        ,  68.        ,  66.        ,  67.66666667,\n",
       "        67.66666667,  67.5       ,  67.16666667,  67.16666667,\n",
       "        67.        ,  66.83333333,  66.66666667,  69.4       ,\n",
       "        69.06666667,  68.9       ,  67.73333333,  67.66666667,\n",
       "        67.66666667,  67.66666667,  69.33333333,  69.        ,\n",
       "        68.66666667,  67.33333333,  66.83333333,  66.83333333,\n",
       "        66.        ,  69.5       ,  65.83333333,  67.23333333,\n",
       "        66.23333333,  68.5       ,  67.16666667,  66.83333333,\n",
       "        66.5       ,  66.        ,  68.33333333,  68.        ,\n",
       "        68.        ,  66.        ,  66.33333333,  66.33333333,\n",
       "        66.        ,  65.66666667,  65.66666667,  68.33333333,\n",
       "        68.33333333,  68.        ,  65.83333333,  68.        ,\n",
       "        67.66666667,  65.83333333,  65.16666667,  64.83333333,\n",
       "        68.33333333,  67.83333333,  67.83333333,  65.83333333,\n",
       "        64.33333333,  67.83333333,  65.83333333,  65.83333333,\n",
       "        65.83333333,  65.33333333,  67.83333333,  67.66666667,\n",
       "        67.33333333,  67.33333333,  66.33333333,  65.83333333,\n",
       "        65.66666667,  64.66666667,  66.83333333,  66.        ,\n",
       "        70.        ,  69.66666667,  69.33333333,  69.33333333,\n",
       "        69.66666667,  69.23333333,  69.        ,  68.33333333,\n",
       "        67.66666667,  67.        ,  71.        ,  69.        ,\n",
       "        68.66666667,  67.66666667,  67.        ,  65.66666667,\n",
       "        68.16666667,  69.83333333,  69.5       ,  69.5       ,\n",
       "        67.66666667,  68.56666667,  67.9       ,  67.66666667,\n",
       "        67.5       ,  67.5       ,  66.9       ,  66.73333333,\n",
       "        69.16666667,  68.56666667,  68.16666667,  68.        ,\n",
       "        67.83333333,  66.83333333,  65.66666667,  65.5       ,\n",
       "        65.5       ,  69.33333333,  69.        ,  68.5       ,\n",
       "        66.66666667,  66.66666667,  66.5       ,  66.        ,\n",
       "        65.66666667,  67.33333333,  66.66666667,  66.5       ,\n",
       "        65.83333333,  65.83333333,  68.33333333,  68.33333333,\n",
       "        67.33333333,  66.66666667,  66.66666667,  66.        ,\n",
       "        71.33333333,  70.        ,  68.66666667,  68.        ,\n",
       "        67.33333333,  66.9       ,  65.66666667,  69.33333333,\n",
       "        69.16666667,  66.66666667,  68.        ,  68.        ,\n",
       "        68.9       ,  68.23333333,  67.8       ,  67.06666667,\n",
       "        66.73333333,  66.46666667,  66.4       ,  68.23333333,\n",
       "        68.        ,  67.33333333,  67.        ,  66.66666667,\n",
       "        66.33333333,  67.        ,  68.        ,  67.33333333,\n",
       "        66.9       ,  66.5       ,  68.73333333,  68.06666667,\n",
       "        65.56666667,  65.13333333,  64.76666667,  69.5       ,\n",
       "        68.        ,  67.83333333,  67.5       ,  67.5       ,\n",
       "        67.5       ,  66.66666667,  66.5       ,  65.        ,\n",
       "        67.33333333,  66.33333333,  66.        ,  65.33333333,\n",
       "        68.33333333,  68.        ,  68.        ,  68.        ,\n",
       "        67.83333333,  67.5       ,  67.66666667,  66.33333333,\n",
       "        66.        ,  67.9       ,  66.9       ,  66.4       ,\n",
       "        65.8       ,  65.63333333,  65.4       ,  65.3       ,\n",
       "        64.9       ,  67.83333333,  67.33333333,  66.33333333,\n",
       "        65.66666667,  68.66666667,  67.5       ,  66.83333333,\n",
       "        66.        ,  65.83333333,  68.16666667,  67.        ,\n",
       "        67.        ,  65.66666667,  67.        ,  66.66666667,\n",
       "        65.56666667,  65.        ,  67.66666667,  66.5       ,\n",
       "        65.        ,  64.66666667,  68.16666667,  67.5       ,\n",
       "        67.33333333,  67.33333333,  66.83333333,  65.83333333,\n",
       "        65.5       ,  65.16666667,  67.9       ,  67.56666667,\n",
       "        67.4       ,  66.06666667,  65.66666667,  65.5       ,\n",
       "        65.4       ,  68.16666667,  68.16666667,  64.16666667,\n",
       "        67.4       ,  66.        ,  65.66666667,  64.83333333,\n",
       "        65.        ,  64.33333333,  65.        ,  65.        ,\n",
       "        66.66666667,  64.33333333,  63.83333333,  66.66666667,\n",
       "        64.66666667,  64.66666667,  64.33333333,  63.66666667,\n",
       "        70.83333333,  69.5       ,  69.16666667,  67.83333333,\n",
       "        67.83333333,  67.66666667,  67.5       ,  67.5       ,\n",
       "        67.16666667,  67.16666667,  66.66666667,  69.33333333,\n",
       "        69.        ,  68.9       ,  68.83333333,  66.83333333,\n",
       "        66.66666667,  65.9       ,  65.83333333,  68.73333333,\n",
       "        68.66666667,  68.33333333,  70.23333333,  69.9       ,\n",
       "        69.23333333,  68.06666667,  68.33333333,  67.83333333,\n",
       "        67.66666667,  66.66666667,  66.        ,  65.83333333,\n",
       "        69.5       ,  68.83333333,  68.66666667,  68.66666667,\n",
       "        67.5       ,  67.16666667,  65.5       ,  68.83333333,\n",
       "        67.83333333,  66.83333333,  66.66666667,  68.83333333,\n",
       "        68.        ,  67.66666667,  67.16666667,  66.16666667,\n",
       "        66.16666667,  68.83333333,  68.83333333,  68.66666667,\n",
       "        68.66666667,  67.33333333,  67.        ,  66.66666667,\n",
       "        69.33333333,  69.        ,  68.        ,  68.        ,\n",
       "        67.16666667,  66.83333333,  66.83333333,  66.66666667,\n",
       "        66.33333333,  68.        ,  67.5       ,  67.        ,\n",
       "        66.33333333,  66.        ,  65.83333333,  65.        ,\n",
       "        67.9       ,  67.33333333,  64.66666667,  66.4       ,\n",
       "        66.16666667,  65.9       ,  64.66666667,  68.3       ,\n",
       "        66.56666667,  66.06666667,  65.56666667,  66.        ,\n",
       "        67.        ,  66.5       ,  65.16666667,  68.        ,\n",
       "        68.33333333,  67.33333333,  67.33333333,  65.33333333,\n",
       "        66.        ,  64.66666667,  67.66666667,  66.5       ,\n",
       "        66.16666667,  65.83333333,  65.16666667,  64.83333333,\n",
       "        64.5       ,  67.66666667,  65.4       ,  65.16666667,\n",
       "        64.73333333,  68.16666667,  67.83333333,  66.83333333,\n",
       "        68.        ,  67.33333333,  67.33333333,  66.66666667,\n",
       "        64.66666667,  67.83333333,  67.16666667,  66.43333333,\n",
       "        65.56666667,  65.4       ,  65.33333333,  65.        ,\n",
       "        65.        ,  64.66666667,  64.5       ,  64.33333333,\n",
       "        67.5       ,  67.16666667,  67.16666667,  66.83333333,\n",
       "        65.        ,  64.66666667,  64.66666667,  64.5       ,\n",
       "        67.66666667,  66.33333333,  65.66666667,  65.66666667,\n",
       "        66.83333333,  66.66666667,  66.5       ,  64.5       ,\n",
       "        64.16666667,  66.        ,  66.        ,  65.83333333,\n",
       "        64.66666667,  64.33333333,  64.33333333,  64.5       ,\n",
       "        64.        ,  64.        ,  66.5       ,  65.66666667,\n",
       "        63.83333333,  66.        ,  65.        ,  63.56666667,\n",
       "        63.16666667,  66.33333333,  70.06666667,  66.96666667,\n",
       "        69.5       ,  68.83333333,  67.5       ,  68.33333333,\n",
       "        68.        ,  68.        ,  67.9       ,  67.83333333,\n",
       "        67.83333333,  67.66666667,  67.66666667,  67.66666667,\n",
       "        67.06666667,  66.06666667,  66.83333333,  66.33333333,\n",
       "        66.5       ,  65.83333333,  68.4       ,  68.33333333,\n",
       "        68.06666667,  66.33333333,  66.66666667,  66.23333333,\n",
       "        65.        ,  68.33333333,  68.33333333,  67.        ,\n",
       "        66.33333333,  67.56666667,  67.16666667,  66.5       ,\n",
       "        66.5       ,  65.16666667,  65.        ,  64.83333333,\n",
       "        64.5       ,  68.5       ,  68.        ,  67.4       ,\n",
       "        67.33333333,  67.06666667,  65.83333333,  65.66666667,\n",
       "        65.5       ,  67.66666667,  66.66666667,  66.66666667,\n",
       "        66.33333333,  65.66666667,  65.33333333,  65.        ,\n",
       "        65.        ,  64.66666667,  64.33333333,  66.        ,\n",
       "        65.        ,  65.83333333,  64.66666667,  67.73333333,\n",
       "        67.73333333,  67.        ,  66.83333333,  64.83333333,\n",
       "        64.83333333,  67.        ,  66.33333333,  66.        ,\n",
       "        66.        ,  66.        ,  65.66666667,  65.66666667,\n",
       "        65.66666667,  65.33333333,  65.        ,  67.16666667,\n",
       "        67.        ,  66.33333333,  65.66666667,  65.66666667,\n",
       "        65.66666667,  64.33333333,  64.16666667,  68.5       ,\n",
       "        67.33333333,  67.16666667,  65.83333333,  66.        ,\n",
       "        67.        ,  66.33333333,  65.16666667,  65.        ,\n",
       "        67.33333333,  66.33333333,  65.66666667,  65.5       ,\n",
       "        65.33333333,  64.66666667,  64.33333333,  64.33333333,\n",
       "        66.        ,  66.        ,  65.66666667,  65.        ,\n",
       "        64.83333333,  64.        ,  66.73333333,  67.        ,\n",
       "        67.23333333,  66.9       ,  66.23333333,  65.73333333,\n",
       "        65.4       ,  66.33333333,  66.13333333,  64.13333333,\n",
       "        65.66666667,  65.83333333,  65.66666667,  64.33333333,\n",
       "        64.16666667,  64.        ,  64.96666667,  64.        ,\n",
       "        63.        ,  63.        ,  62.66666667,  62.66666667,\n",
       "        62.66666667,  61.33333333,  65.16666667,  65.        ,\n",
       "        64.83333333,  62.66666667,  65.5       ,  65.        ,\n",
       "        64.        ,  63.9       ,  63.66666667,  63.66666667,\n",
       "        63.33333333,  64.        ,  64.        ,  63.        ,\n",
       "        62.66666667,  68.63333333,  68.63333333,  68.23333333,\n",
       "        66.23333333,  65.56666667,  68.16666667,  68.66666667,\n",
       "        68.        ,  67.9       ,  67.66666667,  67.33333333,\n",
       "        67.        ,  66.16666667,  65.        ,  67.23333333,\n",
       "        66.5       ,  65.83333333,  65.66666667,  65.5       ,\n",
       "        65.16666667,  67.5       ,  67.16666667,  66.        ,\n",
       "        66.        ,  65.16666667,  67.5       ,  66.73333333,\n",
       "        65.16666667,  64.16666667,  65.66666667,  64.66666667,\n",
       "        64.66666667,  67.83333333,  67.16666667,  65.5       ,\n",
       "        65.5       ,  65.16666667,  65.16666667,  65.16666667,\n",
       "        65.16666667,  65.16666667,  65.        ,  64.83333333,\n",
       "        67.5       ,  67.        ,  66.        ,  66.        ,\n",
       "        67.16666667,  66.9       ,  66.56666667,  66.33333333,\n",
       "        66.16666667,  65.83333333,  65.33333333,  64.66666667,\n",
       "        66.33333333,  66.        ,  64.33333333,  66.5       ,\n",
       "        66.33333333,  66.16666667,  66.        ,  65.16666667,\n",
       "        65.        ,  67.83333333,  67.83333333,  66.66666667,\n",
       "        66.33333333,  66.33333333,  65.        ,  65.        ,\n",
       "        64.83333333,  68.33333333,  66.        ,  66.        ,\n",
       "        66.66666667,  65.66666667,  65.66666667,  65.        ,\n",
       "        64.33333333,  64.33333333,  66.        ,  65.66666667,\n",
       "        66.33333333,  66.16666667,  65.83333333,  68.        ,\n",
       "        66.66666667,  66.        ,  65.66666667,  64.66666667,\n",
       "        64.33333333,  66.73333333,  66.66666667,  66.        ,\n",
       "        65.33333333,  64.66666667,  64.        ,  64.        ,\n",
       "        63.        ,  67.83333333,  67.5       ,  66.16666667,\n",
       "        65.83333333,  65.5       ,  66.33333333,  64.66666667,\n",
       "        63.83333333,  65.56666667,  65.5       ,  64.83333333,\n",
       "        64.83333333,  64.83333333,  64.16666667,  66.33333333,\n",
       "        65.66666667,  64.16666667,  63.83333333,  63.83333333,\n",
       "        63.83333333,  63.83333333,  65.83333333,  64.66666667,\n",
       "        64.33333333,  63.66666667,  62.        ,  63.66666667,\n",
       "        64.33333333,  64.        ,  63.83333333,  63.66666667,\n",
       "        63.56666667,  63.5       ,  63.33333333,  63.33333333,\n",
       "        63.        ,  62.66666667,  62.33333333,  62.        ,\n",
       "        61.66666667,  61.        ,  60.66666667,  66.16666667,\n",
       "        66.        ,  66.        ,  65.66666667,  65.        ,\n",
       "        64.66666667,  64.66666667,  64.66666667,  63.66666667,\n",
       "        66.        ,  65.66666667,  65.33333333,  65.33333333,\n",
       "        64.        ,  66.33333333,  66.        ,  66.        ,\n",
       "        65.        ,  65.        ,  64.        ,  64.        ,\n",
       "        63.66666667,  63.        ,  67.06666667,  65.33333333,\n",
       "        66.4       ,  66.33333333,  66.        ,  65.9       ,\n",
       "        64.83333333,  63.5       ,  65.33333333,  65.33333333,\n",
       "        64.33333333,  64.33333333,  63.83333333,  63.16666667,\n",
       "        66.        ,  63.66666667,  64.66666667,  64.66666667,\n",
       "        63.66666667,  66.5       ,  66.5       ,  65.83333333,\n",
       "        64.        ,  64.5       ,  64.5       ,  64.16666667,\n",
       "        64.16666667,  62.5       ,  66.5       ,  65.33333333,\n",
       "        64.5       ,  64.        ,  63.33333333,  63.33333333,\n",
       "        63.        ,  66.16666667,  65.33333333,  65.        ,\n",
       "        64.33333333,  64.        ,  64.        ,  62.66666667,\n",
       "        63.83333333,  63.33333333,  61.33333333,  65.        ,\n",
       "        63.33333333,  64.        ,  63.33333333,  63.        ,\n",
       "        64.        ,  60.83333333])"
      ]
     },
     "execution_count": 8,
     "metadata": {},
     "output_type": "execute_result"
    }
   ],
   "source": [
    "# What if we want to see the average height of each family?\n",
    "# Let's use apply with one argument to apply a function to each row."
   ]
  },
  {
   "cell_type": "code",
   "execution_count": 9,
   "id": "5af3e509",
   "metadata": {},
   "outputs": [
    {
     "data": {
      "text/html": [
       "<table border=\"1\" class=\"dataframe\">\n",
       "    <thead>\n",
       "        <tr>\n",
       "            <th>father</th> <th>mother</th> <th>child</th> <th>average</th>\n",
       "        </tr>\n",
       "    </thead>\n",
       "    <tbody>\n",
       "        <tr>\n",
       "            <td>78.5  </td> <td>67    </td> <td>73.2 </td> <td>72.9   </td>\n",
       "        </tr>\n",
       "        <tr>\n",
       "            <td>78.5  </td> <td>67    </td> <td>69.2 </td> <td>71.5667</td>\n",
       "        </tr>\n",
       "        <tr>\n",
       "            <td>78.5  </td> <td>67    </td> <td>69   </td> <td>71.5   </td>\n",
       "        </tr>\n",
       "        <tr>\n",
       "            <td>78.5  </td> <td>67    </td> <td>69   </td> <td>71.5   </td>\n",
       "        </tr>\n",
       "        <tr>\n",
       "            <td>75.5  </td> <td>66.5  </td> <td>73.5 </td> <td>71.8333</td>\n",
       "        </tr>\n",
       "        <tr>\n",
       "            <td>75.5  </td> <td>66.5  </td> <td>72.5 </td> <td>71.5   </td>\n",
       "        </tr>\n",
       "        <tr>\n",
       "            <td>75.5  </td> <td>66.5  </td> <td>65.5 </td> <td>69.1667</td>\n",
       "        </tr>\n",
       "        <tr>\n",
       "            <td>75.5  </td> <td>66.5  </td> <td>65.5 </td> <td>69.1667</td>\n",
       "        </tr>\n",
       "        <tr>\n",
       "            <td>75    </td> <td>64    </td> <td>71   </td> <td>70     </td>\n",
       "        </tr>\n",
       "        <tr>\n",
       "            <td>75    </td> <td>64    </td> <td>68   </td> <td>69     </td>\n",
       "        </tr>\n",
       "    </tbody>\n",
       "</table>\n",
       "<p>... (924 rows omitted)</p>"
      ],
      "text/plain": [
       "father | mother | child | average\n",
       "78.5   | 67     | 73.2  | 72.9\n",
       "78.5   | 67     | 69.2  | 71.5667\n",
       "78.5   | 67     | 69    | 71.5\n",
       "78.5   | 67     | 69    | 71.5\n",
       "75.5   | 66.5   | 73.5  | 71.8333\n",
       "75.5   | 66.5   | 72.5  | 71.5\n",
       "75.5   | 66.5   | 65.5  | 69.1667\n",
       "75.5   | 66.5   | 65.5  | 69.1667\n",
       "75     | 64     | 71    | 70\n",
       "75     | 64     | 68    | 69\n",
       "... (924 rows omitted)"
      ]
     },
     "execution_count": 9,
     "metadata": {},
     "output_type": "execute_result"
    }
   ],
   "source": [
    "# This is an array that we can that we can use to add a column to our table!"
   ]
  },
  {
   "cell_type": "markdown",
   "id": "cell-lec13-36",
   "metadata": {},
   "source": [
    "## Conditional Statements"
   ]
  },
  {
   "cell_type": "code",
   "execution_count": null,
   "id": "cell-lec13-37",
   "metadata": {},
   "outputs": [],
   "source": [
    "x = 20"
   ]
  },
  {
   "cell_type": "code",
   "execution_count": null,
   "id": "cell-lec13-38",
   "metadata": {},
   "outputs": [],
   "source": [
    "# Here's a conditional statement.  Notice that after if, we have a comparison expression.  \n",
    "# It's either True or False.\n",
    "# Because x >= 18 is True, code following the if line will run.\n",
    "\n",
    "if x >= 18:    \n",
    "    print('You can legally vote.')"
   ]
  },
  {
   "cell_type": "code",
   "execution_count": null,
   "id": "cell-lec13-39",
   "metadata": {},
   "outputs": [],
   "source": [
    "# Because x >= 21 is False, code following the if line will not run!\n",
    "\n",
    "if x >= 21:\n",
    "    print('You can legally drink.')"
   ]
  },
  {
   "cell_type": "code",
   "execution_count": null,
   "id": "cell-lec13-40",
   "metadata": {},
   "outputs": [],
   "source": [
    "# Conditional statements are useful in functions when you want the output behavior to be different\n",
    "# depending on the input.\n"
   ]
  },
  {
   "cell_type": "code",
   "execution_count": null,
   "id": "cell-lec13-41",
   "metadata": {},
   "outputs": [],
   "source": []
  },
  {
   "cell_type": "code",
   "execution_count": null,
   "id": "cell-lec13-42",
   "metadata": {},
   "outputs": [],
   "source": []
  },
  {
   "cell_type": "code",
   "execution_count": null,
   "id": "cell-lec13-43",
   "metadata": {},
   "outputs": [],
   "source": []
  },
  {
   "cell_type": "code",
   "execution_count": 10,
   "id": "c1a7348c",
   "metadata": {},
   "outputs": [],
   "source": [
    "# Once functions return a value, no further computation is done!\n"
   ]
  },
  {
   "cell_type": "code",
   "execution_count": 11,
   "id": "2c2a865d",
   "metadata": {},
   "outputs": [],
   "source": []
  },
  {
   "cell_type": "code",
   "execution_count": 12,
   "id": "884f1c18",
   "metadata": {},
   "outputs": [
    {
     "data": {
      "text/plain": [
       "'You can legally vote.'"
      ]
     },
     "execution_count": 12,
     "metadata": {},
     "output_type": "execute_result"
    }
   ],
   "source": []
  },
  {
   "cell_type": "code",
   "execution_count": 13,
   "id": "ab862227",
   "metadata": {},
   "outputs": [
    {
     "data": {
      "text/plain": [
       "'You can legally vote.'"
      ]
     },
     "execution_count": 13,
     "metadata": {},
     "output_type": "execute_result"
    }
   ],
   "source": []
  },
  {
   "cell_type": "code",
   "execution_count": null,
   "id": "cell-lec13-44",
   "metadata": {},
   "outputs": [],
   "source": [
    "# elif and else are ways of dealing with many cases.\n"
   ]
  },
  {
   "cell_type": "code",
   "execution_count": null,
   "id": "cell-lec13-45",
   "metadata": {},
   "outputs": [],
   "source": []
  },
  {
   "cell_type": "code",
   "execution_count": null,
   "id": "cell-lec13-46",
   "metadata": {},
   "outputs": [],
   "source": []
  },
  {
   "cell_type": "code",
   "execution_count": null,
   "id": "cell-lec13-47",
   "metadata": {},
   "outputs": [],
   "source": []
  },
  {
   "cell_type": "code",
   "execution_count": null,
   "id": "cell-lec13-48",
   "metadata": {},
   "outputs": [],
   "source": [
    "# Let's work with bike trips\n",
    "trip = Table().read_table('trip.csv')\n",
    "trip.show(3)"
   ]
  },
  {
   "cell_type": "code",
   "execution_count": null,
   "id": "cell-lec13-49",
   "metadata": {},
   "outputs": [],
   "source": [
    "# Let's write a function 'trip_kind' to classify bike trips as 'round trips' or 'one way'.\n",
    "\n",
    "# Now apply trip_kind, using 'Start Station' and 'End Station' as arguments:\n"
   ]
  },
  {
   "cell_type": "code",
   "execution_count": null,
   "id": "cell-lec13-50",
   "metadata": {},
   "outputs": [],
   "source": [
    "# For each start station, for trips under 10 minutes, how many are round trip and how many are one way?\n"
   ]
  },
  {
   "cell_type": "markdown",
   "id": "cell-lec13-51",
   "metadata": {},
   "source": [
    "## Simulation"
   ]
  },
  {
   "cell_type": "markdown",
   "id": "cell-lec13-52",
   "metadata": {},
   "source": [
    "Let's play a game: we each roll a die. \n",
    "\n",
    "If my number is bigger: you pay me a dollar.\n",
    "\n",
    "If they're the same: we do nothing.\n",
    "\n",
    "If your number is bigger: I pay you a dollar."
   ]
  },
  {
   "cell_type": "markdown",
   "id": "cell-lec13-53",
   "metadata": {},
   "source": [
    "Steps:\n",
    "1. Find a way to simulate two dice rolls.\n",
    "2. Compute how much money we win/lose based on the result.\n",
    "3. Do steps 1 and 2 10,000 times."
   ]
  },
  {
   "cell_type": "markdown",
   "id": "cell-lec13-54",
   "metadata": {},
   "source": [
    "### Conditional Statements"
   ]
  },
  {
   "cell_type": "code",
   "execution_count": null,
   "id": "cell-lec13-55",
   "metadata": {},
   "outputs": [],
   "source": [
    "# Let's play a game where we each roll a dice.  If my roll is higher than your roll, I win a dollar. \n",
    "# If your roll is higher, then I lose a dollar (to you).\n",
    "# If our rolls are tied, then I win nothing and lose nothing.\n",
    "# Work in progress:\n",
    "\n",
    "def one_round(my_roll, your_roll):\n",
    "    if my_roll > your_roll:\n",
    "        return 1"
   ]
  },
  {
   "cell_type": "code",
   "execution_count": null,
   "id": "cell-lec13-56",
   "metadata": {},
   "outputs": [],
   "source": [
    "one_round(4, 3)"
   ]
  },
  {
   "cell_type": "code",
   "execution_count": null,
   "id": "cell-lec13-57",
   "metadata": {},
   "outputs": [],
   "source": [
    "one_round(2, 6)"
   ]
  },
  {
   "cell_type": "code",
   "execution_count": null,
   "id": "cell-lec13-58",
   "metadata": {},
   "outputs": [],
   "source": [
    "# Final correct version\n",
    "def one_round(my_roll, your_roll):\n",
    "    if my_roll > your_roll:\n",
    "        return 1\n",
    "    elif your_roll > my_roll:\n",
    "        return -1\n",
    "    elif your_roll == my_roll:\n",
    "        return 0"
   ]
  },
  {
   "cell_type": "code",
   "execution_count": null,
   "id": "cell-lec13-59",
   "metadata": {},
   "outputs": [],
   "source": [
    "one_round(1, 1)"
   ]
  },
  {
   "cell_type": "code",
   "execution_count": null,
   "id": "cell-lec13-60",
   "metadata": {},
   "outputs": [],
   "source": [
    "one_round(6, 5)"
   ]
  },
  {
   "cell_type": "code",
   "execution_count": null,
   "id": "cell-lec13-61",
   "metadata": {},
   "outputs": [],
   "source": [
    "one_round(7, -1)"
   ]
  },
  {
   "cell_type": "markdown",
   "id": "cell-lec13-62",
   "metadata": {},
   "source": [
    "### Random Selection"
   ]
  },
  {
   "cell_type": "code",
   "execution_count": null,
   "id": "cell-lec13-63",
   "metadata": {},
   "outputs": [],
   "source": [
    "mornings = make_array('wake up', 'sleep in')"
   ]
  },
  {
   "cell_type": "code",
   "execution_count": null,
   "id": "cell-lec13-64",
   "metadata": {},
   "outputs": [],
   "source": [
    "np.random.choice(mornings)"
   ]
  },
  {
   "cell_type": "code",
   "execution_count": null,
   "id": "cell-lec13-65",
   "metadata": {},
   "outputs": [],
   "source": [
    "np.random.choice(mornings)"
   ]
  },
  {
   "cell_type": "code",
   "execution_count": null,
   "id": "cell-lec13-66",
   "metadata": {},
   "outputs": [],
   "source": [
    "np.random.choice(mornings)"
   ]
  },
  {
   "cell_type": "markdown",
   "id": "cell-lec13-67",
   "metadata": {},
   "source": [
    "We can also pass an argument that specifies how many times to make a random choice:"
   ]
  },
  {
   "cell_type": "code",
   "execution_count": null,
   "id": "cell-lec13-68",
   "metadata": {},
   "outputs": [],
   "source": [
    "np.random.choice(mornings, 7)"
   ]
  },
  {
   "cell_type": "code",
   "execution_count": null,
   "id": "cell-lec13-69",
   "metadata": {},
   "outputs": [],
   "source": [
    "sum(np.random.choice(mornings, 7) == 'wake up')"
   ]
  },
  {
   "cell_type": "code",
   "execution_count": null,
   "id": "cell-lec13-70",
   "metadata": {},
   "outputs": [],
   "source": [
    "sum(np.random.choice(mornings, 7) == 'sleep in')"
   ]
  },
  {
   "cell_type": "code",
   "execution_count": null,
   "id": "cell-lec13-71",
   "metadata": {},
   "outputs": [],
   "source": [
    "morning_week = np.random.choice(mornings, 7)\n",
    "morning_week"
   ]
  },
  {
   "cell_type": "code",
   "execution_count": null,
   "id": "cell-lec13-72",
   "metadata": {},
   "outputs": [],
   "source": [
    "sum(morning_week == 'wake up')"
   ]
  },
  {
   "cell_type": "code",
   "execution_count": null,
   "id": "cell-lec13-73",
   "metadata": {},
   "outputs": [],
   "source": [
    "sum(morning_week == 'sleep in')"
   ]
  },
  {
   "cell_type": "markdown",
   "id": "cell-lec13-74",
   "metadata": {},
   "source": [
    "### Simulating the roll of a die"
   ]
  },
  {
   "cell_type": "code",
   "execution_count": null,
   "id": "cell-lec13-75",
   "metadata": {},
   "outputs": [],
   "source": [
    "die_faces = np.arange(1, 7)"
   ]
  },
  {
   "cell_type": "code",
   "execution_count": null,
   "id": "cell-lec13-76",
   "metadata": {},
   "outputs": [],
   "source": [
    "np.random.choice(die_faces)"
   ]
  },
  {
   "cell_type": "code",
   "execution_count": null,
   "id": "cell-lec13-77",
   "metadata": {},
   "outputs": [],
   "source": [
    "def simulate_one_round():\n",
    "    my_roll = np.random.choice(die_faces)\n",
    "    your_roll = np.random.choice(die_faces)\n",
    "    return one_round(my_roll, your_roll)"
   ]
  },
  {
   "cell_type": "code",
   "execution_count": null,
   "id": "cell-lec13-78",
   "metadata": {},
   "outputs": [],
   "source": [
    "simulate_one_round()"
   ]
  },
  {
   "cell_type": "markdown",
   "id": "cell-lec13-79",
   "metadata": {},
   "source": [
    "### Appending Arrays"
   ]
  },
  {
   "cell_type": "code",
   "execution_count": null,
   "id": "cell-lec13-80",
   "metadata": {},
   "outputs": [],
   "source": [
    "first = np.arange(4)\n",
    "second = np.arange(10, 17)"
   ]
  },
  {
   "cell_type": "code",
   "execution_count": null,
   "id": "cell-lec13-81",
   "metadata": {},
   "outputs": [],
   "source": [
    "np.append(first, 6)"
   ]
  },
  {
   "cell_type": "code",
   "execution_count": null,
   "id": "cell-lec13-82",
   "metadata": {},
   "outputs": [],
   "source": [
    "first"
   ]
  },
  {
   "cell_type": "code",
   "execution_count": null,
   "id": "cell-lec13-83",
   "metadata": {},
   "outputs": [],
   "source": [
    "np.append(first, second)"
   ]
  },
  {
   "cell_type": "code",
   "execution_count": null,
   "id": "cell-lec13-84",
   "metadata": {},
   "outputs": [],
   "source": [
    "first"
   ]
  },
  {
   "cell_type": "code",
   "execution_count": null,
   "id": "cell-lec13-85",
   "metadata": {},
   "outputs": [],
   "source": [
    "second"
   ]
  },
  {
   "cell_type": "markdown",
   "id": "cell-lec13-86",
   "metadata": {},
   "source": [
    "### Repeated Betting ###"
   ]
  },
  {
   "cell_type": "code",
   "execution_count": null,
   "id": "cell-lec13-87",
   "metadata": {},
   "outputs": [],
   "source": [
    "results = make_array()"
   ]
  },
  {
   "cell_type": "code",
   "execution_count": null,
   "id": "cell-lec13-88",
   "metadata": {},
   "outputs": [],
   "source": [
    "results = np.append(results, simulate_one_round())\n",
    "results"
   ]
  },
  {
   "cell_type": "code",
   "execution_count": null,
   "id": "cell-lec13-89",
   "metadata": {},
   "outputs": [],
   "source": [
    "results = np.append(results, simulate_one_round())\n",
    "results"
   ]
  },
  {
   "cell_type": "markdown",
   "id": "cell-lec13-90",
   "metadata": {},
   "source": [
    "## `For` Statements"
   ]
  },
  {
   "cell_type": "code",
   "execution_count": null,
   "id": "cell-lec13-91",
   "metadata": {
    "scrolled": true
   },
   "outputs": [],
   "source": [
    "for pet in make_array('cat', 'dog', 'rabbit'):\n",
    "    print('I love my ' + pet)"
   ]
  },
  {
   "cell_type": "code",
   "execution_count": null,
   "id": "cell-lec13-92",
   "metadata": {},
   "outputs": [],
   "source": [
    "pet = make_array('cat', 'dog', 'rabbit').item(0)\n",
    "print('I love my ' + pet)\n",
    "\n",
    "pet = make_array('cat', 'dog', 'rabbit').item(1)\n",
    "print('I love my ' + pet)\n",
    "\n",
    "pet = make_array('cat', 'dog', 'rabbit').item(2)\n",
    "print('I love my ' + pet)"
   ]
  },
  {
   "cell_type": "code",
   "execution_count": null,
   "id": "cell-lec13-93",
   "metadata": {},
   "outputs": [],
   "source": [
    "game_outcomes = make_array()\n",
    "\n",
    "for i in np.arange(5):\n",
    "    game_outcomes = np.append(game_outcomes, simulate_one_round())\n",
    "    \n",
    "game_outcomes"
   ]
  },
  {
   "cell_type": "code",
   "execution_count": null,
   "id": "cell-lec13-94",
   "metadata": {},
   "outputs": [],
   "source": [
    "game_outcomes = make_array()\n",
    "\n",
    "for i in np.arange(10000):\n",
    "    game_outcomes = np.append(game_outcomes, simulate_one_round())\n",
    "    \n",
    "game_outcomes"
   ]
  },
  {
   "cell_type": "code",
   "execution_count": null,
   "id": "cell-lec13-95",
   "metadata": {},
   "outputs": [],
   "source": [
    "len(game_outcomes)"
   ]
  },
  {
   "cell_type": "code",
   "execution_count": null,
   "id": "cell-lec13-96",
   "metadata": {},
   "outputs": [],
   "source": [
    "results = Table().with_column('My winnings', game_outcomes)"
   ]
  },
  {
   "cell_type": "code",
   "execution_count": null,
   "id": "cell-lec13-97",
   "metadata": {},
   "outputs": [],
   "source": [
    "results"
   ]
  },
  {
   "cell_type": "code",
   "execution_count": null,
   "id": "cell-lec13-98",
   "metadata": {},
   "outputs": [],
   "source": [
    "results.group('My winnings').barh('My winnings')"
   ]
  },
  {
   "cell_type": "markdown",
   "id": "cell-lec13-99",
   "metadata": {
    "collapsed": true
   },
   "source": [
    "### Another example: simulating heads in 100 coin tosses"
   ]
  },
  {
   "cell_type": "code",
   "execution_count": null,
   "id": "cell-lec13-100",
   "metadata": {},
   "outputs": [],
   "source": [
    "coin = make_array('heads', 'tails')"
   ]
  },
  {
   "cell_type": "code",
   "execution_count": null,
   "id": "cell-lec13-101",
   "metadata": {},
   "outputs": [],
   "source": [
    "sum(np.random.choice(coin, 100) == 'heads')"
   ]
  },
  {
   "cell_type": "code",
   "execution_count": null,
   "id": "cell-lec13-102",
   "metadata": {},
   "outputs": [],
   "source": [
    "# Simulate one outcome\n",
    "\n",
    "def num_heads():\n",
    "    return sum(np.random.choice(coin, 100) == 'heads')"
   ]
  },
  {
   "cell_type": "code",
   "execution_count": null,
   "id": "cell-lec13-103",
   "metadata": {},
   "outputs": [],
   "source": [
    "# Decide how many times you want to repeat the experiment\n",
    "\n",
    "repetitions = 10000"
   ]
  },
  {
   "cell_type": "code",
   "execution_count": null,
   "id": "cell-lec13-104",
   "metadata": {},
   "outputs": [],
   "source": [
    "# Simulate that many outcomes\n",
    "\n",
    "outcomes = make_array()\n",
    "\n",
    "for i in np.arange(repetitions):\n",
    "    outcomes = np.append(outcomes, num_heads())"
   ]
  },
  {
   "cell_type": "code",
   "execution_count": null,
   "id": "cell-lec13-105",
   "metadata": {},
   "outputs": [],
   "source": [
    "heads = Table().with_column('Heads', outcomes)\n",
    "heads.hist(bins = np.arange(29.5, 70.6))"
   ]
  },
  {
   "cell_type": "markdown",
   "id": "cell-lec13-106",
   "metadata": {},
   "source": [
    "## Optional: Advanced `where` ##"
   ]
  },
  {
   "cell_type": "code",
   "execution_count": null,
   "id": "cell-lec13-107",
   "metadata": {},
   "outputs": [],
   "source": [
    "ages = make_array(16, 22, 18, 15, 19, 15, 16, 21)\n",
    "age = Table().with_column('Age', ages)"
   ]
  },
  {
   "cell_type": "code",
   "execution_count": null,
   "id": "cell-lec13-108",
   "metadata": {},
   "outputs": [],
   "source": [
    "age"
   ]
  },
  {
   "cell_type": "code",
   "execution_count": null,
   "id": "cell-lec13-109",
   "metadata": {},
   "outputs": [],
   "source": [
    "age.where('Age', are.above_or_equal_to(18))"
   ]
  },
  {
   "cell_type": "code",
   "execution_count": null,
   "id": "cell-lec13-110",
   "metadata": {},
   "outputs": [],
   "source": [
    "voter = ages >= 18"
   ]
  },
  {
   "cell_type": "code",
   "execution_count": null,
   "id": "cell-lec13-111",
   "metadata": {},
   "outputs": [],
   "source": [
    "voter"
   ]
  },
  {
   "cell_type": "code",
   "execution_count": null,
   "id": "cell-lec13-112",
   "metadata": {},
   "outputs": [],
   "source": [
    "age.where(voter)"
   ]
  },
  {
   "cell_type": "code",
   "execution_count": null,
   "id": "cell-lec13-113",
   "metadata": {},
   "outputs": [],
   "source": [
    "is_voter = are.above_or_equal_to(18)"
   ]
  },
  {
   "cell_type": "code",
   "execution_count": null,
   "id": "cell-lec13-114",
   "metadata": {},
   "outputs": [],
   "source": [
    "type(is_voter)"
   ]
  },
  {
   "cell_type": "code",
   "execution_count": null,
   "id": "cell-lec13-115",
   "metadata": {},
   "outputs": [],
   "source": [
    "is_voter(22)"
   ]
  },
  {
   "cell_type": "code",
   "execution_count": null,
   "id": "cell-lec13-116",
   "metadata": {},
   "outputs": [],
   "source": [
    "is_voter(3)"
   ]
  },
  {
   "cell_type": "code",
   "execution_count": null,
   "id": "cell-lec13-117",
   "metadata": {},
   "outputs": [],
   "source": [
    "age.apply(is_voter, 'Age')"
   ]
  },
  {
   "cell_type": "code",
   "execution_count": null,
   "id": "cell-lec13-118",
   "metadata": {},
   "outputs": [],
   "source": [
    "ages >= 18"
   ]
  },
  {
   "cell_type": "code",
   "execution_count": null,
   "id": "cell-lec13-119",
   "metadata": {},
   "outputs": [],
   "source": [
    "voter"
   ]
  },
  {
   "cell_type": "code",
   "execution_count": null,
   "id": "cell-lec13-120",
   "metadata": {},
   "outputs": [],
   "source": [
    "def my_voter_function(x):\n",
    "    return x >= 18"
   ]
  },
  {
   "cell_type": "code",
   "execution_count": null,
   "id": "cell-lec13-121",
   "metadata": {},
   "outputs": [],
   "source": [
    "age.where('Age', are.above_or_equal_to(18))"
   ]
  },
  {
   "cell_type": "code",
   "execution_count": null,
   "id": "cell-lec13-122",
   "metadata": {},
   "outputs": [],
   "source": [
    "age.where(voter)"
   ]
  },
  {
   "cell_type": "code",
   "execution_count": null,
   "id": "cell-lec13-123",
   "metadata": {},
   "outputs": [],
   "source": [
    "age.where('Age', my_voter_function)"
   ]
  }
 ],
 "metadata": {
  "anaconda-cloud": {},
  "kernelspec": {
   "display_name": "Python 3 (ipykernel)",
   "language": "python",
   "name": "python3"
  },
  "language_info": {
   "codemirror_mode": {
    "name": "ipython",
    "version": 3
   },
   "file_extension": ".py",
   "mimetype": "text/x-python",
   "name": "python",
   "nbconvert_exporter": "python",
   "pygments_lexer": "ipython3",
   "version": "3.10.11"
  }
 },
 "nbformat": 4,
 "nbformat_minor": 5
}
