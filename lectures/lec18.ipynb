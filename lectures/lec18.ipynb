{
 "cells": [
  {
   "cell_type": "code",
   "execution_count": null,
   "id": "cell-lec18-0",
   "metadata": {},
   "outputs": [],
   "source": [
    "from datascience import *\n",
    "import numpy as np\n",
    "\n",
    "%matplotlib inline\n",
    "import matplotlib.pyplot as plots\n",
    "plots.style.use('fivethirtyeight')"
   ]
  },
  {
   "cell_type": "markdown",
   "id": "cell-lec18-1",
   "metadata": {},
   "source": [
    "## The GSI's Defense ##"
   ]
  },
  {
   "cell_type": "code",
   "execution_count": null,
   "id": "cell-lec18-2",
   "metadata": {
    "scrolled": true
   },
   "outputs": [],
   "source": [
    "scores = Table.read_table('scores_by_section.csv')\n",
    "scores"
   ]
  },
  {
   "cell_type": "code",
   "execution_count": null,
   "id": "cell-lec18-3",
   "metadata": {},
   "outputs": [],
   "source": [
    "# How can we count the number of students taking midterms in each section?"
   ]
  },
  {
   "cell_type": "code",
   "execution_count": null,
   "id": "cell-lec18-4",
   "metadata": {},
   "outputs": [],
   "source": [
    "# How can we find the average midterm score in each section?"
   ]
  },
  {
   "cell_type": "code",
   "execution_count": null,
   "id": "cell-lec18-5",
   "metadata": {},
   "outputs": [],
   "source": [
    "# Let's store the GSI-in-question's midterm average score.  Our goal is to see how unlikely this average is if\n",
    "# we were to randomly assign students from the course to his/her section."
   ]
  },
  {
   "cell_type": "code",
   "execution_count": null,
   "id": "cell-lec18-6",
   "metadata": {},
   "outputs": [],
   "source": [
    "# Let's do one random sample of midterm scores.  Make sure the sample size is the same as the size of the GSI's \n",
    "# section."
   ]
  },
  {
   "cell_type": "code",
   "execution_count": null,
   "id": "cell-lec18-7",
   "metadata": {},
   "outputs": [],
   "source": [
    "# Let's find the average midterm score for this random sample."
   ]
  },
  {
   "cell_type": "code",
   "execution_count": null,
   "id": "cell-lec18-8",
   "metadata": {},
   "outputs": [],
   "source": [
    "# Simulate one value of the test statistic \n",
    "# under the hypothesis that the section is like a random sample from the class"
   ]
  },
  {
   "cell_type": "code",
   "execution_count": null,
   "id": "cell-lec18-9",
   "metadata": {},
   "outputs": [],
   "source": [
    "# Simulate 50,000 copies of the test statistic"
   ]
  },
  {
   "cell_type": "markdown",
   "id": "cell-lec18-10",
   "metadata": {},
   "source": [
    "## Our Decision"
   ]
  },
  {
   "cell_type": "code",
   "execution_count": null,
   "id": "cell-lec18-11",
   "metadata": {
    "scrolled": true
   },
   "outputs": [],
   "source": [
    "# Compare the simulated distribution of the statistic\n",
    "# and the actual observed statistic"
   ]
  },
  {
   "cell_type": "markdown",
   "id": "cell-lec18-12",
   "metadata": {},
   "source": [
    "### Approach 1"
   ]
  },
  {
   "cell_type": "code",
   "execution_count": null,
   "id": "cell-lec18-13",
   "metadata": {},
   "outputs": [],
   "source": [
    "# (1) Calculate the p-value: simulation area beyond observed value\n",
    "# (2) See if this is less than 5%"
   ]
  },
  {
   "cell_type": "markdown",
   "id": "cell-lec18-14",
   "metadata": {},
   "source": [
    "### Approach 2"
   ]
  },
  {
   "cell_type": "code",
   "execution_count": null,
   "id": "cell-lec18-15",
   "metadata": {},
   "outputs": [],
   "source": [
    "# (1) Find simulated value corresponding to 5% of 50,000 = 2500"
   ]
  },
  {
   "cell_type": "code",
   "execution_count": null,
   "id": "cell-lec18-16",
   "metadata": {},
   "outputs": [],
   "source": [
    "# (2) See if this value is greater than observed value"
   ]
  },
  {
   "cell_type": "markdown",
   "id": "cell-lec18-17",
   "metadata": {},
   "source": [
    "### Visual Representation"
   ]
  },
  {
   "cell_type": "code",
   "execution_count": null,
   "id": "cell-lec18-18",
   "metadata": {},
   "outputs": [],
   "source": [
    "averages_tbl.hist(bins = 20)\n",
    "plots.plot([five_percent_point, five_percent_point], [0, 0.35], color='gold', lw=2)\n",
    "plots.title('Area to the left of the gold line: 5%');\n",
    "plots.scatter(observed_average, -0.01, color='red', s=120);"
   ]
  },
  {
   "cell_type": "code",
   "execution_count": null,
   "id": "cell-lec18-19",
   "metadata": {},
   "outputs": [],
   "source": []
  }
 ],
 "metadata": {
  "anaconda-cloud": {},
  "kernelspec": {
   "display_name": "Python 3 (ipykernel)",
   "language": "python",
   "name": "python3"
  },
  "language_info": {
   "codemirror_mode": {
    "name": "ipython",
    "version": 3
   },
   "file_extension": ".py",
   "mimetype": "text/x-python",
   "name": "python",
   "nbconvert_exporter": "python",
   "pygments_lexer": "ipython3",
   "version": "3.10.11"
  }
 },
 "nbformat": 4,
 "nbformat_minor": 5
}
