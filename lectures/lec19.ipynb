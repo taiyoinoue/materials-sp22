{
 "cells": [
  {
   "cell_type": "code",
   "execution_count": null,
   "id": "cell-lec19-0",
   "metadata": {},
   "outputs": [],
   "source": [
    "from datascience import *\n",
    "import numpy as np\n",
    "\n",
    "%matplotlib inline\n",
    "import matplotlib.pyplot as plots\n",
    "plots.style.use('fivethirtyeight')"
   ]
  },
  {
   "cell_type": "markdown",
   "id": "cell-lec19-1",
   "metadata": {},
   "source": [
    "# Comparing Two Samples"
   ]
  },
  {
   "cell_type": "code",
   "execution_count": null,
   "id": "cell-lec19-2",
   "metadata": {},
   "outputs": [],
   "source": [
    "# Let's load data about births.\n",
    "births = Table.read_table('baby.csv')"
   ]
  },
  {
   "cell_type": "code",
   "execution_count": null,
   "id": "cell-lec19-3",
   "metadata": {
    "scrolled": true
   },
   "outputs": [],
   "source": [
    "# Let's examine the table\n",
    "births"
   ]
  },
  {
   "cell_type": "code",
   "execution_count": null,
   "id": "cell-lec19-4",
   "metadata": {},
   "outputs": [],
   "source": [
    "# Let's select for just the variables of interest (Maternal Smoker and Birth Weight)"
   ]
  },
  {
   "cell_type": "code",
   "execution_count": null,
   "id": "cell-lec19-5",
   "metadata": {},
   "outputs": [],
   "source": [
    "# How can we count the number of pregnancies in the table in which the mother smoked vs. didn't smoke?"
   ]
  },
  {
   "cell_type": "code",
   "execution_count": null,
   "id": "cell-lec19-6",
   "metadata": {},
   "outputs": [],
   "source": [
    "# Let's make a histogram displaying the average birth weight, grouping by Maternal Smoker."
   ]
  },
  {
   "cell_type": "markdown",
   "id": "cell-lec19-7",
   "metadata": {},
   "source": [
    "# Test Statistic\n",
    "\n",
    "[Question] What values of our statistic are in favor of the alternative: positive or negative?"
   ]
  },
  {
   "cell_type": "code",
   "execution_count": null,
   "id": "cell-lec19-8",
   "metadata": {},
   "outputs": [],
   "source": [
    "# Let's find the average birth weight in each of the Maternal Smoker groups:"
   ]
  },
  {
   "cell_type": "code",
   "execution_count": null,
   "id": "cell-lec19-9",
   "metadata": {},
   "outputs": [],
   "source": [
    "# Let's compute our statistic (average birth weight for smoking preg. - average birth weight for non-smok preg.)"
   ]
  },
  {
   "cell_type": "code",
   "execution_count": null,
   "id": "cell-lec19-10",
   "metadata": {},
   "outputs": [],
   "source": [
    "# Let's make a function to automate this process.\n",
    "def difference_of_means(table, label, group_label):\n",
    "    \"\"\"Takes: name of table, column label of numerical variable,\n",
    "    column label of group-label variable\n",
    "    Returns: Difference of means of the two groups\"\"\""
   ]
  },
  {
   "cell_type": "code",
   "execution_count": null,
   "id": "cell-lec19-11",
   "metadata": {},
   "outputs": [],
   "source": [
    "# And when we compute this for births, we should get the same answer:"
   ]
  },
  {
   "cell_type": "markdown",
   "id": "cell-lec19-12",
   "metadata": {},
   "source": [
    "# Random Permutation (Shuffling)"
   ]
  },
  {
   "cell_type": "code",
   "execution_count": null,
   "id": "cell-lec19-13",
   "metadata": {},
   "outputs": [],
   "source": [
    "# An example of shuffling the rows in a table:\n",
    "letters = Table().with_column('Letter', make_array('a', 'b', 'c', 'd', 'e'))"
   ]
  },
  {
   "cell_type": "code",
   "execution_count": null,
   "id": "cell-lec19-14",
   "metadata": {},
   "outputs": [],
   "source": [
    "letters.sample()"
   ]
  },
  {
   "cell_type": "code",
   "execution_count": null,
   "id": "cell-lec19-15",
   "metadata": {},
   "outputs": [],
   "source": [
    "letters.sample(with_replacement = False)"
   ]
  },
  {
   "cell_type": "code",
   "execution_count": null,
   "id": "cell-lec19-16",
   "metadata": {},
   "outputs": [],
   "source": [
    "letters.with_column('Shuffled', letters.sample(with_replacement = False).column(0))"
   ]
  },
  {
   "cell_type": "markdown",
   "id": "cell-lec19-17",
   "metadata": {},
   "source": [
    "# Simulation Under Null Hypothesis"
   ]
  },
  {
   "cell_type": "code",
   "execution_count": null,
   "id": "cell-lec19-19",
   "metadata": {},
   "outputs": [],
   "source": [
    "# Let's shuffle the labels for smoking and non-smoking pregnancies.  Shuffling the labels is essentially saying, \n",
    "# \"the labels smoking and non-smoking don't matter for birth weight!\" and so we're simulating the null hypothesis!"
   ]
  },
  {
   "cell_type": "code",
   "execution_count": null,
   "id": "cell-lec19-20",
   "metadata": {},
   "outputs": [],
   "source": [
    "# Let's add our shuffled label to the table:"
   ]
  },
  {
   "cell_type": "code",
   "execution_count": null,
   "id": "cell-lec19-21",
   "metadata": {},
   "outputs": [],
   "source": []
  },
  {
   "cell_type": "code",
   "execution_count": null,
   "id": "cell-lec19-22",
   "metadata": {},
   "outputs": [],
   "source": [
    "# Now we can use our already-made-function for computing the test statistic!"
   ]
  },
  {
   "cell_type": "code",
   "execution_count": null,
   "id": "cell-lec19-23",
   "metadata": {},
   "outputs": [],
   "source": []
  },
  {
   "cell_type": "markdown",
   "id": "cell-lec19-24",
   "metadata": {},
   "source": [
    "# Permutation Test"
   ]
  },
  {
   "cell_type": "code",
   "execution_count": null,
   "id": "cell-lec19-25",
   "metadata": {},
   "outputs": [],
   "source": [
    "# Let's put this simulation into a function:\n",
    "\n",
    "def one_simulated_difference(table, label, group_label):\n",
    "    \"\"\"Takes: name of table, column label of numerical variable,\n",
    "    column label of group-label variable\n",
    "    Returns: Difference of means of the two groups after shuffling labels\"\"\""
   ]
  },
  {
   "cell_type": "code",
   "execution_count": null,
   "id": "cell-lec19-27",
   "metadata": {},
   "outputs": [],
   "source": [
    "# Let's simulate a large number of times to get the empirical distribution of the test statistic under the \n",
    "# null hypothesis, storing the results of each simulation in an array:"
   ]
  },
  {
   "cell_type": "code",
   "execution_count": null,
   "id": "cell-lec19-28",
   "metadata": {},
   "outputs": [],
   "source": [
    "# And let's make a histogram of these results:"
   ]
  }
 ],
 "metadata": {
  "kernelspec": {
   "display_name": "Python 3 (ipykernel)",
   "language": "python",
   "name": "python3"
  },
  "language_info": {
   "codemirror_mode": {
    "name": "ipython",
    "version": 3
   },
   "file_extension": ".py",
   "mimetype": "text/x-python",
   "name": "python",
   "nbconvert_exporter": "python",
   "pygments_lexer": "ipython3",
   "version": "3.10.11"
  }
 },
 "nbformat": 4,
 "nbformat_minor": 5
}
