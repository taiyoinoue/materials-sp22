{
 "cells": [
  {
   "cell_type": "markdown",
   "id": "8c9406c8",
   "metadata": {},
   "source": [
    "# DAT 108 – Lecture 41 Review"
   ]
  },
  {
   "cell_type": "code",
   "execution_count": null,
   "id": "91449926",
   "metadata": {},
   "outputs": [],
   "source": [
    "import numpy as np\n",
    "from datascience import *\n",
    "\n",
    "%matplotlib inline\n",
    "import matplotlib.pyplot as plots\n",
    "plots.style.use('fivethirtyeight')\n",
    "import warnings\n",
    "warnings.simplefilter(action='ignore',category=np.VisibleDeprecationWarning)"
   ]
  },
  {
   "cell_type": "markdown",
   "id": "4f9d655a",
   "metadata": {},
   "source": [
    "## Movies Dataset"
   ]
  },
  {
   "cell_type": "code",
   "execution_count": null,
   "id": "563c073b",
   "metadata": {},
   "outputs": [],
   "source": [
    "movies = Table.read_table('movies_fakedata.csv')\n",
    "movies.show(5)"
   ]
  },
  {
   "cell_type": "code",
   "execution_count": null,
   "id": "8f6eeea8",
   "metadata": {},
   "outputs": [],
   "source": [
    "# Average revenue of all movies\n",
    "average_revenue = movies.column('Revenue').mean()\n",
    "average_revenue"
   ]
  },
  {
   "cell_type": "code",
   "execution_count": null,
   "id": "2852f928",
   "metadata": {},
   "outputs": [],
   "source": [
    "# Number of movies per genre\n",
    "movies_per_genre = movies.group('Genre')\n",
    "movies_per_genre"
   ]
  },
  {
   "cell_type": "code",
   "execution_count": null,
   "id": "e89bb36f",
   "metadata": {},
   "outputs": [],
   "source": [
    "# Average revenue per genre\n",
    "average_revenue_per_genre = movies.group('Genre', np.mean)\n",
    "average_revenue_per_genre"
   ]
  },
  {
   "cell_type": "markdown",
   "id": "00d4e329",
   "metadata": {},
   "source": [
    "## Students and Grades"
   ]
  },
  {
   "cell_type": "code",
   "execution_count": null,
   "id": "b40bc17c",
   "metadata": {},
   "outputs": [],
   "source": [
    "students = Table.read_table('students_fakedata.csv')\n",
    "grades = Table.read_table('grades_fakedata.csv')\n",
    "combined_table = students.join('Student_ID', grades, 'Student_ID')\n",
    "combined_table.show(5)"
   ]
  },
  {
   "cell_type": "code",
   "execution_count": null,
   "id": "23af976a",
   "metadata": {},
   "outputs": [],
   "source": [
    "def standard_units(x):\n",
    "    return (x - np.mean(x)) / np.std(x)"
   ]
  },
  {
   "cell_type": "code",
   "execution_count": null,
   "id": "e57dbbf6",
   "metadata": {},
   "outputs": [],
   "source": [
    "def correlation(t, x, y):\n",
    "    x_su = standard_units(t.column(x))\n",
    "    y_su = standard_units(t.column(y))\n",
    "    return np.mean(x_su * y_su)\n",
    "\n",
    "correlation(combined_table, 'Time tutored', 'Exam_Score')"
   ]
  },
  {
   "cell_type": "markdown",
   "id": "407f1a6e",
   "metadata": {},
   "source": [
    "## Survey Dataset"
   ]
  },
  {
   "cell_type": "code",
   "execution_count": null,
   "id": "4f410cb4",
   "metadata": {},
   "outputs": [],
   "source": [
    "survey = Table.read_table('survey_fakedata.csv')\n",
    "survey.show(5)"
   ]
  },
  {
   "cell_type": "code",
   "execution_count": null,
   "id": "9ece9f53",
   "metadata": {},
   "outputs": [],
   "source": [
    "# Number of students and non-students by drink\n",
    "survey.pivot('Preferred_Drink', 'Student')"
   ]
  },
  {
   "cell_type": "code",
   "execution_count": null,
   "id": "3e4560b6",
   "metadata": {},
   "outputs": [],
   "source": [
    "# Average study hours by sex and drink for students\n",
    "survey.where('Student', 1).pivot('Preferred_Drink', 'Sex', values='Study_Hours', collect=np.mean)"
   ]
  },
  {
   "cell_type": "markdown",
   "id": "ec3e1fc1",
   "metadata": {},
   "source": [
    "## Sampling"
   ]
  },
  {
   "cell_type": "code",
   "execution_count": null,
   "id": "9220d18c",
   "metadata": {},
   "outputs": [],
   "source": [
    "population = Table.read_table('population_fakedata.csv')\n",
    "# Random sample of 10\n",
    "population.sample(10)"
   ]
  },
  {
   "cell_type": "code",
   "execution_count": null,
   "id": "6eeaf047",
   "metadata": {},
   "outputs": [],
   "source": [
    "# Specific indices\n",
    "population.take([0, 9, 99])"
   ]
  },
  {
   "cell_type": "markdown",
   "id": "1f54f8d4",
   "metadata": {},
   "source": [
    "## Hypothesis Testing"
   ]
  },
  {
   "cell_type": "code",
   "execution_count": null,
   "id": "c3555ba6",
   "metadata": {},
   "outputs": [],
   "source": [
    "scores = Table.read_table('scores_fakedata.csv')\n",
    "scores.group('Method', np.mean)"
   ]
  },
  {
   "cell_type": "code",
   "execution_count": null,
   "id": "672aa0ac",
   "metadata": {},
   "outputs": [],
   "source": [
    "def difference_in_means(table):\n",
    "    group_means = table.group('Method', np.mean)\n",
    "    return group_means.where('Method', 'B').column('Score mean').item(0) - \\\n",
    "           group_means.where('Method', 'A').column('Score mean').item(0)\n",
    "\n",
    "difference_in_means(scores)"
   ]
  },
  {
   "cell_type": "code",
   "execution_count": null,
   "id": "1f612110",
   "metadata": {},
   "outputs": [],
   "source": [
    "def permuted_test_stat():\n",
    "    shuffled = scores.with_column('Shuffled', scores.sample(with_replacement=False).column('Method'))\n",
    "    shuffled_table = shuffled.select('Shuffled', 'Score').relabeled('Shuffled', 'Method')\n",
    "    return difference_in_means(shuffled_table)\n",
    "\n",
    "simulated_stats = make_array()\n",
    "repetitions = 1000\n",
    "for i in np.arange(repetitions):\n",
    "    simulated_stats = np.append(simulated_stats, permuted_test_stat())"
   ]
  },
  {
   "cell_type": "code",
   "execution_count": null,
   "id": "72cb7736",
   "metadata": {},
   "outputs": [],
   "source": [
    "type(simulated_stats), simulated_stats.shape"
   ]
  },
  {
   "cell_type": "code",
   "execution_count": null,
   "id": "16e651c0",
   "metadata": {},
   "outputs": [],
   "source": [
    "sim_table = Table().with_column('Simulated Statistic', simulated_stats)\n",
    "sim_table.hist('Simulated Statistic')\n",
    "#observed_stat = difference_in_means(scores)\n",
    "#print(\"Observed statistic:\", observed_stat)"
   ]
  },
  {
   "cell_type": "code",
   "execution_count": null,
   "id": "c4ab5f8b",
   "metadata": {},
   "outputs": [],
   "source": [
    "p_value = np.count_nonzero(simulated_stats >= observed_stat) / repetitions\n",
    "p_value"
   ]
  },
  {
   "cell_type": "code",
   "execution_count": null,
   "id": "dcf2620c",
   "metadata": {},
   "outputs": [],
   "source": []
  }
 ],
 "metadata": {
  "kernelspec": {
   "display_name": "Python 3 (ipykernel)",
   "language": "python",
   "name": "python3"
  },
  "language_info": {
   "codemirror_mode": {
    "name": "ipython",
    "version": 3
   },
   "file_extension": ".py",
   "mimetype": "text/x-python",
   "name": "python",
   "nbconvert_exporter": "python",
   "pygments_lexer": "ipython3",
   "version": "3.9.13"
  }
 },
 "nbformat": 4,
 "nbformat_minor": 5
}
