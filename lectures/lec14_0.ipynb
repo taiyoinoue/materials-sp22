{
 "cells": [
  {
   "cell_type": "code",
   "execution_count": 17,
   "id": "cell-lec13-0",
   "metadata": {},
   "outputs": [],
   "source": [
    "from datascience import *\n",
    "import numpy as np\n",
    "\n",
    "%matplotlib inline\n",
    "import matplotlib.pyplot as plots\n",
    "plots.style.use('fivethirtyeight')\n",
    "import warnings\n",
    "warnings.simplefilter(action='ignore', category=np.VisibleDeprecationWarning)"
   ]
  },
  {
   "cell_type": "markdown",
   "id": "cell-lec13-18",
   "metadata": {},
   "source": [
    "## Comparisons with arrays"
   ]
  },
  {
   "cell_type": "code",
   "execution_count": 18,
   "id": "cell-lec13-19",
   "metadata": {},
   "outputs": [],
   "source": [
    "# Let's assign an array of pets\n",
    "pets = make_array('cat', 'cat', 'dog', 'cat', 'dog', 'rabbit')"
   ]
  },
  {
   "cell_type": "code",
   "execution_count": 19,
   "id": "cell-lec13-20",
   "metadata": {},
   "outputs": [
    {
     "data": {
      "text/plain": [
       "array([False, False,  True, False,  True, False], dtype=bool)"
      ]
     },
     "execution_count": 19,
     "metadata": {},
     "output_type": "execute_result"
    }
   ],
   "source": [
    "# We can do comparison expressions for arrays.  This returns an array of booleans!\n",
    "pets == 'dog'"
   ]
  },
  {
   "cell_type": "code",
   "execution_count": 20,
   "id": "cell-lec13-21",
   "metadata": {},
   "outputs": [
    {
     "data": {
      "text/plain": [
       "True"
      ]
     },
     "execution_count": 20,
     "metadata": {},
     "output_type": "execute_result"
    }
   ],
   "source": [
    "# 'True' is equal to 1, while 'False' is equal to 0\n",
    "True == 1"
   ]
  },
  {
   "cell_type": "code",
   "execution_count": 22,
   "id": "45d427e4",
   "metadata": {},
   "outputs": [
    {
     "data": {
      "text/plain": [
       "True"
      ]
     },
     "execution_count": 22,
     "metadata": {},
     "output_type": "execute_result"
    }
   ],
   "source": [
    "False == 0"
   ]
  },
  {
   "cell_type": "code",
   "execution_count": 24,
   "id": "ab61f55d",
   "metadata": {},
   "outputs": [
    {
     "data": {
      "text/plain": [
       "2"
      ]
     },
     "execution_count": 24,
     "metadata": {},
     "output_type": "execute_result"
    }
   ],
   "source": [
    "True + True"
   ]
  },
  {
   "cell_type": "code",
   "execution_count": 25,
   "id": "cell-lec13-23",
   "metadata": {},
   "outputs": [
    {
     "data": {
      "text/plain": [
       "2"
      ]
     },
     "execution_count": 25,
     "metadata": {},
     "output_type": "execute_result"
    }
   ],
   "source": [
    "# This counts the number of entries of pets which are 'dog'\n",
    "sum(pets == 'dog')"
   ]
  },
  {
   "cell_type": "code",
   "execution_count": 22,
   "id": "b6d5db08",
   "metadata": {},
   "outputs": [
    {
     "data": {
      "text/plain": [
       "<function numpy.count_nonzero(a, axis=None, *, keepdims=False)>"
      ]
     },
     "execution_count": 22,
     "metadata": {},
     "output_type": "execute_result"
    }
   ],
   "source": [
    "# When we np.count_nonzero entries in an array full of boolean values, we are really counting the number of 'True'"
   ]
  },
  {
   "cell_type": "code",
   "execution_count": null,
   "id": "cell-lec13-25",
   "metadata": {},
   "outputs": [],
   "source": [
    "x = np.arange(20, 31)"
   ]
  },
  {
   "cell_type": "code",
   "execution_count": null,
   "id": "cell-lec13-26",
   "metadata": {
    "scrolled": true
   },
   "outputs": [],
   "source": [
    "# Can you imagine what the output will look like?\n",
    "x > 28"
   ]
  },
  {
   "cell_type": "code",
   "execution_count": null,
   "id": "cell-lec13-27",
   "metadata": {},
   "outputs": [],
   "source": [
    "# How about for this?\n",
    "sum(x > 28)"
   ]
  },
  {
   "cell_type": "markdown",
   "id": "cell-lec13-28",
   "metadata": {},
   "source": [
    "## Rows & Apply"
   ]
  },
  {
   "cell_type": "code",
   "execution_count": 2,
   "id": "cell-lec13-29",
   "metadata": {},
   "outputs": [
    {
     "data": {
      "text/html": [
       "<table border=\"1\" class=\"dataframe\">\n",
       "    <thead>\n",
       "        <tr>\n",
       "            <th>family</th> <th>father</th> <th>mother</th> <th>child</th> <th>children</th> <th>order</th> <th>sex</th>\n",
       "        </tr>\n",
       "    </thead>\n",
       "    <tbody>\n",
       "        <tr>\n",
       "            <td>1     </td> <td>78.5  </td> <td>67    </td> <td>73.2 </td> <td>4       </td> <td>1    </td> <td>male  </td>\n",
       "        </tr>\n",
       "        <tr>\n",
       "            <td>1     </td> <td>78.5  </td> <td>67    </td> <td>69.2 </td> <td>4       </td> <td>2    </td> <td>female</td>\n",
       "        </tr>\n",
       "        <tr>\n",
       "            <td>1     </td> <td>78.5  </td> <td>67    </td> <td>69   </td> <td>4       </td> <td>3    </td> <td>female</td>\n",
       "        </tr>\n",
       "    </tbody>\n",
       "</table>\n",
       "<p>... (931 rows omitted)</p>"
      ],
      "text/plain": [
       "<IPython.core.display.HTML object>"
      ]
     },
     "metadata": {},
     "output_type": "display_data"
    }
   ],
   "source": [
    "# Let's load the family heights data data\n",
    "heights = Table.read_table('family_heights.csv')\n",
    "heights.show(3)"
   ]
  },
  {
   "cell_type": "code",
   "execution_count": 1,
   "id": "cell-lec13-31",
   "metadata": {},
   "outputs": [],
   "source": [
    "# Let's grab the first row:\n"
   ]
  },
  {
   "cell_type": "code",
   "execution_count": 2,
   "id": "cell-lec13-32",
   "metadata": {},
   "outputs": [],
   "source": [
    "# The data type of a row\n"
   ]
  },
  {
   "cell_type": "code",
   "execution_count": 3,
   "id": "cell-lec13-33",
   "metadata": {},
   "outputs": [],
   "source": [
    "# You can use indices to grab entries of a row using .item:\n"
   ]
  },
  {
   "cell_type": "code",
   "execution_count": 4,
   "id": "cell-lec13-34",
   "metadata": {},
   "outputs": [],
   "source": [
    "# Or you can use column labels:\n"
   ]
  },
  {
   "cell_type": "code",
   "execution_count": 7,
   "id": "cell-lec13-35",
   "metadata": {
    "scrolled": true
   },
   "outputs": [
    {
     "data": {
      "text/html": [
       "<table border=\"1\" class=\"dataframe\">\n",
       "    <thead>\n",
       "        <tr>\n",
       "            <th>father</th> <th>mother</th> <th>child</th>\n",
       "        </tr>\n",
       "    </thead>\n",
       "    <tbody>\n",
       "        <tr>\n",
       "            <td>78.5  </td> <td>67    </td> <td>73.2 </td>\n",
       "        </tr>\n",
       "        <tr>\n",
       "            <td>78.5  </td> <td>67    </td> <td>69.2 </td>\n",
       "        </tr>\n",
       "        <tr>\n",
       "            <td>78.5  </td> <td>67    </td> <td>69   </td>\n",
       "        </tr>\n",
       "        <tr>\n",
       "            <td>78.5  </td> <td>67    </td> <td>69   </td>\n",
       "        </tr>\n",
       "        <tr>\n",
       "            <td>75.5  </td> <td>66.5  </td> <td>73.5 </td>\n",
       "        </tr>\n",
       "        <tr>\n",
       "            <td>75.5  </td> <td>66.5  </td> <td>72.5 </td>\n",
       "        </tr>\n",
       "        <tr>\n",
       "            <td>75.5  </td> <td>66.5  </td> <td>65.5 </td>\n",
       "        </tr>\n",
       "        <tr>\n",
       "            <td>75.5  </td> <td>66.5  </td> <td>65.5 </td>\n",
       "        </tr>\n",
       "        <tr>\n",
       "            <td>75    </td> <td>64    </td> <td>71   </td>\n",
       "        </tr>\n",
       "        <tr>\n",
       "            <td>75    </td> <td>64    </td> <td>68   </td>\n",
       "        </tr>\n",
       "    </tbody>\n",
       "</table>\n",
       "<p>... (924 rows omitted)</p>"
      ],
      "text/plain": [
       "father | mother | child\n",
       "78.5   | 67     | 73.2\n",
       "78.5   | 67     | 69.2\n",
       "78.5   | 67     | 69\n",
       "78.5   | 67     | 69\n",
       "75.5   | 66.5   | 73.5\n",
       "75.5   | 66.5   | 72.5\n",
       "75.5   | 66.5   | 65.5\n",
       "75.5   | 66.5   | 65.5\n",
       "75     | 64     | 71\n",
       "75     | 64     | 68\n",
       "... (924 rows omitted)"
      ]
     },
     "execution_count": 7,
     "metadata": {},
     "output_type": "execute_result"
    }
   ],
   "source": [
    "# Let's define only_heights to be a table with only the heights of father, mother, and child\n",
    "only_heights = heights.select('father', 'mother', 'child')"
   ]
  },
  {
   "cell_type": "code",
   "execution_count": 5,
   "id": "033849e8",
   "metadata": {},
   "outputs": [],
   "source": [
    "# What if we want to see the average height of each family?\n",
    "# Let's use apply with one argument to apply a function to each row."
   ]
  },
  {
   "cell_type": "code",
   "execution_count": 6,
   "id": "5af3e509",
   "metadata": {},
   "outputs": [],
   "source": [
    "# This is an array that we can that we can use to add a column to our table!"
   ]
  },
  {
   "cell_type": "markdown",
   "id": "cell-lec13-36",
   "metadata": {},
   "source": [
    "## Conditional Statements"
   ]
  },
  {
   "cell_type": "code",
   "execution_count": null,
   "id": "cell-lec13-37",
   "metadata": {},
   "outputs": [],
   "source": [
    "x = 20"
   ]
  },
  {
   "cell_type": "code",
   "execution_count": null,
   "id": "cell-lec13-38",
   "metadata": {},
   "outputs": [],
   "source": [
    "# Here's a conditional statement.  Notice that after if, we have a comparison expression.  \n",
    "# It's either True or False.\n",
    "# Because x >= 18 is True, code following the if line will run.\n",
    "\n",
    "if x >= 18:    \n",
    "    print('You can legally vote.')"
   ]
  },
  {
   "cell_type": "code",
   "execution_count": null,
   "id": "cell-lec13-39",
   "metadata": {},
   "outputs": [],
   "source": [
    "# Because x >= 21 is False, code following the if line will not run!\n",
    "\n",
    "if x >= 21:\n",
    "    print('You can legally drink.')"
   ]
  },
  {
   "cell_type": "code",
   "execution_count": null,
   "id": "cell-lec13-40",
   "metadata": {},
   "outputs": [],
   "source": [
    "# Conditional statements are useful in functions when you want the output behavior to be different\n",
    "# depending on the input.\n"
   ]
  },
  {
   "cell_type": "code",
   "execution_count": null,
   "id": "cell-lec13-41",
   "metadata": {},
   "outputs": [],
   "source": []
  },
  {
   "cell_type": "code",
   "execution_count": null,
   "id": "cell-lec13-42",
   "metadata": {},
   "outputs": [],
   "source": []
  },
  {
   "cell_type": "code",
   "execution_count": null,
   "id": "cell-lec13-43",
   "metadata": {},
   "outputs": [],
   "source": []
  },
  {
   "cell_type": "code",
   "execution_count": 10,
   "id": "c1a7348c",
   "metadata": {},
   "outputs": [],
   "source": [
    "# Once functions return a value, no further computation is done!\n"
   ]
  },
  {
   "cell_type": "code",
   "execution_count": 11,
   "id": "2c2a865d",
   "metadata": {},
   "outputs": [],
   "source": []
  },
  {
   "cell_type": "code",
   "execution_count": null,
   "id": "884f1c18",
   "metadata": {},
   "outputs": [],
   "source": []
  },
  {
   "cell_type": "code",
   "execution_count": null,
   "id": "ab862227",
   "metadata": {},
   "outputs": [],
   "source": []
  },
  {
   "cell_type": "code",
   "execution_count": null,
   "id": "cell-lec13-44",
   "metadata": {},
   "outputs": [],
   "source": [
    "# elif and else are ways of dealing with many cases.\n"
   ]
  },
  {
   "cell_type": "code",
   "execution_count": null,
   "id": "cell-lec13-45",
   "metadata": {},
   "outputs": [],
   "source": []
  },
  {
   "cell_type": "code",
   "execution_count": null,
   "id": "cell-lec13-46",
   "metadata": {},
   "outputs": [],
   "source": []
  },
  {
   "cell_type": "code",
   "execution_count": null,
   "id": "cell-lec13-47",
   "metadata": {},
   "outputs": [],
   "source": []
  },
  {
   "cell_type": "markdown",
   "id": "cell-lec13-51",
   "metadata": {},
   "source": [
    "## Simulation"
   ]
  },
  {
   "cell_type": "markdown",
   "id": "cell-lec13-52",
   "metadata": {},
   "source": [
    "Let's play a game: we each roll a die. \n",
    "\n",
    "If my number is bigger: you pay me a dollar.\n",
    "\n",
    "If they're the same: we do nothing.\n",
    "\n",
    "If your number is bigger: I pay you a dollar."
   ]
  },
  {
   "cell_type": "markdown",
   "id": "cell-lec13-53",
   "metadata": {},
   "source": [
    "Steps:\n",
    "1. Find a way to simulate two dice rolls.\n",
    "2. Compute how much money we win/lose based on the result.\n",
    "3. Do steps 1 and 2 10,000 times."
   ]
  },
  {
   "cell_type": "markdown",
   "id": "cell-lec13-54",
   "metadata": {},
   "source": [
    "### Conditional Statements"
   ]
  },
  {
   "cell_type": "code",
   "execution_count": null,
   "id": "cell-lec13-55",
   "metadata": {},
   "outputs": [],
   "source": [
    "# Let's play a game where we each roll a dice.  If my roll is higher than your roll, I win a dollar. \n",
    "# If your roll is higher, then I lose a dollar (to you).\n",
    "# If our rolls are tied, then I win nothing and lose nothing.\n",
    "# Work in progress:\n",
    "\n",
    "def one_round(my_roll, your_roll):\n",
    "    if my_roll > your_roll:\n",
    "        return 1"
   ]
  },
  {
   "cell_type": "code",
   "execution_count": null,
   "id": "cell-lec13-56",
   "metadata": {},
   "outputs": [],
   "source": [
    "one_round(4, 3)"
   ]
  },
  {
   "cell_type": "code",
   "execution_count": null,
   "id": "cell-lec13-57",
   "metadata": {},
   "outputs": [],
   "source": [
    "one_round(2, 6)"
   ]
  },
  {
   "cell_type": "code",
   "execution_count": null,
   "id": "cell-lec13-58",
   "metadata": {},
   "outputs": [],
   "source": [
    "# Final correct version\n",
    "def one_round(my_roll, your_roll):\n",
    "    if my_roll > your_roll:\n",
    "        return 1\n",
    "    elif your_roll > my_roll:\n",
    "        return -1\n",
    "    elif your_roll == my_roll:\n",
    "        return 0"
   ]
  },
  {
   "cell_type": "code",
   "execution_count": null,
   "id": "cell-lec13-59",
   "metadata": {},
   "outputs": [],
   "source": [
    "one_round(1, 1)"
   ]
  },
  {
   "cell_type": "code",
   "execution_count": null,
   "id": "cell-lec13-60",
   "metadata": {},
   "outputs": [],
   "source": [
    "one_round(6, 5)"
   ]
  },
  {
   "cell_type": "code",
   "execution_count": null,
   "id": "cell-lec13-61",
   "metadata": {},
   "outputs": [],
   "source": [
    "one_round(7, -1)"
   ]
  },
  {
   "cell_type": "markdown",
   "id": "cell-lec13-62",
   "metadata": {},
   "source": [
    "### Random Selection"
   ]
  },
  {
   "cell_type": "code",
   "execution_count": null,
   "id": "cell-lec13-63",
   "metadata": {},
   "outputs": [],
   "source": [
    "mornings = make_array('wake up', 'sleep in')"
   ]
  },
  {
   "cell_type": "code",
   "execution_count": null,
   "id": "cell-lec13-64",
   "metadata": {},
   "outputs": [],
   "source": [
    "# np.random.choice will choose a random element from the array given as argument"
   ]
  },
  {
   "cell_type": "code",
   "execution_count": null,
   "id": "cell-lec13-65",
   "metadata": {},
   "outputs": [],
   "source": [
    "# Each time np.random.choice is invoked, you will get a possibly different random output!"
   ]
  },
  {
   "cell_type": "code",
   "execution_count": null,
   "id": "cell-lec13-66",
   "metadata": {},
   "outputs": [],
   "source": []
  },
  {
   "cell_type": "code",
   "execution_count": null,
   "id": "cell-lec13-68",
   "metadata": {},
   "outputs": [],
   "source": [
    "# We can also supply an argument to specify the number of times we want to make a random choice.\n",
    "# All results are stored in an array.\n",
    "np.random.choice(mornings, 7)"
   ]
  },
  {
   "cell_type": "code",
   "execution_count": null,
   "id": "cell-lec13-69",
   "metadata": {},
   "outputs": [],
   "source": [
    "# Let's count the number of 'wake up' days in a week.\n"
   ]
  },
  {
   "cell_type": "code",
   "execution_count": null,
   "id": "cell-lec13-70",
   "metadata": {},
   "outputs": [],
   "source": [
    "# Let's count the number of 'sleep in' days in a week\n"
   ]
  },
  {
   "cell_type": "code",
   "execution_count": null,
   "id": "cell-lec13-71",
   "metadata": {},
   "outputs": [],
   "source": [
    "# If we want to count the number of 'wake up' days and the number of 'sleep in' days in the same week, \n",
    "# we should store the result of np.result.choice(mornings,7)\n",
    "morning_week = np.random.choice(mornings, 7)\n",
    "morning_week"
   ]
  },
  {
   "cell_type": "code",
   "execution_count": null,
   "id": "cell-lec13-72",
   "metadata": {},
   "outputs": [],
   "source": [
    "sum(morning_week == 'wake up')"
   ]
  },
  {
   "cell_type": "code",
   "execution_count": null,
   "id": "cell-lec13-73",
   "metadata": {},
   "outputs": [],
   "source": [
    "sum(morning_week == 'sleep in')"
   ]
  },
  {
   "cell_type": "markdown",
   "id": "cell-lec13-74",
   "metadata": {},
   "source": [
    "### Simulating the roll of a die"
   ]
  },
  {
   "cell_type": "code",
   "execution_count": null,
   "id": "cell-lec13-75",
   "metadata": {},
   "outputs": [],
   "source": [
    "# Make die_faces the numbers 1 through 6 in an array"
   ]
  },
  {
   "cell_type": "code",
   "execution_count": null,
   "id": "cell-lec13-76",
   "metadata": {},
   "outputs": [],
   "source": [
    "# Now np.random.choice(die_faces) is simulating the roll of a die."
   ]
  },
  {
   "cell_type": "code",
   "execution_count": null,
   "id": "cell-lec13-77",
   "metadata": {},
   "outputs": [],
   "source": [
    "def simulate_one_round():\n",
    "    my_roll = np.random.choice(die_faces)\n",
    "    your_roll = np.random.choice(die_faces)\n",
    "    return one_round(my_roll, your_roll)"
   ]
  },
  {
   "cell_type": "code",
   "execution_count": null,
   "id": "cell-lec13-78",
   "metadata": {},
   "outputs": [],
   "source": [
    "simulate_one_round()"
   ]
  },
  {
   "cell_type": "markdown",
   "id": "cell-lec13-79",
   "metadata": {},
   "source": [
    "### Appending Arrays"
   ]
  },
  {
   "cell_type": "code",
   "execution_count": null,
   "id": "cell-lec13-80",
   "metadata": {},
   "outputs": [],
   "source": [
    "# Here are two arrays\n",
    "first = np.arange(4)\n",
    "second = np.arange(10, 17)"
   ]
  },
  {
   "cell_type": "code",
   "execution_count": null,
   "id": "cell-lec13-81",
   "metadata": {},
   "outputs": [],
   "source": [
    "# We can append first with a value.  This places the value at the end of the array:"
   ]
  },
  {
   "cell_type": "code",
   "execution_count": null,
   "id": "cell-lec13-82",
   "metadata": {},
   "outputs": [],
   "source": [
    "# Notice though, that first didn't actually change in the above cell."
   ]
  },
  {
   "cell_type": "code",
   "execution_count": null,
   "id": "cell-lec13-83",
   "metadata": {},
   "outputs": [],
   "source": [
    "# We can also append arrays with arrays:"
   ]
  },
  {
   "cell_type": "markdown",
   "id": "cell-lec13-86",
   "metadata": {},
   "source": [
    "### Repeated Betting ###"
   ]
  },
  {
   "cell_type": "code",
   "execution_count": null,
   "id": "cell-lec13-87",
   "metadata": {},
   "outputs": [],
   "source": [
    "# Let's make results an 'empty array'.  This is an array that has no entries in it!"
   ]
  },
  {
   "cell_type": "code",
   "execution_count": null,
   "id": "cell-lec13-88",
   "metadata": {},
   "outputs": [],
   "source": [
    "# Let's append to results the simluation of one round of our dice roll game and store the outcome in result:"
   ]
  },
  {
   "cell_type": "code",
   "execution_count": null,
   "id": "cell-lec13-89",
   "metadata": {},
   "outputs": [],
   "source": [
    "# We can play over and over just by repeatedly running the cell..."
   ]
  },
  {
   "cell_type": "markdown",
   "id": "cell-lec13-90",
   "metadata": {},
   "source": [
    "## `For` Statements"
   ]
  },
  {
   "cell_type": "code",
   "execution_count": null,
   "id": "cell-lec13-91",
   "metadata": {
    "scrolled": true
   },
   "outputs": [],
   "source": [
    "# But a better way to do things over and over is to use iteration.  Here is a for-loop:\n",
    "for pet in make_array('cat', 'dog', 'rabbit'):\n",
    "    print('I love my ' + pet)"
   ]
  },
  {
   "cell_type": "code",
   "execution_count": null,
   "id": "cell-lec13-92",
   "metadata": {},
   "outputs": [],
   "source": [
    "# Here is a tiresome way to do the same thing:\n",
    "pet = make_array('cat', 'dog', 'rabbit').item(0)\n",
    "print('I love my ' + pet)\n",
    "\n",
    "pet = make_array('cat', 'dog', 'rabbit').item(1)\n",
    "print('I love my ' + pet)\n",
    "\n",
    "pet = make_array('cat', 'dog', 'rabbit').item(2)\n",
    "print('I love my ' + pet)"
   ]
  },
  {
   "cell_type": "code",
   "execution_count": null,
   "id": "cell-lec13-93",
   "metadata": {},
   "outputs": [],
   "source": [
    "# Let's write a for-loop to play our dice game 5 times."
   ]
  },
  {
   "cell_type": "code",
   "execution_count": null,
   "id": "cell-lec13-94",
   "metadata": {},
   "outputs": [],
   "source": [
    "# Let's write a for-loop to play our dice game 10000 times."
   ]
  },
  {
   "cell_type": "code",
   "execution_count": null,
   "id": "cell-lec13-95",
   "metadata": {},
   "outputs": [],
   "source": [
    "len(game_outcomes)"
   ]
  },
  {
   "cell_type": "code",
   "execution_count": null,
   "id": "cell-lec13-96",
   "metadata": {},
   "outputs": [],
   "source": [
    "results = Table().with_column('My winnings', game_outcomes)"
   ]
  },
  {
   "cell_type": "code",
   "execution_count": null,
   "id": "cell-lec13-97",
   "metadata": {},
   "outputs": [],
   "source": [
    "results"
   ]
  },
  {
   "cell_type": "code",
   "execution_count": null,
   "id": "cell-lec13-98",
   "metadata": {},
   "outputs": [],
   "source": [
    "results.group('My winnings').barh('My winnings')"
   ]
  },
  {
   "cell_type": "markdown",
   "id": "cell-lec13-99",
   "metadata": {
    "collapsed": true
   },
   "source": [
    "### Another example: simulating heads in 100 coin tosses"
   ]
  },
  {
   "cell_type": "code",
   "execution_count": null,
   "id": "cell-lec13-100",
   "metadata": {},
   "outputs": [],
   "source": [
    "# Let's simulate a coin flip."
   ]
  },
  {
   "cell_type": "code",
   "execution_count": null,
   "id": "cell-lec13-101",
   "metadata": {},
   "outputs": [],
   "source": [
    "# Let's flip the coin 100 times, then count the number of heads."
   ]
  },
  {
   "cell_type": "code",
   "execution_count": null,
   "id": "cell-lec13-102",
   "metadata": {},
   "outputs": [],
   "source": [
    "# Let's define a function num_heads() which flips a coin 100 times, then counts the number of heads."
   ]
  },
  {
   "cell_type": "code",
   "execution_count": null,
   "id": "cell-lec13-103",
   "metadata": {},
   "outputs": [],
   "source": [
    "# Decide how many times you want to repeat the experiment"
   ]
  },
  {
   "cell_type": "code",
   "execution_count": null,
   "id": "cell-lec13-104",
   "metadata": {},
   "outputs": [],
   "source": [
    "# Simulate that many outcomes by writing a for-loop which will run the experiment the number of times specified."
   ]
  },
  {
   "cell_type": "code",
   "execution_count": null,
   "id": "cell-lec13-105",
   "metadata": {},
   "outputs": [],
   "source": [
    "# Let's make a histogram!"
   ]
  }
 ],
 "metadata": {
  "anaconda-cloud": {},
  "kernelspec": {
   "display_name": "Python 3 (ipykernel)",
   "language": "python",
   "name": "python3"
  },
  "language_info": {
   "codemirror_mode": {
    "name": "ipython",
    "version": 3
   },
   "file_extension": ".py",
   "mimetype": "text/x-python",
   "name": "python",
   "nbconvert_exporter": "python",
   "pygments_lexer": "ipython3",
   "version": "3.10.11"
  }
 },
 "nbformat": 4,
 "nbformat_minor": 5
}
