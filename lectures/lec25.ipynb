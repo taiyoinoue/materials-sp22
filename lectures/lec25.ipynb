{
 "cells": [
  {
   "cell_type": "code",
   "execution_count": null,
   "id": "cell-lec25-0",
   "metadata": {},
   "outputs": [],
   "source": [
    "import matplotlib\n",
    "from datascience import *\n",
    "%matplotlib inline\n",
    "import matplotlib.pyplot as plots\n",
    "import numpy as np\n",
    "plots.style.use('fivethirtyeight')"
   ]
  },
  {
   "cell_type": "markdown",
   "id": "cell-lec25-1",
   "metadata": {},
   "source": [
    "# Lecture 25 #"
   ]
  },
  {
   "cell_type": "markdown",
   "id": "cell-lec25-2",
   "metadata": {},
   "source": [
    "## Average (Mean) ##"
   ]
  },
  {
   "cell_type": "code",
   "execution_count": null,
   "id": "cell-lec25-3",
   "metadata": {},
   "outputs": [],
   "source": [
    "# Let's make a simple array\n",
    "values = make_array(2, 3, 3, 9)\n",
    "values"
   ]
  },
  {
   "cell_type": "code",
   "execution_count": null,
   "id": "cell-lec25-4",
   "metadata": {},
   "outputs": [],
   "source": [
    "# Here's a pretty standard way to compute the average of the entries in an array:\n",
    "sum(values)/len(values)"
   ]
  },
  {
   "cell_type": "code",
   "execution_count": null,
   "id": "cell-lec25-5",
   "metadata": {},
   "outputs": [],
   "source": [
    "# Here's a faster way:\n",
    "np.average(values)"
   ]
  },
  {
   "cell_type": "code",
   "execution_count": null,
   "id": "cell-lec25-6",
   "metadata": {},
   "outputs": [],
   "source": [
    "# Here's an even faster way (less keystrokes):\n",
    "np.mean(values)"
   ]
  },
  {
   "cell_type": "code",
   "execution_count": null,
   "id": "cell-lec25-7",
   "metadata": {},
   "outputs": [],
   "source": [
    "# You can do it by hand...\n",
    "(2 + 3 + 3 + 9)/4"
   ]
  },
  {
   "cell_type": "code",
   "execution_count": null,
   "id": "cell-lec25-8",
   "metadata": {},
   "outputs": [],
   "source": [
    "# Which, if you rewrite using rules of arithmetic, shows how we are \"weighting\" each unique entry in the array\n",
    "# by the frequency with which it occurs in the array:\n",
    "2*(1/4) + 3*(2/4) + 9*(1/4)"
   ]
  },
  {
   "cell_type": "code",
   "execution_count": null,
   "id": "cell-lec25-9",
   "metadata": {},
   "outputs": [],
   "source": [
    "# Rewritten with decimals instead of fractions\n",
    "2*0.25 + 3*0.5 + 9*0.25"
   ]
  },
  {
   "cell_type": "code",
   "execution_count": null,
   "id": "cell-lec25-10",
   "metadata": {},
   "outputs": [],
   "source": [
    "# Let's make a table from our array:\n",
    "values_table = Table().with_columns('value', values)\n",
    "values_table"
   ]
  },
  {
   "cell_type": "code",
   "execution_count": null,
   "id": "cell-lec25-11",
   "metadata": {},
   "outputs": [],
   "source": [
    "# Now we can make a histogram:\n",
    "bins_for_display = np.arange(0.5, 10.6, 1)\n",
    "values_table.hist('value', bins = bins_for_display)"
   ]
  },
  {
   "cell_type": "code",
   "execution_count": null,
   "id": "cell-lec25-12",
   "metadata": {},
   "outputs": [],
   "source": [
    "## Make array of 10 2s, 20 3s, and 10 9s\n",
    "# Notice that the *proportion* of each entry in this new array is the same as the \n",
    "# proportions of those entries in the old array.\n",
    "new_vals = make_array(2, 2, 2, 2, 2, 2, 2, 2, 2, 2,\n",
    "                      3, 3, 3, 3, 3, 3, 3, 3, 3, 3, 3, 3, 3, 3, 3, 3, 3, 3, 3, 3,\n",
    "                      9, 9, 9, 9, 9, 9, 9, 9, 9, 9)"
   ]
  },
  {
   "cell_type": "code",
   "execution_count": null,
   "id": "cell-lec25-14",
   "metadata": {},
   "outputs": [],
   "source": [
    "# Compute average of old array just to remind ourselves:\n",
    "np.average(values)"
   ]
  },
  {
   "cell_type": "code",
   "execution_count": null,
   "id": "cell-lec25-15",
   "metadata": {},
   "outputs": [],
   "source": [
    "# Compute average of new array:\n",
    "np.average(new_vals)"
   ]
  },
  {
   "cell_type": "code",
   "execution_count": null,
   "id": "ab6a404e",
   "metadata": {},
   "outputs": [],
   "source": [
    "# Make histogram:\n",
    "Table().with_column('value', new_vals).hist(bins = bins_for_display)\n",
    "\n",
    "#--"
   ]
  },
  {
   "cell_type": "code",
   "execution_count": null,
   "id": "cell-lec25-16",
   "metadata": {},
   "outputs": [],
   "source": [
    "# You can think of the mean as telling you about the center of gravity of the distribution:\n",
    "Table().with_column('value', new_vals).hist(bins = bins_for_display)\n",
    "plots.ylim(-0.04, 0.5)\n",
    "plots.plot([0, 10], [0, 0], color='grey', lw=2)\n",
    "plots.scatter(4.25, -0.015, marker='^', color='red', s=100)\n",
    "plots.title('Average as a Center of Gravity');"
   ]
  },
  {
   "cell_type": "markdown",
   "id": "cell-lec25-17",
   "metadata": {},
   "source": [
    "## Standard Deviation ##"
   ]
  },
  {
   "cell_type": "code",
   "execution_count": null,
   "id": "cell-lec25-18",
   "metadata": {},
   "outputs": [],
   "source": [
    "# Let's start building out a table of standard deviations:\n",
    "sd_table = Table().with_columns('Value', values)\n",
    "sd_table"
   ]
  },
  {
   "cell_type": "code",
   "execution_count": null,
   "id": "cell-lec25-19",
   "metadata": {},
   "outputs": [],
   "source": [
    "# Let's compute the average (aka mean) of the values:\n",
    "average_value = np.mean(values)\n",
    "average_value"
   ]
  },
  {
   "cell_type": "code",
   "execution_count": null,
   "id": "cell-lec25-20",
   "metadata": {},
   "outputs": [],
   "source": [
    "# Let's compute the *deviations* of each value.  This is simply each value minus the average value.\n",
    "deviations = values - average_value\n",
    "sd_table = sd_table.with_column('Deviation', deviations)\n",
    "sd_table"
   ]
  },
  {
   "cell_type": "code",
   "execution_count": null,
   "id": "cell-lec25-21",
   "metadata": {},
   "outputs": [],
   "source": [
    "# Notice that the sum of deviations is 0.  This is ALWAYS the case, no matter what the data or distribution is.\n",
    "sum(deviations)"
   ]
  },
  {
   "cell_type": "code",
   "execution_count": null,
   "id": "cell-lec25-22",
   "metadata": {},
   "outputs": [],
   "source": [
    "# A better, more standard measure of variation of each value from the mean is the the squared deviation:\n",
    "# We are going to compute it by squaring the deviations:\n",
    "sd_table = sd_table.with_column('Squared Deviation', deviations ** 2)\n",
    "sd_table"
   ]
  },
  {
   "cell_type": "code",
   "execution_count": null,
   "id": "cell-lec25-23",
   "metadata": {},
   "outputs": [],
   "source": [
    "# Variance of the data: mean squared deviation from average\n",
    "# So we compute the mean of the squared deviations:\n",
    "\n",
    "variance = np.mean(deviations ** 2)\n",
    "variance"
   ]
  },
  {
   "cell_type": "code",
   "execution_count": null,
   "id": "cell-lec25-24",
   "metadata": {},
   "outputs": [],
   "source": [
    "# Standard Deviation (SD): \n",
    "# root mean squared deviation from average\n",
    "# = square root of the variance\n",
    "\n",
    "sd = variance ** 0.5\n",
    "sd"
   ]
  },
  {
   "cell_type": "code",
   "execution_count": null,
   "id": "cell-lec25-25",
   "metadata": {},
   "outputs": [],
   "source": [
    "np.std(values)"
   ]
  },
  {
   "cell_type": "markdown",
   "id": "cell-lec25-26",
   "metadata": {},
   "source": [
    "## Chebyshev's Bounds ##"
   ]
  },
  {
   "cell_type": "code",
   "execution_count": null,
   "id": "cell-lec25-27",
   "metadata": {},
   "outputs": [],
   "source": [
    "# The Chebyshev bounds tell us what proportion of the data is guaranteed to be within some number of \n",
    "# standard deviations from the mean, no matter what the data or distribution is!\n",
    "births = Table.read_table('baby.csv').drop('Maternal Smoker')"
   ]
  },
  {
   "cell_type": "code",
   "execution_count": null,
   "id": "cell-lec25-28",
   "metadata": {},
   "outputs": [],
   "source": [
    "births.labels"
   ]
  },
  {
   "cell_type": "code",
   "execution_count": null,
   "id": "cell-lec25-29",
   "metadata": {},
   "outputs": [],
   "source": [
    "births.hist(overlay = False)"
   ]
  },
  {
   "cell_type": "code",
   "execution_count": null,
   "id": "cell-lec25-30",
   "metadata": {},
   "outputs": [],
   "source": [
    "mpw = births.column('Maternal Pregnancy Weight')\n",
    "mean = np.mean(mpw)\n",
    "sd = np.std(mpw)\n",
    "mean, sd"
   ]
  },
  {
   "cell_type": "code",
   "execution_count": null,
   "id": "cell-lec25-31",
   "metadata": {},
   "outputs": [],
   "source": [
    "within_3_SDs = births.where(\n",
    "    'Maternal Pregnancy Weight', are.between(mean - 3*sd, mean + 3*sd))"
   ]
  },
  {
   "cell_type": "code",
   "execution_count": null,
   "id": "cell-lec25-32",
   "metadata": {},
   "outputs": [],
   "source": [
    "# Proportion within 3 SDs of the mean\n",
    "\n",
    "within_3_SDs.num_rows / births.num_rows"
   ]
  },
  {
   "cell_type": "code",
   "execution_count": null,
   "id": "cell-lec25-33",
   "metadata": {},
   "outputs": [],
   "source": [
    "# Chebyshev's bound: \n",
    "# This proportion should be at least\n",
    "\n",
    "1 - 1/3**2"
   ]
  },
  {
   "cell_type": "code",
   "execution_count": null,
   "id": "cell-lec25-34",
   "metadata": {},
   "outputs": [],
   "source": [
    "births.labels"
   ]
  },
  {
   "cell_type": "code",
   "execution_count": null,
   "id": "cell-lec25-35",
   "metadata": {},
   "outputs": [],
   "source": [
    "# See if Chebyshev's bounds work for distributions with various shapes\n",
    "\n",
    "for feature in births.labels:\n",
    "    values = births.column(feature)\n",
    "    mean = np.mean(values)\n",
    "    sd = np.std(values)\n",
    "    print()\n",
    "    print(feature)\n",
    "    for z in make_array(2, 3, 4, 5):\n",
    "        chosen = births.where(feature, are.between(mean - z*sd, mean + z*sd))\n",
    "        proportion = chosen.num_rows / births.num_rows\n",
    "        percent = round(proportion * 100, 2)\n",
    "        print('Average plus or minus', z, 'SDs:', percent, '%')"
   ]
  },
  {
   "cell_type": "markdown",
   "id": "cell-lec25-36",
   "metadata": {},
   "source": [
    "## Standard Units ##"
   ]
  },
  {
   "cell_type": "code",
   "execution_count": null,
   "id": "cell-lec25-37",
   "metadata": {},
   "outputs": [],
   "source": [
    "# Standard units is a way of re-expressing a set of data for a particular variable in units of standard deviation.\n",
    "# Let's write a function to compute it:\n",
    "\n",
    "def standard_units(x):\n",
    "    \"\"\"Convert array x to standard units.\"\"\"\n",
    "    return (x - np.mean(x)) / np.std(x)"
   ]
  },
  {
   "cell_type": "code",
   "execution_count": null,
   "id": "cell-lec25-38",
   "metadata": {},
   "outputs": [],
   "source": [
    "ages = births.column('Maternal Age')\n",
    "ages"
   ]
  },
  {
   "cell_type": "code",
   "execution_count": null,
   "id": "cell-lec25-39",
   "metadata": {},
   "outputs": [],
   "source": [
    "ages_standard_units = standard_units(ages)\n",
    "ages_standard_units"
   ]
  },
  {
   "cell_type": "code",
   "execution_count": null,
   "id": "cell-lec25-40",
   "metadata": {},
   "outputs": [],
   "source": [
    "# Notice that the mean of the data written in standard units is 0.  This is ALWAYS true.\n",
    "# Notice also that the standard deviation of the data written in standard units is 1.  This is ALWAYS true.\n",
    "np.mean(ages_standard_units), np.std(ages_standard_units)\n"
   ]
  },
  {
   "cell_type": "markdown",
   "id": "cell-lec25-41",
   "metadata": {},
   "source": [
    "## Discussion Question "
   ]
  },
  {
   "cell_type": "code",
   "execution_count": null,
   "id": "cell-lec25-42",
   "metadata": {},
   "outputs": [],
   "source": [
    "both = Table().with_columns(\n",
    "    'Age in Years', ages,\n",
    "    'Age in Standard Units', ages_standard_units\n",
    ")\n",
    "both"
   ]
  },
  {
   "cell_type": "code",
   "execution_count": null,
   "id": "cell-lec25-43",
   "metadata": {},
   "outputs": [],
   "source": [
    "np.mean(ages), np.std(ages)"
   ]
  },
  {
   "cell_type": "code",
   "execution_count": null,
   "id": "cell-lec25-44",
   "metadata": {
    "scrolled": true
   },
   "outputs": [],
   "source": [
    "both.hist('Age in Years', bins = np.arange(15, 46, 2))"
   ]
  },
  {
   "cell_type": "code",
   "execution_count": null,
   "id": "cell-lec25-45",
   "metadata": {},
   "outputs": [],
   "source": [
    "both.hist('Age in Standard Units', bins = np.arange(-2.2, 3.4, 0.35))\n",
    "plots.xlim(-2, 3.1);"
   ]
  },
  {
   "cell_type": "markdown",
   "id": "cell-lec25-46",
   "metadata": {},
   "source": [
    "## The SD and Bell Shaped Curves "
   ]
  },
  {
   "cell_type": "code",
   "execution_count": null,
   "id": "cell-lec25-47",
   "metadata": {},
   "outputs": [],
   "source": [
    "births.hist('Maternal Height', bins = np.arange(56.5, 72.6, 1))\n",
    "plots.xticks(np.arange(57, 72, 2));"
   ]
  },
  {
   "cell_type": "markdown",
   "id": "cell-lec25-48",
   "metadata": {},
   "source": [
    "Estimates by eye\n",
    "\n",
    "The average is approximately: \n",
    "\n",
    "Locate the point of inflection on the right. The SD is approximately:"
   ]
  },
  {
   "cell_type": "code",
   "execution_count": null,
   "id": "cell-lec25-49",
   "metadata": {},
   "outputs": [],
   "source": [
    "heights = births.column('Maternal Height')\n",
    "np.mean(heights), np.std(heights)"
   ]
  }
 ],
 "metadata": {
  "anaconda-cloud": {},
  "kernelspec": {
   "display_name": "Python 3 (ipykernel)",
   "language": "python",
   "name": "python3"
  },
  "language_info": {
   "codemirror_mode": {
    "name": "ipython",
    "version": 3
   },
   "file_extension": ".py",
   "mimetype": "text/x-python",
   "name": "python",
   "nbconvert_exporter": "python",
   "pygments_lexer": "ipython3",
   "version": "3.10.11"
  }
 },
 "nbformat": 4,
 "nbformat_minor": 5
}
