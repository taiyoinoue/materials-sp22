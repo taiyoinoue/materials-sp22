{
  "cells": [
    {
      "cell_type": "code",
      "execution_count": null,
      "id": "cell-hw08-0",
      "metadata": {
        "deletable": false,
        "editable": false,
        "id": "cell-hw08-0"
      },
      "outputs": [],
      "source": [
        "# Initialize Otter\n",
        "import otter\n",
        "grader = otter.Notebook(\"hw08.ipynb\")"
      ]
    },
    {
      "cell_type": "markdown",
      "id": "cell-hw08-1",
      "metadata": {
        "id": "cell-hw08-1"
      },
      "source": [
        "# Homework 8: Confidence Intervals"
      ]
    },
    {
      "cell_type": "markdown",
      "id": "cell-hw08-2",
      "metadata": {
        "id": "cell-hw08-2"
      },
      "source": [
        "**Helpful Resource:**\n",
        "\n",
        "- [Python Reference](http://data8.org/sp22/python-reference.html): Cheat sheet of helpful array & table methods used in Data 8!\n",
        "\n",
        "**Recommended Reading**:\n",
        "\n",
        "* [Estimation](https://www.inferentialthinking.com/chapters/13/Estimation)"
      ]
    },
    {
      "cell_type": "markdown",
      "id": "cell-hw08-3",
      "metadata": {
        "id": "cell-hw08-3"
      },
      "source": [
        "Please complete this notebook by filling in the cells provided. Before you begin, execute the following cell to setup the notebook by importing some helpful libraries. Each time you start your server, you will need to execute this cell again.\n",
        "\n",
        "For all problems that you must write explanations and sentences for, you **must** provide your answer in the designated space. **Moreover, throughout this homework and all future ones, please be sure to not re-assign variables throughout the notebook!** For example, if you use `max_temperature` in your answer to one question, do not reassign it later on. Otherwise, you will fail tests that you thought you were passing previously!\n",
        "\n",
        "\n",
        "**Note: This homework has hidden tests on it. That means even though the tests may say 100% passed, it doesn't mean your final grade will be 100%. We will be running more tests for correctness once everyone turns in the homework.**\n",
        "\n",
        "\n",
        "Directly sharing answers is not okay, but discussing problems with the course staff or with other students is encouraged.\n",
        "\n",
        "You should start early so that you have time to get help if you're stuck."
      ]
    },
    {
      "cell_type": "code",
      "execution_count": null,
      "id": "cell-hw08-4",
      "metadata": {
        "id": "cell-hw08-4"
      },
      "outputs": [],
      "source": [
        "# Don't change this cell; just run it.\n",
        "\n",
        "import numpy as np\n",
        "from datascience import *\n",
        "\n",
        "\n",
        "# These lines do some fancy plotting magic.\",\n",
        "import matplotlib\n",
        "%matplotlib inline\n",
        "import matplotlib.pyplot as plt\n",
        "plt.style.use('fivethirtyeight')\n",
        "import warnings\n",
        "warnings.simplefilter('ignore', FutureWarning)"
      ]
    },
    {
      "cell_type": "markdown",
      "source": [
        "## A Note on Confidence Intervals\n",
        "\n",
        "**Remember:** A *confidence interval* represents a range of numbers in which a mean (or other statistical summary statistic) is likely to be. The likelihood of the *actual* mean being within our confidence interval is defined by a percentage (or confidence level).\n",
        "\n",
        "\n",
        "This homework focuses on exploring confidence intervals from **two viewpoints**:\n",
        "\n",
        "\n",
        "1.   Constructing confidence intervals from our given data based on the assumption that our data is *normal* (meaning the underlying data is bell-shaped). This methodology requires a concept called the $z$-score, which we will go through below.\n",
        "2.   Constructing confidence intervals using a bootstrap approach. This methodology requires no real assumptions about the underlying data being normal, but rather leverages the idea that we can *sample* from a large data set to get an estimate of what our confidence intervals should be.\n",
        "\n",
        "These two methodologies are used *everywhere* in data science. You will explore data through statistical analysis, resampling, anomaly detection, and visualizations, with hands-on coding exercises and interpretive questions."
      ],
      "metadata": {
        "id": "M1sEYPCgwKeD"
      },
      "id": "M1sEYPCgwKeD"
    },
    {
      "cell_type": "markdown",
      "source": [
        "## 0. NOAA Tide Gauge Water Level Analysis\n",
        "\n",
        "This part of the homework focuses on  NOAA tidal water gauges, which provide data that Cal Maritime Oceanographer Dr. Maryam Mohammadpour uses in her research, including to understand things like tsunamis!\n",
        "\n",
        "\n",
        "\n",
        "### Part 1: Exploratory Data Analysis\n",
        "\n",
        "We're working with a dataset of water levels over time. Our goal is to identify trends and anomalies.\n",
        "\n",
        "Run the code below to load the data set."
      ],
      "metadata": {
        "id": "Q32gUvJIwTaB"
      },
      "id": "Q32gUvJIwTaB"
    },
    {
      "cell_type": "code",
      "source": [
        "data = Table.read_table('NOAA_Tide_Gauge_Water_Level_Dataset.csv')\n",
        "print(data)"
      ],
      "metadata": {
        "id": "k3F6-psuwVmZ"
      },
      "id": "k3F6-psuwVmZ",
      "execution_count": null,
      "outputs": []
    },
    {
      "cell_type": "markdown",
      "source": [
        "**Question A.** What variables do you notice in the dataset? What do you think each variable represents?"
      ],
      "metadata": {
        "id": "i9jL35xhwY_m"
      },
      "id": "i9jL35xhwY_m"
    },
    {
      "cell_type": "markdown",
      "source": [
        "*Type your answer here, replacing this text.*"
      ],
      "metadata": {
        "id": "hSzGs-uQwbvY"
      },
      "id": "hSzGs-uQwbvY"
    },
    {
      "cell_type": "markdown",
      "source": [
        "Edit the code below to compute the mean, median, and standard deviation to understand the data's central tendencies and spread."
      ],
      "metadata": {
        "id": "uIf-rMzTwcuM"
      },
      "id": "uIf-rMzTwcuM"
    },
    {
      "cell_type": "code",
      "source": [
        "water_levels = data.column('Water_Level_m')\n",
        "mean_water = np.mean(...)\n",
        "median_water = ...\n",
        "std_dev_water = ...\n",
        "print(f\"Mean: {mean_water}, Median: {median_water}, Std Dev: {std_dev_water}\")"
      ],
      "metadata": {
        "id": "9kKJHIFnwfCt"
      },
      "id": "9kKJHIFnwfCt",
      "execution_count": null,
      "outputs": []
    },
    {
      "cell_type": "markdown",
      "source": [
        "**Question B.** How does the mean help us summarize the data? Why is it important to also consider the standard deviation?\n"
      ],
      "metadata": {
        "id": "GDIyxCr1wofv"
      },
      "id": "GDIyxCr1wofv"
    },
    {
      "cell_type": "markdown",
      "source": [
        "*Type your answer here, replacing this text.*"
      ],
      "metadata": {
        "id": "bnNFIXsTwq0H"
      },
      "id": "bnNFIXsTwq0H"
    },
    {
      "cell_type": "markdown",
      "source": [
        "###Part 2: Visualizing Trends\n",
        "\n",
        "Now, we will plot the data to helps us visualize patterns over time. Run the code below."
      ],
      "metadata": {
        "id": "G6iIe0-LwtsW"
      },
      "id": "G6iIe0-LwtsW"
    },
    {
      "cell_type": "code",
      "source": [
        "# Convert 'Timestamp' to a datetime object for plotting\n",
        "data_with_datetime = data.with_column(\n",
        "    'Datetime', data.apply(lambda x: np.datetime64(x), 'Timestamp')\n",
        ")\n",
        "\n",
        "# Extract datetime and water level columns\n",
        "timestamps = data_with_datetime.column('Datetime')\n",
        "water_levels = data_with_datetime.column('Water_Level_m')\n",
        "\n",
        "# Create a line plot with improved aesthetics\n",
        "plt.figure(figsize=(12, 6))  # Larger figure size for better readability\n",
        "plt.plot(timestamps, water_levels, linewidth=1, color='blue', label='Water Level (m)')\n",
        "\n",
        "\n",
        "# Display the plot\n",
        "plt.show()"
      ],
      "metadata": {
        "id": "j6Z29Lt-wwT1"
      },
      "id": "j6Z29Lt-wwT1",
      "execution_count": null,
      "outputs": []
    },
    {
      "cell_type": "markdown",
      "source": [
        "**Question C:**\n",
        "What trends do you notice in the graph? Are there any sudden spikes or drops?"
      ],
      "metadata": {
        "id": "u3sL8QANw3JY"
      },
      "id": "u3sL8QANw3JY"
    },
    {
      "cell_type": "markdown",
      "source": [
        "*Type your answer here, replacing this text.*"
      ],
      "metadata": {
        "id": "Am39XFgRw4GV"
      },
      "id": "Am39XFgRw4GV"
    },
    {
      "cell_type": "markdown",
      "source": [
        "###Part 3: Aggregating Data\n",
        "\n",
        "Aggregating data into daily, monthly, or yearly averages helps identify broader trends. Let's now look at annual data to better understand trends over longer timescales.\n",
        "\n",
        "Run the code in the cell below."
      ],
      "metadata": {
        "id": "H1T0EK_Mw6dP"
      },
      "id": "H1T0EK_Mw6dP"
    },
    {
      "cell_type": "code",
      "source": [
        "# Extract year from Timestamp\n",
        "data_with_year = data.with_column('Year', data.apply(lambda x: x[:4], 'Timestamp'))\n",
        "\n",
        "# Group by year and calculate the mean water level for each year\n",
        "yearly_averages = data_with_year.group('Year', np.mean)\n",
        "\n",
        "# Rename the 'Water_Level_m mean' column to 'Average Water Level'\n",
        "yearly_averages = yearly_averages.relabel('Water_Level_m mean', 'Average Water Level')\n",
        "\n",
        "yearly_averages"
      ],
      "metadata": {
        "id": "swqgmiS2w_VN"
      },
      "id": "swqgmiS2w_VN",
      "execution_count": null,
      "outputs": []
    },
    {
      "cell_type": "markdown",
      "source": [
        "**Question D.** What are the benefits and drawbacks of analyzing yearly data instead of hourly?"
      ],
      "metadata": {
        "id": "REgGaqbGxBAd"
      },
      "id": "REgGaqbGxBAd"
    },
    {
      "cell_type": "markdown",
      "source": [
        "*Type your answer here, replacing this text.*"
      ],
      "metadata": {
        "id": "tJuRgrhkxBtR"
      },
      "id": "tJuRgrhkxBtR"
    },
    {
      "cell_type": "markdown",
      "source": [
        "### Part 4: Identifying Anomalies\n",
        "\n",
        "Anomalies are data points significantly different from others. These might indicate unusual events like floods or droughts.\n",
        "\n",
        "One basic way to do this is to compare our data to the mean, and then measure how far away the data is from the mean. If a data point is very far from the mean, it could be considered anomalous. In other words, it is helpful to look at:\n",
        "\n",
        "$X - \\bar{X}$\n",
        "\n",
        "where $\\bar{X}$ is the mean of $X$.\n",
        "\n",
        "First, let's edit the code below to create define  `water_level_from_mean` as the difference between `water_level` and the mean water level we found earlier."
      ],
      "metadata": {
        "id": "AAg7HJEmxGOl"
      },
      "id": "AAg7HJEmxGOl"
    },
    {
      "cell_type": "code",
      "source": [
        "# Calculate the differences by subtracting the mean\n",
        "water_level_from_mean = ...\n",
        "\n",
        "# Creat a new table with the normalized water levels\n",
        "difference_data = data_with_datetime.select('Datetime', 'Water_Level_m').with_column('Water_Level_From_Mean_m', water_level_from_mean)\n",
        "\n",
        "# Print the first few 5 rows of the new table to verify\n",
        "print(difference_data.show(5))"
      ],
      "metadata": {
        "id": "kwtF78dfxL8_"
      },
      "id": "kwtF78dfxL8_",
      "execution_count": null,
      "outputs": []
    },
    {
      "cell_type": "markdown",
      "source": [
        "Now that we have water levels measured as differences from the mean water level, we want to understand these differences in a standard way.\n",
        "\n",
        "For this, we will use our standard deviation (which is a measure of the typical spreaad of the data) as a way to \"normalize\" the `water_level_from_mean` data. This is what we call a $z$-score, which is defined by:\n",
        "\n",
        "$ \\displaystyle z = \\frac{X - \\bar{X}}{s}$\n",
        "\n",
        "where $s$ is the standard deviation of our data.\n",
        "\n",
        "Edit the code below to create a `normalized_water_level`."
      ],
      "metadata": {
        "id": "E8kHaeIBxN98"
      },
      "id": "E8kHaeIBxN98"
    },
    {
      "cell_type": "code",
      "source": [
        "normalized_water_level = ...\n",
        "\n",
        "# Creat a new table with the normalized water levels\n",
        "normalized_data = difference_data.with_column('Normalized_Water_Level', normalized_water_level)\n",
        "\n",
        "# Print the first few rows of the new table to verify\n",
        "print(normalized_data.show(5))"
      ],
      "metadata": {
        "id": "dqbuGSxzxRPJ"
      },
      "id": "dqbuGSxzxRPJ",
      "execution_count": null,
      "outputs": []
    },
    {
      "cell_type": "markdown",
      "source": [
        "Notice the differences between the three water level columns in this data table. These are simply three different ways to display the same data.\n",
        "\n",
        "The normalized data, however, is nice to consider because we have a general understanding of data like this:\n",
        "\n",
        "\n",
        "*   **Numbers that are bigger than 2** (in absolute value) represent data that is outside of the middle 95% (approximately) of data (if the data is *normal* or shaped like a bell curve). In other words, these data are in the **top 5% of possible anomalies or outliers**.\n",
        "*   **Numbers that are bigger than 3** (in absolute value) represent data that is outside of the middle 99% (approximately) of data (if the data is *normal* or shaped like a bell curve). In other words, these data are in the **top 1% of possible anomalies or outliers**.\n",
        "\n",
        "\n",
        " Edit the code below to filter our data to just include data strictly above 3 in absolute value."
      ],
      "metadata": {
        "id": "jO7UlbpMxWfv"
      },
      "id": "jO7UlbpMxWfv"
    },
    {
      "cell_type": "code",
      "source": [
        "# Filter the normalized data to remove values between -3 and 3\n",
        "anomaly_data = normalized_data.where(\n",
        "    abs(normalized_data.column('Normalized_Water_Level') )>...\n",
        ")\n",
        "\n",
        "# Print the first few rows of the filtered data\n",
        "print(anomaly_data.show(5))"
      ],
      "metadata": {
        "id": "u1hQa32JxYOY"
      },
      "id": "u1hQa32JxYOY",
      "execution_count": null,
      "outputs": []
    },
    {
      "cell_type": "markdown",
      "source": [
        "Now let's plot these potential anomalies:\n"
      ],
      "metadata": {
        "id": "r0X7vfZAxeNu"
      },
      "id": "r0X7vfZAxeNu"
    },
    {
      "cell_type": "code",
      "source": [
        "# Create the scatter plot\n",
        "\n",
        "plt.scatter(anomaly_data.column('Datetime'), anomaly_data.column('Water_Level_m'), color='red', label='Anomalies')\n",
        "plt.xlabel('Year')\n",
        "plt.ylabel('Water Level (m)')\n",
        "plt.title('Scatter Plot of Water Levels Over Time')\n",
        "plt.legend()\n",
        "plt.show()"
      ],
      "metadata": {
        "id": "RqXyxuCexfVl"
      },
      "id": "RqXyxuCexfVl",
      "execution_count": null,
      "outputs": []
    },
    {
      "cell_type": "markdown",
      "source": [
        "**Question E.** What might cause the anomalies you identified? Are these anomalies clustered during specific times?"
      ],
      "metadata": {
        "id": "gUfkY66Axks6"
      },
      "id": "gUfkY66Axks6"
    },
    {
      "cell_type": "markdown",
      "source": [
        "*Type your answer here, replacing this text.*"
      ],
      "metadata": {
        "id": "yScFHDPMxmma"
      },
      "id": "yScFHDPMxmma"
    },
    {
      "cell_type": "markdown",
      "source": [
        "### Part 5: Confidence Intervals\n",
        "\n",
        "A confidence interval provides a range where the true mean is likely to fall. To define these, we choose a *confidence level* (such as 95%) that corresponds to the likelihood that the true mean lies within within the interval we are going to find. In this scenario, we again use a $z$-score but in reverse of what we just did for the anomaly data:\n",
        "\n",
        "\n",
        "\n",
        "*   **Choosing 95%** means that $z$ is approximately 2.\n",
        "*   **Choosing 99%** means that $z$ is approximately 3.\n",
        "\n",
        "Then, we can define a margin of error for our confidence interval using the formula:\n",
        "\n",
        "margin of error $\\displaystyle = z\\frac{s}{\\sqrt{n}}$\n",
        "\n",
        "where again $s$ represents the standard deviation of our data, and $n$ is the number of data points in our data set. Another name for $\\frac{s}{\\sqrt{n}}$ is the *standard error*.\n",
        "\n",
        "Edit the code below to find our margin of error for our original water gauge data, assuming we want to use a 95% confidence level.\n"
      ],
      "metadata": {
        "id": "879gNqfRxood"
      },
      "id": "879gNqfRxood"
    },
    {
      "cell_type": "code",
      "source": [
        "z = 2\n",
        "margin_of_error = ...\n",
        "print(f\"Margin of Error: {margin_of_error}\")"
      ],
      "metadata": {
        "id": "z68sRu1WxsXk"
      },
      "id": "z68sRu1WxsXk",
      "execution_count": null,
      "outputs": []
    },
    {
      "cell_type": "markdown",
      "source": [
        "Now let's compute our 95% confidence interval by editing the code below."
      ],
      "metadata": {
        "id": "aMtBqGq8xug-"
      },
      "id": "aMtBqGq8xug-"
    },
    {
      "cell_type": "code",
      "source": [
        "lower_bound = mean_water - margin_of_error\n",
        "upper_bound = mean_water + ...\n",
        "print(f\"Confidence Interval: [{lower_bound}, {upper_bound}]\")"
      ],
      "metadata": {
        "id": "jH3HYL0vxxfZ"
      },
      "id": "jH3HYL0vxxfZ",
      "execution_count": null,
      "outputs": []
    },
    {
      "cell_type": "markdown",
      "source": [
        "Now try re-running the two code cells above, but for a 99% confidence interval.\n",
        "\n",
        "\n",
        "**Question F.** How does increasing the confidence level affect the interval? Why?\n"
      ],
      "metadata": {
        "id": "2b5XFXEtx1On"
      },
      "id": "2b5XFXEtx1On"
    },
    {
      "cell_type": "markdown",
      "source": [
        "*Type your answer here, replacing this text.*"
      ],
      "metadata": {
        "id": "HSHzpTZvx2HY"
      },
      "id": "HSHzpTZvx2HY"
    },
    {
      "cell_type": "markdown",
      "id": "cell-hw08-5",
      "metadata": {
        "id": "cell-hw08-5"
      },
      "source": [
        "## 1. Thai Restaurants in Berkeley"
      ]
    },
    {
      "cell_type": "markdown",
      "id": "cell-hw08-6",
      "metadata": {
        "id": "cell-hw08-6"
      },
      "source": [
        "Now we turn to a different way to view a similar problem: bootstrapped confidence intervals.\n",
        "\n",
        "Oswaldo and Varun are trying to see what the best Thai restaurant in Berkeley is. They survey 1,500 UC Berkeley students selected uniformly at random and ask each student what Thai restaurant is the best. (*Note: This data is fabricated for the purposes of this homework.*) The choices of Thai restaurants are [Lucky House](https://www.google.com/maps/place/Lucky+House+Thai+Cuisine/@37.8707428,-122.270045,15.32z/data=!4m5!3m4!1s0x80857e9e69a8c921:0x7b6d80f58406fb26!8m2!3d37.8721393!4d-122.2672699), [Imm Thai](https://www.google.com/maps/place/Imm+Thai+Street+Food/@37.8704926,-122.2687372,15.51z/data=!4m5!3m4!1s0x80857e9eec4f1e63:0x5f54d96f0dccdb72!8m2!3d37.8719079!4d-122.2691186), [Thai Temple](https://www.google.com/maps/place/Wat+Mongkolratanaram/@37.8689514,-122.2698649,14.75z/data=!4m5!3m4!1s0x80857e886e39daf1:0xe309caa1b5710fc0!8m2!3d37.8563633!4d-122.2707584), and [Thai Basil](https://www.google.com/maps/place/Thai+Basil/@37.8691911,-122.266539,15.37z/data=!4m5!3m4!1s0x80857c2f6ae0e2f1:0x6978b6e8a72d58d4!8m2!3d37.868327!4d-122.258081). After compiling the results, Oswaldo and Varun release the following percentages from their sample:\n",
        "\n",
        "|Thai Restaurant  | Percentage|\n",
        "|:------------:|:------------:|\n",
        "|Lucky House | 8% |\n",
        "|Imm Thai | 53% |\n",
        "|Thai Temple | 25% |\n",
        "|Thai Basil | 14% |\n",
        "\n",
        "These percentages represent a uniform random sample of the population of UC Berkeley students. We will attempt to estimate the corresponding *parameters*, or the percentage of the votes that each restaurant will receive from the population (i.e. all UC Berkeley students). We will use confidence intervals to compute a range of values that reflects the uncertainty of our estimates.\n",
        "\n",
        "The table `votes` contains the results of Oswaldo and Varun's survey."
      ]
    },
    {
      "cell_type": "code",
      "execution_count": null,
      "id": "cell-hw08-7",
      "metadata": {
        "deletable": false,
        "editable": false,
        "id": "cell-hw08-7"
      },
      "outputs": [],
      "source": [
        "# Just run this cell\n",
        "votes = Table.read_table('votes.csv')\n",
        "votes"
      ]
    },
    {
      "cell_type": "markdown",
      "id": "cell-hw08-8",
      "metadata": {
        "deletable": false,
        "editable": false,
        "id": "cell-hw08-8"
      },
      "source": [
        "**Question 1.1.** Complete the function `one_resampled_percentage` below. It should return Imm Thai's ***percentage*** of votes after taking the original table (`tbl`) and performing one bootstrap sample of it. Reminder that a percentage is between 0 and 100. **(9 Points)**\n",
        "\n",
        "*Note:* `tbl` will always be in the same format as `votes`.\n",
        "\n",
        "*Hint:* Given a table of votes, how can you figure out what percentage of the votes are for a certain restaurant? **Be sure to use percentages, not proportions, for this question!**\n"
      ]
    },
    {
      "cell_type": "code",
      "execution_count": null,
      "id": "cell-hw08-9",
      "metadata": {
        "tags": [],
        "id": "cell-hw08-9"
      },
      "outputs": [],
      "source": [
        "def one_resampled_percentage(tbl):\n",
        "    ...\n",
        "\n",
        "one_resampled_percentage(votes)"
      ]
    },
    {
      "cell_type": "code",
      "execution_count": null,
      "id": "cell-hw08-10",
      "metadata": {
        "deletable": false,
        "editable": false,
        "id": "cell-hw08-10"
      },
      "outputs": [],
      "source": [
        "grader.check(\"q1_1\")"
      ]
    },
    {
      "cell_type": "markdown",
      "id": "cell-hw08-11",
      "metadata": {
        "deletable": false,
        "editable": false,
        "id": "cell-hw08-11"
      },
      "source": [
        "**Question 1.2.** Complete the `percentages_in_resamples` function such that it simulates and returns an array of 2022 elements, where each element represents a bootstrapped estimate of the percentage of voters who will vote for Imm Thai. You should use the `one_resampled_percentage` function you wrote above. **(9 Points)**\n"
      ]
    },
    {
      "cell_type": "code",
      "execution_count": null,
      "id": "cell-hw08-12",
      "metadata": {
        "for_assignment_type": "solution",
        "tags": [],
        "id": "cell-hw08-12"
      },
      "outputs": [],
      "source": [
        "def percentages_in_resamples():\n",
        "    percentage_imm = make_array()\n",
        "    ..."
      ]
    },
    {
      "cell_type": "code",
      "execution_count": null,
      "id": "cell-hw08-13",
      "metadata": {
        "deletable": false,
        "editable": false,
        "id": "cell-hw08-13"
      },
      "outputs": [],
      "source": [
        "grader.check(\"q1_2\")"
      ]
    },
    {
      "cell_type": "markdown",
      "id": "cell-hw08-14",
      "metadata": {
        "id": "cell-hw08-14"
      },
      "source": [
        "In the following cell, we run the function you just defined, `percentages_in_resamples`, and create a histogram of the calculated statistic for the 2022 bootstrap estimates of the percentage of voters who voted for Imm Thai.\n",
        "\n",
        "*Note:* This might take a few seconds to run."
      ]
    },
    {
      "cell_type": "code",
      "execution_count": null,
      "id": "cell-hw08-15",
      "metadata": {
        "id": "cell-hw08-15"
      },
      "outputs": [],
      "source": [
        "resampled_percentages = percentages_in_resamples()\n",
        "Table().with_column('Estimated Percentage', resampled_percentages).hist(\"Estimated Percentage\")"
      ]
    },
    {
      "cell_type": "markdown",
      "id": "cell-hw08-16",
      "metadata": {
        "deletable": false,
        "editable": false,
        "id": "cell-hw08-16"
      },
      "source": [
        "**Question 1.3.** Using the array `resampled_percentages`, find the values at the two edges of the middle 95% of the bootstrapped percentage estimates. Compute the lower and upper ends of the interval, named `imm_lower_bound` and `imm_upper_bound` respectively. **(9 Points)**\n",
        "\n",
        "*Hint:* If you are stuck on this question, try looking over [Chapter 13](https://inferentialthinking.com/chapters/13/Estimation.html) of the textbook.\n"
      ]
    },
    {
      "cell_type": "code",
      "execution_count": null,
      "id": "cell-hw08-17",
      "metadata": {
        "deletable": false,
        "tags": [],
        "id": "cell-hw08-17"
      },
      "outputs": [],
      "source": [
        "imm_lower_bound = ...\n",
        "imm_upper_bound = ...\n",
        "print(f\"Bootstrapped 95% confidence interval for the percentage of Imm Thai voters in the population: [{imm_lower_bound:.2f}, {imm_upper_bound:.2f}]\")"
      ]
    },
    {
      "cell_type": "code",
      "execution_count": null,
      "id": "cell-hw08-18",
      "metadata": {
        "deletable": false,
        "editable": false,
        "id": "cell-hw08-18"
      },
      "outputs": [],
      "source": [
        "grader.check(\"q1_3\")"
      ]
    },
    {
      "cell_type": "markdown",
      "id": "cell-hw08-19",
      "metadata": {
        "deletable": false,
        "editable": false,
        "id": "cell-hw08-19"
      },
      "source": [
        "**Question 1.4.** The survey results seem to indicate that Imm Thai is beating all the other Thai restaurants among the voters. We would like to use confidence intervals to determine a range of likely values for Imm Thai's true lead over all the other restaurants combined. The calculation for Imm Thai's lead over Lucky House, Thai Temple, and Thai Basil combined is:\n",
        "\n",
        "$$\\text{Imm Thai's percent of the vote} - (\\text{100 percent} - \\text{Imm Thai's percent of vote})$$\n",
        "\n",
        "Define the function `one_resampled_difference` that returns **exactly one value** of Imm Thai's percentage lead over Lucky House, Thai Temple, and Thai Basil combined from one bootstrap sample of `tbl`. **(9 Points)**\n",
        "\n",
        "*Hint 1:* Imm Thai's lead can be negative.\n",
        "\n",
        "*Hint 2:* Given a table of votes, how can you figure out what percentage of the votes are for a certain restaurant? **Be sure to use percentages, not proportions, for this question!**\n",
        "\n",
        "*Note:* If the skeleton code provided within the function is not helpful for you, feel free to approach the question using your own variables.\n"
      ]
    },
    {
      "cell_type": "code",
      "execution_count": null,
      "id": "cell-hw08-20",
      "metadata": {
        "tags": [],
        "id": "cell-hw08-20"
      },
      "outputs": [],
      "source": [
        "def one_resampled_difference(tbl):\n",
        "    bootstrap = ...\n",
        "    imm_percentage = ...\n",
        "    ..."
      ]
    },
    {
      "cell_type": "code",
      "execution_count": null,
      "id": "cell-hw08-21",
      "metadata": {
        "deletable": false,
        "editable": false,
        "id": "cell-hw08-21"
      },
      "outputs": [],
      "source": [
        "grader.check(\"q1_4\")"
      ]
    },
    {
      "cell_type": "markdown",
      "id": "cell-hw08-22",
      "metadata": {
        "deletable": false,
        "editable": false,
        "id": "cell-hw08-22"
      },
      "source": [
        "<!-- BEGIN QUESTION -->\n",
        "\n",
        "**Question 1.5.** Write a function called `leads_in_resamples` that returns an array of 2022 elements representing the bootstrapped estimates (the result of calling `one_resampled_difference`) of Imm Thai's lead over Lucky House, Thai Temple, and Thai Basil combined. Afterwards, run the cell to plot a histogram of the resulting samples. **(9 Points)**\n",
        "\n",
        "*Hint:* If you see an error involving `NoneType`, consider what components a function needs to have!\n"
      ]
    },
    {
      "cell_type": "code",
      "execution_count": null,
      "id": "cell-hw08-23",
      "metadata": {
        "for_assignment_type": "solution",
        "tags": [],
        "id": "cell-hw08-23"
      },
      "outputs": [],
      "source": [
        "def leads_in_resamples():\n",
        "    ...\n",
        "\n",
        "sampled_leads = leads_in_resamples()\n",
        "Table().with_column('Estimated Lead', sampled_leads).hist(\"Estimated Lead\")"
      ]
    },
    {
      "cell_type": "markdown",
      "id": "cell-hw08-24",
      "metadata": {
        "deletable": false,
        "editable": false,
        "id": "cell-hw08-24"
      },
      "source": [
        "<!-- END QUESTION -->\n",
        "\n",
        "**Question 1.6.** Use the simulated data in `sampled_leads` from Question 1.5 to compute an approximate 95% confidence interval for Imm Thai's true lead over Lucky House, Thai Temple, and Thai Basil combined. **(9 Points)**\n"
      ]
    },
    {
      "cell_type": "code",
      "execution_count": null,
      "id": "cell-hw08-25",
      "metadata": {
        "deletable": false,
        "tags": [],
        "id": "cell-hw08-25"
      },
      "outputs": [],
      "source": [
        "diff_lower_bound = ...\n",
        "diff_upper_bound = ...\n",
        "print(\"Bootstrapped 95% confidence interval for Imm Thai's true lead over Lucky House, Thai Temple, and Thai Basil combined: [{:f}%, {:f}%]\".format(diff_lower_bound, diff_upper_bound))"
      ]
    },
    {
      "cell_type": "code",
      "execution_count": null,
      "id": "cell-hw08-26",
      "metadata": {
        "deletable": false,
        "editable": false,
        "id": "cell-hw08-26"
      },
      "outputs": [],
      "source": [
        "grader.check(\"q1_6\")"
      ]
    },
    {
      "cell_type": "markdown",
      "id": "cell-hw08-27",
      "metadata": {
        "id": "cell-hw08-27"
      },
      "source": [
        "## 2. Interpreting Confidence Intervals"
      ]
    },
    {
      "cell_type": "markdown",
      "id": "cell-hw08-28",
      "metadata": {
        "id": "cell-hw08-28"
      },
      "source": [
        "The staff computed the following 95% confidence interval for the percentage of Imm Thai voters:\n",
        "\n",
        "$$[50.53, 55.53]$$\n",
        "\n",
        "(Your answer may have been a bit different due to randomness; that doesn't mean it was wrong!)"
      ]
    },
    {
      "cell_type": "markdown",
      "id": "cell-hw08-29",
      "metadata": {
        "deletable": false,
        "editable": false,
        "id": "cell-hw08-29"
      },
      "source": [
        "<!-- BEGIN QUESTION -->\n",
        "\n",
        "**Question 2.1.** The staff also created 70%, 90%, and 99% confidence intervals from the same sample, but we forgot to label which confidence interval represented which percentages! **First**, match each confidence level (70%, 90%, 99%) with its corresponding interval in the cell below (e.g. __ % CI: [52.1, 54] $\\rightarrow$ replace the blank with one of the three confidence levels). **Then**, explain your thought process and how you came up with your answers. **(10 Points)**\n",
        "\n",
        "The intervals are below:\n",
        "\n",
        "* [50.03, 55.94]\n",
        "* [52.1, 54]\n",
        "* [50.97, 54.99]\n",
        "\n"
      ]
    },
    {
      "cell_type": "markdown",
      "id": "cell-hw08-30",
      "metadata": {
        "id": "cell-hw08-30"
      },
      "source": [
        "_Type your answer here, replacing this text._"
      ]
    },
    {
      "cell_type": "markdown",
      "id": "cell-hw08-31",
      "metadata": {
        "deletable": false,
        "editable": false,
        "id": "cell-hw08-31"
      },
      "source": [
        "<!-- END QUESTION -->\n",
        "\n",
        "**Question 2.2.** Suppose we produced 6,000 new samples (each one a new/distinct uniform random sample of 1,500 students) from the population and created a 95% confidence interval from each one. Roughly how many of those 6,000 intervals do you expect will actually contain the true percentage of the population? **(9 Points)**\n",
        "\n",
        "Assign your answer to `true_percentage_intervals`.\n"
      ]
    },
    {
      "cell_type": "code",
      "execution_count": null,
      "id": "cell-hw08-32",
      "metadata": {
        "deletable": false,
        "tags": [],
        "id": "cell-hw08-32"
      },
      "outputs": [],
      "source": [
        "true_percentage_intervals = ..."
      ]
    },
    {
      "cell_type": "code",
      "execution_count": null,
      "id": "cell-hw08-33",
      "metadata": {
        "deletable": false,
        "editable": false,
        "id": "cell-hw08-33"
      },
      "outputs": [],
      "source": [
        "grader.check(\"q2_2\")"
      ]
    },
    {
      "cell_type": "markdown",
      "id": "cell-hw08-34",
      "metadata": {
        "id": "cell-hw08-34"
      },
      "source": [
        "Recall the second bootstrap confidence interval you created, which estimated Imm Thai's lead over Lucky House, Thai Temple, and Thai Basil combined. Among\n",
        "voters in the sample, Imm Thai's lead was 6%. The staff's 95% confidence interval for the true lead (in the population of all voters) was:\n",
        "\n",
        "$$[1.2, 11.2]$$\n",
        "\n",
        "Suppose we are interested in testing a simple yes-or-no question:\n",
        "\n",
        "> \"Is the percentage of votes for Imm Thai equal to the percentage of votes for Lucky House, Thai Temple, and Thai Basil combined?\"\n",
        "\n",
        "Our null hypothesis is that the percentages are equal, or equivalently, that Imm Thai's lead is exactly 0. Our alternative hypothesis is that Imm Thai's lead is not equal to 0.  In the questions below, don't compute any confidence interval yourself—use only the staff's 95% confidence interval."
      ]
    },
    {
      "cell_type": "markdown",
      "id": "cell-hw08-35",
      "metadata": {
        "deletable": false,
        "editable": false,
        "id": "cell-hw08-35"
      },
      "source": [
        "**Question 2.3.** Say we use a 5% p-value cutoff. Do we reject the null, fail to reject the null, or are we unable to tell using the staff's confidence interval? **(9 Points)**\n",
        "\n",
        "Assign `cutoff_five_percent` to the number corresponding to the correct answer.\n",
        "\n",
        "1. Reject the null / Data is consistent with the alternative hypothesis\n",
        "2. Fail to reject the null / Data is consistent with the null hypothesis\n",
        "3. Unable to tell using our staff confidence interval\n",
        "\n",
        "*Hint:* Consider the relationship between the p-value cutoff and confidence. If you're confused, take a look at [this chapter](https://inferentialthinking.com/chapters/13/4/Using_Confidence_Intervals.html) of the textbook.\n"
      ]
    },
    {
      "cell_type": "code",
      "execution_count": null,
      "id": "cell-hw08-36",
      "metadata": {
        "deletable": false,
        "tags": [],
        "id": "cell-hw08-36"
      },
      "outputs": [],
      "source": [
        "cutoff_five_percent = ..."
      ]
    },
    {
      "cell_type": "code",
      "execution_count": null,
      "id": "cell-hw08-37",
      "metadata": {
        "deletable": false,
        "editable": false,
        "id": "cell-hw08-37"
      },
      "outputs": [],
      "source": [
        "grader.check(\"q2_3\")"
      ]
    },
    {
      "cell_type": "markdown",
      "id": "cell-hw08-38",
      "metadata": {
        "deletable": false,
        "editable": false,
        "id": "cell-hw08-38"
      },
      "source": [
        "**Question 2.4.** What if, instead, we use a p-value cutoff of 1%? Do we reject the null, fail to reject the null, or are we unable to tell using our staff confidence interval? **(9 Points)**\n",
        "\n",
        "Assign `cutoff_one_percent` to the number corresponding to the correct answer.\n",
        "\n",
        "1. Reject the null / Data is consistent with the alternative hypothesis\n",
        "2. Fail to reject the null / Data is consistent with the null hypothesis\n",
        "3. Unable to tell using our staff confidence interval\n"
      ]
    },
    {
      "cell_type": "code",
      "execution_count": null,
      "id": "cell-hw08-39",
      "metadata": {
        "deletable": false,
        "tags": [],
        "id": "cell-hw08-39"
      },
      "outputs": [],
      "source": [
        "cutoff_one_percent = ..."
      ]
    },
    {
      "cell_type": "code",
      "execution_count": null,
      "id": "cell-hw08-40",
      "metadata": {
        "deletable": false,
        "editable": false,
        "id": "cell-hw08-40"
      },
      "outputs": [],
      "source": [
        "grader.check(\"q2_4\")"
      ]
    },
    {
      "cell_type": "markdown",
      "id": "cell-hw08-41",
      "metadata": {
        "deletable": false,
        "editable": false,
        "id": "cell-hw08-41"
      },
      "source": [
        "**Question 2.5.** What if we use a p-value cutoff of 10%? Do we reject, fail to reject, or are we unable to tell using our confidence interval? **(9 Points)**\n",
        "\n",
        "Assign `cutoff_ten_percent` to the number corresponding to the correct answer.\n",
        "\n",
        "1. Reject the null / Data is consistent with the alternative hypothesis\n",
        "2. Fail to reject the null / Data is consistent with the null hypothesis\n",
        "3. Unable to tell using our staff confidence interval\n"
      ]
    },
    {
      "cell_type": "code",
      "execution_count": null,
      "id": "cell-hw08-42",
      "metadata": {
        "deletable": false,
        "tags": [],
        "id": "cell-hw08-42"
      },
      "outputs": [],
      "source": [
        "cutoff_ten_percent = ..."
      ]
    },
    {
      "cell_type": "code",
      "execution_count": null,
      "id": "cell-hw08-43",
      "metadata": {
        "deletable": false,
        "editable": false,
        "id": "cell-hw08-43"
      },
      "outputs": [],
      "source": [
        "grader.check(\"q2_5\")"
      ]
    },
    {
      "cell_type": "markdown",
      "id": "cell-hw08-44",
      "metadata": {
        "id": "cell-hw08-44"
      },
      "source": [
        "You're done with Homework 8!  \n",
        "\n",
        "**Important submission steps:**\n",
        "1. Run the tests and verify that they all pass.\n",
        "2. Choose **Save Notebook** from the **File** menu, then **run the final cell**.\n",
        "3. Click the link to download the zip file.\n",
        "4. Then submit the zip file to the corresponding assignment according to your instructor's directions.\n",
        "\n",
        "**It is your responsibility to make sure your work is saved before running the last cell.**"
      ]
    },
    {
      "cell_type": "markdown",
      "id": "cell-hw08-45",
      "metadata": {
        "deletable": false,
        "editable": false,
        "id": "cell-hw08-45"
      },
      "source": [
        "## Submission\n",
        "\n",
        "Make sure you have run all cells in your notebook in order before running the cell below, so that all images/graphs appear in the output. The cell below will generate a zip file for you to submit. **Please save before exporting!**"
      ]
    },
    {
      "cell_type": "code",
      "execution_count": null,
      "id": "cell-hw08-46",
      "metadata": {
        "deletable": false,
        "editable": false,
        "id": "cell-hw08-46"
      },
      "outputs": [],
      "source": [
        "# Save your notebook first, then run this cell to export your submission.\n",
        "grader.export(run_tests=True)"
      ]
    },
    {
      "cell_type": "markdown",
      "id": "cell-hw08-47",
      "metadata": {
        "id": "cell-hw08-47"
      },
      "source": [
        ""
      ]
    }
  ],
  "metadata": {
    "kernelspec": {
      "display_name": "Python 3 (ipykernel)",
      "language": "python",
      "name": "python3"
    },
    "language_info": {
      "codemirror_mode": {
        "name": "ipython",
        "version": 3
      },
      "file_extension": ".py",
      "mimetype": "text/x-python",
      "name": "python",
      "nbconvert_exporter": "python",
      "pygments_lexer": "ipython3",
      "version": "3.9.12"
    },
    "otter": {
      "OK_FORMAT": true,
      "tests": {
        "q1_1": {
          "name": "q1_1",
          "points": [
            0,
            0,
            2
          ],
          "suites": [
            {
              "cases": [
                {
                  "code": ">>> type(one_resampled_percentage(votes)) in set([float, np.float64])\nTrue",
                  "hidden": false,
                  "locked": false
                },
                {
                  "code": ">>> one_resampled_percentage(votes) <= 0\nFalse",
                  "hidden": false,
                  "locked": false
                },
                {
                  "code": ">>> 35 <= one_resampled_percentage(votes) <= 65\nTrue",
                  "hidden": false,
                  "locked": false
                }
              ],
              "scored": true,
              "setup": "",
              "teardown": "",
              "type": "doctest"
            }
          ]
        },
        "q1_2": {
          "name": "q1_2",
          "points": [
            0
          ],
          "suites": [
            {
              "cases": [
                {
                  "code": ">>> len(percentages_in_resamples()) == 2022\nTrue",
                  "hidden": false,
                  "locked": false
                }
              ],
              "scored": true,
              "setup": "",
              "teardown": "",
              "type": "doctest"
            }
          ]
        },
        "q1_3": {
          "name": "q1_3",
          "points": [
            0
          ],
          "suites": [
            {
              "cases": [
                {
                  "code": ">>> 45 <= imm_lower_bound <= imm_upper_bound <= 65\nTrue",
                  "hidden": false,
                  "locked": false
                }
              ],
              "scored": true,
              "setup": "",
              "teardown": "",
              "type": "doctest"
            }
          ]
        },
        "q1_4": {
          "name": "q1_4",
          "points": [
            0
          ],
          "suites": [
            {
              "cases": [
                {
                  "code": ">>> type(one_resampled_difference(votes)) in set([float, np.float64])\nTrue",
                  "hidden": false,
                  "locked": false
                }
              ],
              "scored": true,
              "setup": "",
              "teardown": "",
              "type": "doctest"
            }
          ]
        },
        "q1_6": {
          "name": "q1_6",
          "points": [
            0
          ],
          "suites": [
            {
              "cases": [
                {
                  "code": ">>> -5 <= diff_lower_bound <= diff_upper_bound <= 20\nTrue",
                  "hidden": false,
                  "locked": false
                }
              ],
              "scored": true,
              "setup": "",
              "teardown": "",
              "type": "doctest"
            }
          ]
        },
        "q2_2": {
          "name": "q2_2",
          "points": [
            0
          ],
          "suites": [
            {
              "cases": [
                {
                  "code": ">>> 1000 <= true_percentage_intervals <= 10000\nTrue",
                  "hidden": false,
                  "locked": false
                }
              ],
              "scored": true,
              "setup": "",
              "teardown": "",
              "type": "doctest"
            }
          ]
        },
        "q2_3": {
          "name": "q2_3",
          "points": [
            0,
            0,
            0
          ],
          "suites": [
            {
              "cases": [
                {
                  "code": ">>> 1 <= cutoff_five_percent <= 3\nTrue",
                  "hidden": false,
                  "locked": false
                },
                {
                  "code": ">>> cutoff_five_percent == 3\nFalse",
                  "hidden": false,
                  "locked": false
                },
                {
                  "code": ">>> cutoff_five_percent == 2\nFalse",
                  "hidden": false,
                  "locked": false
                }
              ],
              "scored": true,
              "setup": "",
              "teardown": "",
              "type": "doctest"
            }
          ]
        },
        "q2_4": {
          "name": "q2_4",
          "points": [
            0
          ],
          "suites": [
            {
              "cases": [
                {
                  "code": ">>> 1 <= cutoff_one_percent <= 3\nTrue",
                  "hidden": false,
                  "locked": false
                }
              ],
              "scored": true,
              "setup": "",
              "teardown": "",
              "type": "doctest"
            }
          ]
        },
        "q2_5": {
          "name": "q2_5",
          "points": [
            0
          ],
          "suites": [
            {
              "cases": [
                {
                  "code": ">>> 1 <= cutoff_ten_percent <= 3\nTrue",
                  "hidden": false,
                  "locked": false
                }
              ],
              "scored": true,
              "setup": "",
              "teardown": "",
              "type": "doctest"
            }
          ]
        }
      }
    },
    "colab": {
      "provenance": []
    }
  },
  "nbformat": 4,
  "nbformat_minor": 5
}